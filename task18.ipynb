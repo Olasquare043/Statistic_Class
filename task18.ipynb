{
 "cells": [
  {
   "cell_type": "markdown",
   "id": "7fe0dde6",
   "metadata": {},
   "source": [
    "# TASK 18"
   ]
  },
  {
   "cell_type": "markdown",
   "id": "37d9cf81",
   "metadata": {},
   "source": [
    "**The task is to perform statistical analysis using this dataset. https://www.kaggle.com/datasets/abrambeyer/openintro-possum. To document in detail, the interpretation of the results from all the measures of centre, all measures of spread,  and outlier detection mechanisms. And to be intuitive about the statistical insight and information that can be getton from the data.**"
   ]
  },
  {
   "cell_type": "markdown",
   "id": "d1497083",
   "metadata": {},
   "source": [
    "## Data injection"
   ]
  },
  {
   "cell_type": "code",
   "execution_count": 1,
   "id": "673133d5",
   "metadata": {},
   "outputs": [],
   "source": [
    "# importing libries\n",
    "import pandas as pd\n",
    "import numpy as np\n",
    "import  matplotlib.pyplot as plt\n",
    "\n",
    "# load the data\n",
    "df=pd.read_csv(\"possum.csv\")"
   ]
  },
  {
   "cell_type": "markdown",
   "id": "5f2425c9",
   "metadata": {},
   "source": [
    "## Pleminary Data Analysis "
   ]
  },
  {
   "cell_type": "markdown",
   "id": "deb6af00",
   "metadata": {},
   "source": [
    "### Checking the snapshot of the data"
   ]
  },
  {
   "cell_type": "code",
   "execution_count": 2,
   "id": "74b9fe71",
   "metadata": {},
   "outputs": [
    {
     "data": {
      "text/html": [
       "<div>\n",
       "<style scoped>\n",
       "    .dataframe tbody tr th:only-of-type {\n",
       "        vertical-align: middle;\n",
       "    }\n",
       "\n",
       "    .dataframe tbody tr th {\n",
       "        vertical-align: top;\n",
       "    }\n",
       "\n",
       "    .dataframe thead th {\n",
       "        text-align: right;\n",
       "    }\n",
       "</style>\n",
       "<table border=\"1\" class=\"dataframe\">\n",
       "  <thead>\n",
       "    <tr style=\"text-align: right;\">\n",
       "      <th></th>\n",
       "      <th>case</th>\n",
       "      <th>site</th>\n",
       "      <th>Pop</th>\n",
       "      <th>sex</th>\n",
       "      <th>age</th>\n",
       "      <th>hdlngth</th>\n",
       "      <th>skullw</th>\n",
       "      <th>totlngth</th>\n",
       "      <th>taill</th>\n",
       "      <th>footlgth</th>\n",
       "      <th>earconch</th>\n",
       "      <th>eye</th>\n",
       "      <th>chest</th>\n",
       "      <th>belly</th>\n",
       "    </tr>\n",
       "  </thead>\n",
       "  <tbody>\n",
       "    <tr>\n",
       "      <th>0</th>\n",
       "      <td>1</td>\n",
       "      <td>1</td>\n",
       "      <td>Vic</td>\n",
       "      <td>m</td>\n",
       "      <td>8.0</td>\n",
       "      <td>94.1</td>\n",
       "      <td>60.4</td>\n",
       "      <td>89.0</td>\n",
       "      <td>36.0</td>\n",
       "      <td>74.5</td>\n",
       "      <td>54.5</td>\n",
       "      <td>15.2</td>\n",
       "      <td>28.0</td>\n",
       "      <td>36.0</td>\n",
       "    </tr>\n",
       "    <tr>\n",
       "      <th>1</th>\n",
       "      <td>2</td>\n",
       "      <td>1</td>\n",
       "      <td>Vic</td>\n",
       "      <td>f</td>\n",
       "      <td>6.0</td>\n",
       "      <td>92.5</td>\n",
       "      <td>57.6</td>\n",
       "      <td>91.5</td>\n",
       "      <td>36.5</td>\n",
       "      <td>72.5</td>\n",
       "      <td>51.2</td>\n",
       "      <td>16.0</td>\n",
       "      <td>28.5</td>\n",
       "      <td>33.0</td>\n",
       "    </tr>\n",
       "    <tr>\n",
       "      <th>2</th>\n",
       "      <td>3</td>\n",
       "      <td>1</td>\n",
       "      <td>Vic</td>\n",
       "      <td>f</td>\n",
       "      <td>6.0</td>\n",
       "      <td>94.0</td>\n",
       "      <td>60.0</td>\n",
       "      <td>95.5</td>\n",
       "      <td>39.0</td>\n",
       "      <td>75.4</td>\n",
       "      <td>51.9</td>\n",
       "      <td>15.5</td>\n",
       "      <td>30.0</td>\n",
       "      <td>34.0</td>\n",
       "    </tr>\n",
       "    <tr>\n",
       "      <th>3</th>\n",
       "      <td>4</td>\n",
       "      <td>1</td>\n",
       "      <td>Vic</td>\n",
       "      <td>f</td>\n",
       "      <td>6.0</td>\n",
       "      <td>93.2</td>\n",
       "      <td>57.1</td>\n",
       "      <td>92.0</td>\n",
       "      <td>38.0</td>\n",
       "      <td>76.1</td>\n",
       "      <td>52.2</td>\n",
       "      <td>15.2</td>\n",
       "      <td>28.0</td>\n",
       "      <td>34.0</td>\n",
       "    </tr>\n",
       "    <tr>\n",
       "      <th>4</th>\n",
       "      <td>5</td>\n",
       "      <td>1</td>\n",
       "      <td>Vic</td>\n",
       "      <td>f</td>\n",
       "      <td>2.0</td>\n",
       "      <td>91.5</td>\n",
       "      <td>56.3</td>\n",
       "      <td>85.5</td>\n",
       "      <td>36.0</td>\n",
       "      <td>71.0</td>\n",
       "      <td>53.2</td>\n",
       "      <td>15.1</td>\n",
       "      <td>28.5</td>\n",
       "      <td>33.0</td>\n",
       "    </tr>\n",
       "  </tbody>\n",
       "</table>\n",
       "</div>"
      ],
      "text/plain": [
       "   case  site  Pop sex  age  hdlngth  skullw  totlngth  taill  footlgth  \\\n",
       "0     1     1  Vic   m  8.0     94.1    60.4      89.0   36.0      74.5   \n",
       "1     2     1  Vic   f  6.0     92.5    57.6      91.5   36.5      72.5   \n",
       "2     3     1  Vic   f  6.0     94.0    60.0      95.5   39.0      75.4   \n",
       "3     4     1  Vic   f  6.0     93.2    57.1      92.0   38.0      76.1   \n",
       "4     5     1  Vic   f  2.0     91.5    56.3      85.5   36.0      71.0   \n",
       "\n",
       "   earconch   eye  chest  belly  \n",
       "0      54.5  15.2   28.0   36.0  \n",
       "1      51.2  16.0   28.5   33.0  \n",
       "2      51.9  15.5   30.0   34.0  \n",
       "3      52.2  15.2   28.0   34.0  \n",
       "4      53.2  15.1   28.5   33.0  "
      ]
     },
     "execution_count": 2,
     "metadata": {},
     "output_type": "execute_result"
    }
   ],
   "source": [
    "df.head()"
   ]
  },
  {
   "cell_type": "code",
   "execution_count": 3,
   "id": "7e21c851",
   "metadata": {},
   "outputs": [
    {
     "data": {
      "text/html": [
       "<div>\n",
       "<style scoped>\n",
       "    .dataframe tbody tr th:only-of-type {\n",
       "        vertical-align: middle;\n",
       "    }\n",
       "\n",
       "    .dataframe tbody tr th {\n",
       "        vertical-align: top;\n",
       "    }\n",
       "\n",
       "    .dataframe thead th {\n",
       "        text-align: right;\n",
       "    }\n",
       "</style>\n",
       "<table border=\"1\" class=\"dataframe\">\n",
       "  <thead>\n",
       "    <tr style=\"text-align: right;\">\n",
       "      <th></th>\n",
       "      <th>case</th>\n",
       "      <th>site</th>\n",
       "      <th>Pop</th>\n",
       "      <th>sex</th>\n",
       "      <th>age</th>\n",
       "      <th>hdlngth</th>\n",
       "      <th>skullw</th>\n",
       "      <th>totlngth</th>\n",
       "      <th>taill</th>\n",
       "      <th>footlgth</th>\n",
       "      <th>earconch</th>\n",
       "      <th>eye</th>\n",
       "      <th>chest</th>\n",
       "      <th>belly</th>\n",
       "    </tr>\n",
       "  </thead>\n",
       "  <tbody>\n",
       "    <tr>\n",
       "      <th>99</th>\n",
       "      <td>100</td>\n",
       "      <td>7</td>\n",
       "      <td>other</td>\n",
       "      <td>m</td>\n",
       "      <td>1.0</td>\n",
       "      <td>89.5</td>\n",
       "      <td>56.0</td>\n",
       "      <td>81.5</td>\n",
       "      <td>36.5</td>\n",
       "      <td>66.0</td>\n",
       "      <td>46.8</td>\n",
       "      <td>14.8</td>\n",
       "      <td>23.0</td>\n",
       "      <td>27.0</td>\n",
       "    </tr>\n",
       "    <tr>\n",
       "      <th>100</th>\n",
       "      <td>101</td>\n",
       "      <td>7</td>\n",
       "      <td>other</td>\n",
       "      <td>m</td>\n",
       "      <td>1.0</td>\n",
       "      <td>88.6</td>\n",
       "      <td>54.7</td>\n",
       "      <td>82.5</td>\n",
       "      <td>39.0</td>\n",
       "      <td>64.4</td>\n",
       "      <td>48.0</td>\n",
       "      <td>14.0</td>\n",
       "      <td>25.0</td>\n",
       "      <td>33.0</td>\n",
       "    </tr>\n",
       "    <tr>\n",
       "      <th>101</th>\n",
       "      <td>102</td>\n",
       "      <td>7</td>\n",
       "      <td>other</td>\n",
       "      <td>f</td>\n",
       "      <td>6.0</td>\n",
       "      <td>92.4</td>\n",
       "      <td>55.0</td>\n",
       "      <td>89.0</td>\n",
       "      <td>38.0</td>\n",
       "      <td>63.5</td>\n",
       "      <td>45.4</td>\n",
       "      <td>13.0</td>\n",
       "      <td>25.0</td>\n",
       "      <td>30.0</td>\n",
       "    </tr>\n",
       "    <tr>\n",
       "      <th>102</th>\n",
       "      <td>103</td>\n",
       "      <td>7</td>\n",
       "      <td>other</td>\n",
       "      <td>m</td>\n",
       "      <td>4.0</td>\n",
       "      <td>91.5</td>\n",
       "      <td>55.2</td>\n",
       "      <td>82.5</td>\n",
       "      <td>36.5</td>\n",
       "      <td>62.9</td>\n",
       "      <td>45.9</td>\n",
       "      <td>15.4</td>\n",
       "      <td>25.0</td>\n",
       "      <td>29.0</td>\n",
       "    </tr>\n",
       "    <tr>\n",
       "      <th>103</th>\n",
       "      <td>104</td>\n",
       "      <td>7</td>\n",
       "      <td>other</td>\n",
       "      <td>f</td>\n",
       "      <td>3.0</td>\n",
       "      <td>93.6</td>\n",
       "      <td>59.9</td>\n",
       "      <td>89.0</td>\n",
       "      <td>40.0</td>\n",
       "      <td>67.6</td>\n",
       "      <td>46.0</td>\n",
       "      <td>14.8</td>\n",
       "      <td>28.5</td>\n",
       "      <td>33.5</td>\n",
       "    </tr>\n",
       "  </tbody>\n",
       "</table>\n",
       "</div>"
      ],
      "text/plain": [
       "     case  site    Pop sex  age  hdlngth  skullw  totlngth  taill  footlgth  \\\n",
       "99    100     7  other   m  1.0     89.5    56.0      81.5   36.5      66.0   \n",
       "100   101     7  other   m  1.0     88.6    54.7      82.5   39.0      64.4   \n",
       "101   102     7  other   f  6.0     92.4    55.0      89.0   38.0      63.5   \n",
       "102   103     7  other   m  4.0     91.5    55.2      82.5   36.5      62.9   \n",
       "103   104     7  other   f  3.0     93.6    59.9      89.0   40.0      67.6   \n",
       "\n",
       "     earconch   eye  chest  belly  \n",
       "99       46.8  14.8   23.0   27.0  \n",
       "100      48.0  14.0   25.0   33.0  \n",
       "101      45.4  13.0   25.0   30.0  \n",
       "102      45.9  15.4   25.0   29.0  \n",
       "103      46.0  14.8   28.5   33.5  "
      ]
     },
     "execution_count": 3,
     "metadata": {},
     "output_type": "execute_result"
    }
   ],
   "source": [
    "df.tail()"
   ]
  },
  {
   "cell_type": "markdown",
   "id": "d4b71520",
   "metadata": {},
   "source": [
    "## Data cleaning"
   ]
  },
  {
   "cell_type": "markdown",
   "id": "d3768ae3",
   "metadata": {},
   "source": [
    "### Let check and clean the data if needed"
   ]
  },
  {
   "cell_type": "code",
   "execution_count": 4,
   "id": "6b064e6c",
   "metadata": {},
   "outputs": [
    {
     "data": {
      "text/plain": [
       "case        0\n",
       "site        0\n",
       "Pop         0\n",
       "sex         0\n",
       "age         2\n",
       "hdlngth     0\n",
       "skullw      0\n",
       "totlngth    0\n",
       "taill       0\n",
       "footlgth    1\n",
       "earconch    0\n",
       "eye         0\n",
       "chest       0\n",
       "belly       0\n",
       "dtype: int64"
      ]
     },
     "execution_count": 4,
     "metadata": {},
     "output_type": "execute_result"
    }
   ],
   "source": [
    "df.isnull().sum()"
   ]
  },
  {
   "cell_type": "code",
   "execution_count": 5,
   "id": "16384d56",
   "metadata": {},
   "outputs": [
    {
     "data": {
      "text/plain": [
       "case        0\n",
       "site        0\n",
       "Pop         0\n",
       "sex         0\n",
       "age         2\n",
       "hdlngth     0\n",
       "skullw      0\n",
       "totlngth    0\n",
       "taill       0\n",
       "footlgth    1\n",
       "earconch    0\n",
       "eye         0\n",
       "chest       0\n",
       "belly       0\n",
       "dtype: int64"
      ]
     },
     "execution_count": 5,
     "metadata": {},
     "output_type": "execute_result"
    }
   ],
   "source": [
    "df.isna().sum()"
   ]
  },
  {
   "cell_type": "code",
   "execution_count": 6,
   "id": "f0f40f51",
   "metadata": {},
   "outputs": [],
   "source": [
    "# let fill the missing values with mean\n",
    "\n",
    "# for age with 2 missing value\n",
    "df['age']=df['age'].fillna(df['age'].mean())\n",
    "\n",
    "# for footlght with 1 missing value\n",
    "df['footlgth']=df['footlgth'].fillna(df['footlgth'].mean())\n"
   ]
  },
  {
   "cell_type": "code",
   "execution_count": 7,
   "id": "796dfead",
   "metadata": {},
   "outputs": [
    {
     "data": {
      "text/plain": [
       "case        0\n",
       "site        0\n",
       "Pop         0\n",
       "sex         0\n",
       "age         0\n",
       "hdlngth     0\n",
       "skullw      0\n",
       "totlngth    0\n",
       "taill       0\n",
       "footlgth    0\n",
       "earconch    0\n",
       "eye         0\n",
       "chest       0\n",
       "belly       0\n",
       "dtype: int64"
      ]
     },
     "execution_count": 7,
     "metadata": {},
     "output_type": "execute_result"
    }
   ],
   "source": [
    "df.isna().sum()"
   ]
  },
  {
   "cell_type": "code",
   "execution_count": 8,
   "id": "622dc737",
   "metadata": {},
   "outputs": [
    {
     "data": {
      "text/html": [
       "<div>\n",
       "<style scoped>\n",
       "    .dataframe tbody tr th:only-of-type {\n",
       "        vertical-align: middle;\n",
       "    }\n",
       "\n",
       "    .dataframe tbody tr th {\n",
       "        vertical-align: top;\n",
       "    }\n",
       "\n",
       "    .dataframe thead th {\n",
       "        text-align: right;\n",
       "    }\n",
       "</style>\n",
       "<table border=\"1\" class=\"dataframe\">\n",
       "  <thead>\n",
       "    <tr style=\"text-align: right;\">\n",
       "      <th></th>\n",
       "      <th>case</th>\n",
       "      <th>site</th>\n",
       "      <th>Pop</th>\n",
       "      <th>sex</th>\n",
       "      <th>age</th>\n",
       "      <th>hdlngth</th>\n",
       "      <th>skullw</th>\n",
       "      <th>totlngth</th>\n",
       "      <th>taill</th>\n",
       "      <th>footlgth</th>\n",
       "      <th>earconch</th>\n",
       "      <th>eye</th>\n",
       "      <th>chest</th>\n",
       "      <th>belly</th>\n",
       "    </tr>\n",
       "  </thead>\n",
       "  <tbody>\n",
       "  </tbody>\n",
       "</table>\n",
       "</div>"
      ],
      "text/plain": [
       "Empty DataFrame\n",
       "Columns: [case, site, Pop, sex, age, hdlngth, skullw, totlngth, taill, footlgth, earconch, eye, chest, belly]\n",
       "Index: []"
      ]
     },
     "execution_count": 8,
     "metadata": {},
     "output_type": "execute_result"
    }
   ],
   "source": [
    "# let check for duplicate if exist\n",
    "df.duplicated().sum() \n",
    "\n",
    "# Standardize gender data for any case mistyped\n",
    "df[df['sex']==df['sex'].str.upper()] #checking\n",
    "# df['sex'] = df['sex'].str.lower().str.strip()"
   ]
  },
  {
   "cell_type": "code",
   "execution_count": 9,
   "id": "10fbcdaf",
   "metadata": {},
   "outputs": [
    {
     "data": {
      "text/plain": [
       "case          int64\n",
       "site          int64\n",
       "Pop          object\n",
       "sex          object\n",
       "age         float64\n",
       "hdlngth     float64\n",
       "skullw      float64\n",
       "totlngth    float64\n",
       "taill       float64\n",
       "footlgth    float64\n",
       "earconch    float64\n",
       "eye         float64\n",
       "chest       float64\n",
       "belly       float64\n",
       "dtype: object"
      ]
     },
     "execution_count": 9,
     "metadata": {},
     "output_type": "execute_result"
    }
   ],
   "source": [
    "# Make sure each column has the correct type (int, float, object, datetime)\n",
    "df.dtypes"
   ]
  },
  {
   "cell_type": "markdown",
   "id": "a81706c0",
   "metadata": {},
   "source": [
    "## Descriptive Data Analysis"
   ]
  },
  {
   "cell_type": "markdown",
   "id": "84a7c4f5",
   "metadata": {},
   "source": [
    "### My focus will be on Sex, totlngth (total lenght), tail, footlgth (foot lenght),  and eyes"
   ]
  },
  {
   "cell_type": "code",
   "execution_count": 10,
   "id": "96d93b54",
   "metadata": {},
   "outputs": [
    {
     "data": {
      "text/plain": [
       "Index(['case', 'site', 'Pop', 'sex', 'age', 'hdlngth', 'skullw', 'totlngth',\n",
       "       'taill', 'footlgth', 'earconch', 'eye', 'chest', 'belly'],\n",
       "      dtype='object')"
      ]
     },
     "execution_count": 10,
     "metadata": {},
     "output_type": "execute_result"
    }
   ],
   "source": [
    "df.columns"
   ]
  },
  {
   "cell_type": "code",
   "execution_count": null,
   "id": "828149ec",
   "metadata": {},
   "outputs": [],
   "source": [
    "# I will like to rename some column for clearity\n",
    "df.rename(columns={ \n",
    "    'hdlngth' : 'head_lenght',\n",
    "    'totlngth':'total_length',\n",
    "    'taill': 'tail',\n",
    "    'footlgth': 'foot_length'\n",
    "},inplace=True)"
   ]
  },
  {
   "cell_type": "code",
   "execution_count": 12,
   "id": "9f78e28d",
   "metadata": {},
   "outputs": [
    {
     "data": {
      "text/plain": [
       "Index(['case', 'site', 'Pop', 'sex', 'age', 'hdlngth', 'skullw',\n",
       "       'total_length', 'tail', 'foot_length', 'earconch', 'eye', 'chest',\n",
       "       'belly'],\n",
       "      dtype='object')"
      ]
     },
     "execution_count": 12,
     "metadata": {},
     "output_type": "execute_result"
    }
   ],
   "source": [
    "df.columns"
   ]
  },
  {
   "cell_type": "code",
   "execution_count": null,
   "id": "05616860",
   "metadata": {},
   "outputs": [
    {
     "data": {
      "text/html": [
       "<div>\n",
       "<style scoped>\n",
       "    .dataframe tbody tr th:only-of-type {\n",
       "        vertical-align: middle;\n",
       "    }\n",
       "\n",
       "    .dataframe tbody tr th {\n",
       "        vertical-align: top;\n",
       "    }\n",
       "\n",
       "    .dataframe thead th {\n",
       "        text-align: right;\n",
       "    }\n",
       "</style>\n",
       "<table border=\"1\" class=\"dataframe\">\n",
       "  <thead>\n",
       "    <tr style=\"text-align: right;\">\n",
       "      <th></th>\n",
       "      <th>sex</th>\n",
       "      <th>total_length</th>\n",
       "      <th>tail</th>\n",
       "      <th>foot_length</th>\n",
       "      <th>eye</th>\n",
       "    </tr>\n",
       "  </thead>\n",
       "  <tbody>\n",
       "    <tr>\n",
       "      <th>0</th>\n",
       "      <td>m</td>\n",
       "      <td>89.0</td>\n",
       "      <td>36.0</td>\n",
       "      <td>74.5</td>\n",
       "      <td>15.2</td>\n",
       "    </tr>\n",
       "    <tr>\n",
       "      <th>1</th>\n",
       "      <td>f</td>\n",
       "      <td>91.5</td>\n",
       "      <td>36.5</td>\n",
       "      <td>72.5</td>\n",
       "      <td>16.0</td>\n",
       "    </tr>\n",
       "  </tbody>\n",
       "</table>\n",
       "</div>"
      ],
      "text/plain": [
       "  sex  total_length  tail  foot_length   eye\n",
       "0   m          89.0  36.0         74.5  15.2\n",
       "1   f          91.5  36.5         72.5  16.0"
      ]
     },
     "execution_count": 13,
     "metadata": {},
     "output_type": "execute_result"
    }
   ],
   "source": [
    "\n",
    "# let extract only the column I want to focus on\n",
    "focus_df=df[['sex','head_lenght','total_length','tail','foot_length','eye']]\n",
    "focus_df.head(2)"
   ]
  },
  {
   "cell_type": "markdown",
   "id": "dce07876",
   "metadata": {},
   "source": [
    "### Check for outliers from the data"
   ]
  },
  {
   "cell_type": "code",
   "execution_count": 14,
   "id": "4a7ce0bb",
   "metadata": {},
   "outputs": [
    {
     "name": "stdout",
     "output_type": "stream",
     "text": [
      "The Mean\n",
      "     total_length       tail  foot_length        eye\n",
      "sex                                                 \n",
      "f       87.906977  37.104651    69.096726  14.811628\n",
      "m       86.511475  36.942623    68.009836  15.211475\n",
      "\n",
      "The Median\n",
      "     total_length  tail  foot_length   eye\n",
      "sex                                       \n",
      "f            88.5  37.5         70.3  14.8\n",
      "m            86.0  36.5         66.9  15.0\n"
     ]
    }
   ],
   "source": [
    "# first let check data description and look out for mean and median to know if our data is normally distributed\n",
    "print(\"The Mean\")\n",
    "print (focus_df.groupby('sex').mean())\n",
    "print(\"\\nThe Median\")\n",
    "print(focus_df.groupby('sex').median())"
   ]
  },
  {
   "cell_type": "markdown",
   "id": "2d7e54f1",
   "metadata": {},
   "source": [
    "**we can see that our data is normally distributed, so let use boxplot to determine the outline.**"
   ]
  },
  {
   "cell_type": "markdown",
   "id": "44752a6e",
   "metadata": {},
   "source": [
    "### Now it is time for me to group the data into male and female to check each of their features"
   ]
  },
  {
   "cell_type": "code",
   "execution_count": 34,
   "id": "1a9db049",
   "metadata": {},
   "outputs": [
    {
     "data": {
      "text/plain": [
       "Text(0.5, 0.98, '')"
      ]
     },
     "execution_count": 34,
     "metadata": {},
     "output_type": "execute_result"
    },
    {
     "data": {
      "image/png": "[encoded data removed]",
      "text/plain": [
       "<Figure size 600x400 with 1 Axes>"
      ]
     },
     "metadata": {},
     "output_type": "display_data"
    }
   ],
   "source": [
    "# let check for outliers first\n",
    "focus_df.boxplot(column=\"total_length\", by=\"sex\", figsize=(6,4))\n",
    "plt.title(\"Overview of both male and female data\")\n",
    "plt.ylabel(\"iykhkjhkhhh\")\n",
    "plt.suptitle(\"\")"
   ]
  },
  {
   "cell_type": "code",
   "execution_count": 24,
   "id": "57e66c0c",
   "metadata": {},
   "outputs": [],
   "source": [
    "# I can see outlier in female data.. Since we are going to be removing outliers for each column (features) if exist\n",
    "# Then let create function to remove outlier\n",
    "\n",
    "def remove_outliers(df, cols):              #Remove outliers from multiple columns in a DataFrame using the IQR method.\n",
    "    df_clean = df.copy()\n",
    "    for col in cols:\n",
    "        Q1 = df_clean[col].quantile(0.25)\n",
    "        Q3 = df_clean[col].quantile(0.75)\n",
    "        IQR= Q3 - Q1\n",
    "        bound= 1.5 * IQR\n",
    "        lower_bound= Q1 - bound\n",
    "        upper_bound= Q3 + bound\n",
    "        # Keep only rows within bounds for this column\n",
    "        df_clean= df_clean[(df_clean[col]>=lower_bound) & (df_clean[col]<=upper_bound)]\n",
    "        \n",
    "    return df_clean\n"
   ]
  },
  {
   "cell_type": "markdown",
   "id": "220a2aa9",
   "metadata": {},
   "source": [
    "### Let remove all outliers from all the column in our dataFrame\n"
   ]
  },
  {
   "cell_type": "code",
   "execution_count": 25,
   "id": "4035b7a6",
   "metadata": {},
   "outputs": [],
   "source": [
    "#Let remove all outliers from all the column in our dataFrame\n",
    "cols=['total_length','tail','foot_length','eye']\n",
    "focus_df= remove_outliers(focus_df,cols)\n"
   ]
  },
  {
   "cell_type": "markdown",
   "id": "200f466c",
   "metadata": {},
   "source": [
    "### Lets get the description for both gender by tail length/size"
   ]
  },
  {
   "cell_type": "markdown",
   "id": "a13c3d23",
   "metadata": {},
   "source": [
    "### Lets get the description for both gender by total length"
   ]
  },
  {
   "cell_type": "code",
   "execution_count": null,
   "id": "00adaa31",
   "metadata": {},
   "outputs": [
    {
     "name": "stdout",
     "output_type": "stream",
     "text": [
      "     count       mean       std   min    25%   50%   75%   max\n",
      "sex                                                           \n",
      "f     43.0  87.906977  4.182241  75.0  85.25  88.5  90.5  96.5\n",
      "m     61.0  86.511475  4.339896  76.0  84.00  86.0  89.5  96.0\n",
      "\n",
      "The median of the data is: \n",
      "Male: 86.0\n",
      "Female: 88.5\n",
      "\n",
      "The variance of the data is: \n",
      "Male: 18.83\n",
      "Female: 17.49\n"
     ]
    }
   ],
   "source": [
    "# Lets get the description for each gender by total length\n",
    "print( focus_df.groupby('sex')['total_length'].describe())\n",
    "\n",
    "# displaying the median too\n",
    "print(\"\\nThe median of the data is: \")\n",
    "female,male= focus_df.groupby('sex')['total_length'].median()\n",
    "print(f\"Male: {male}\\nFemale: {female}\")\n",
    "\n",
    "# displaying the variance too\n",
    "print(\"\\nThe variance of the data is: \")\n",
    "female,male= focus_df.groupby('sex')['total_length'].var().round(2)\n",
    "print(f\"Male: {male}\\nFemale: {female}\")"
   ]
  },
  {
   "cell_type": "code",
   "execution_count": 28,
   "id": "e96c2400",
   "metadata": {},
   "outputs": [
    {
     "name": "stdout",
     "output_type": "stream",
     "text": [
      "\n",
      "The description for both gender by tail length/size: \n",
      "     count      mean       std   min   25%    50%     75%   max\n",
      "sex                                                            \n",
      "f     42.0  37.22619  1.668219  33.5  36.0  37.75  38.375  41.0\n",
      "m     57.0  36.77193  1.658501  34.0  35.5  36.50  38.000  40.5\n",
      "\n",
      "The median of the data is: \n",
      "Male: 36.5\n",
      "Female: 37.75\n",
      "\n",
      "The variance of the data is: \n",
      "Male: 2.75\n",
      "Female: 2.78\n"
     ]
    }
   ],
   "source": [
    "# Lets get the description for both gender by tail length/size\n",
    "print(\"\\nThe description for both gender by tail length/size: \")\n",
    "print( focus_df.groupby('sex')['tail'].describe())\n",
    "\n",
    "# displaying the median too\n",
    "print(\"\\nThe median of the data is: \")\n",
    "female,male= focus_df.groupby('sex')['tail'].median()\n",
    "print(f\"Male: {male}\\nFemale: {female}\")\n",
    "\n",
    "# displaying the variance too\n",
    "print(\"\\nThe variance of the data is: \")\n",
    "female,male= focus_df.groupby('sex')['tail'].var().round(2)\n",
    "print(f\"Male: {male}\\nFemale: {female}\")"
   ]
  },
  {
   "cell_type": "markdown",
   "id": "30189e3b",
   "metadata": {},
   "source": [
    "### Lets get the description for both gender by foot_length"
   ]
  },
  {
   "cell_type": "code",
   "execution_count": 30,
   "id": "76898952",
   "metadata": {},
   "outputs": [
    {
     "name": "stdout",
     "output_type": "stream",
     "text": [
      "\n",
      "The description for both gender by foot length: \n",
      "     count       mean       std   min    25%   50%   75%   max\n",
      "sex                                                           \n",
      "f     42.0  69.027601  4.890884  60.3  64.85  69.5  72.8  77.9\n",
      "m     57.0  68.042105  3.978332  62.0  64.70  66.9  71.5  75.0\n",
      "\n",
      "The median of the data is: \n",
      "Male: 66.9\n",
      "Female: 69.5\n",
      "\n",
      "The variance of the data is: \n",
      "Male: 15.83\n",
      "Female: 23.92\n"
     ]
    }
   ],
   "source": [
    "# Lets get the description for both gender by foot length/size\n",
    "print(\"\\nThe description for both gender by foot length: \")\n",
    "print( focus_df.groupby('sex')['foot_length'].describe())\n",
    "\n",
    "# displaying the median too\n",
    "print(\"\\nThe median of the data is: \")\n",
    "female,male= focus_df.groupby('sex')['foot_length'].median()\n",
    "print(f\"Male: {male}\\nFemale: {female}\")\n",
    "\n",
    "# displaying the variance too\n",
    "print(\"\\nThe variance of the data is: \")\n",
    "female,male= focus_df.groupby('sex')['foot_length'].var().round(2)\n",
    "print(f\"Male: {male}\\nFemale: {female}\")"
   ]
  },
  {
   "cell_type": "markdown",
   "id": "3c42bf5b",
   "metadata": {},
   "source": [
    "### Lets get the description for both gender by eye size"
   ]
  },
  {
   "cell_type": "code",
   "execution_count": 31,
   "id": "f7f21390",
   "metadata": {},
   "outputs": [
    {
     "name": "stdout",
     "output_type": "stream",
     "text": [
      "\n",
      "The description for both gender by eye: \n",
      "     count       mean       std   min   25%    50%     75%   max\n",
      "sex                                                             \n",
      "f     42.0  14.845238  1.018416  13.0  14.2  14.85  15.475  17.4\n",
      "m     57.0  15.154386  0.953203  12.8  14.5  15.00  15.900  17.4\n",
      "\n",
      "The median of the data is: \n",
      "Male: 15.0\n",
      "Female: 14.850000000000001\n",
      "\n",
      "The variance of the data is: \n",
      "Male: 0.91\n",
      "Female: 1.04\n"
     ]
    }
   ],
   "source": [
    "# Lets get the description for both gender by foot eye\n",
    "print(\"\\nThe description for both gender by eye: \")\n",
    "print( focus_df.groupby('sex')['eye'].describe())\n",
    "\n",
    "# displaying the median too\n",
    "print(\"\\nThe median of the data is: \")\n",
    "female,male= focus_df.groupby('sex')['eye'].median()\n",
    "print(f\"Male: {male}\\nFemale: {female}\")\n",
    "\n",
    "# displaying the variance too\n",
    "print(\"\\nThe variance of the data is: \")\n",
    "female,male= focus_df.groupby('sex')['eye'].var().round(2)\n",
    "print(f\"Male: {male}\\nFemale: {female}\")"
   ]
  }
 ],
 "metadata": {
  "kernelspec": {
   "display_name": "Python 3",
   "language": "python",
   "name": "python3"
  },
  "language_info": {
   "codemirror_mode": {
    "name": "ipython",
    "version": 3
   },
   "file_extension": ".py",
   "mimetype": "text/x-python",
   "name": "python",
   "nbconvert_exporter": "python",
   "pygments_lexer": "ipython3",
   "version": "3.13.7"
  }
 },
 "nbformat": 4,
 "nbformat_minor": 5
}

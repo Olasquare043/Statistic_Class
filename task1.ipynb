{
 "cells": [
  {
   "cell_type": "markdown",
   "id": "9229a858",
   "metadata": {},
   "source": [
    "# Name: Saheed Olayemi Olayinka  \n",
    "## Class Task  \n",
    "\n",
    "### The Time I Used Data to Make a Decision  \n",
    "\n",
    "I remember the time I got selected for the **GEN AI Fellowship Program**. At that period, I was staying at Apakila Camp, Abeokuta. The transport fare from my place to the event venue was **₦2,400 per day** (to and fro combined). I had to sit down and analyze the situation using the data at hand.  \n",
    "\n",
    "- **Option 1:** Continue spending ₦2,400 daily on transportation for the six months of the program, which would amount to about **₦288,000** (₦2,400 × 120 working days).  \n",
    "- **Option 2:** Rent an apartment close to the venue for **₦150,000** and share the cost with two colleagues. Splitting the rent three ways meant I would only pay **₦50,000**, which is equivalent to just about **21 days of transport costs**.  \n",
    "\n",
    "Considering that the stipend of **₦50,000** from the program could not even cover the daily transport for a full month, I made the logical decision to join two of my colleagues and rent a house nearby.  \n",
    "\n",
    "This **data-driven decision** not only saved me money but also reduced the stress of long daily commutes, giving me more time and energy to focus on the fellowship.  \n"
   ]
  }
 ],
 "metadata": {
  "language_info": {
   "name": "python"
  }
 },
 "nbformat": 4,
 "nbformat_minor": 5
}

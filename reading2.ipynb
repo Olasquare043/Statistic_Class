{
 "cells": [
  {
   "cell_type": "markdown",
   "id": "aedd8103",
   "metadata": {},
   "source": [
    "# Coefficient of variation"
   ]
  },
  {
   "cell_type": "markdown",
   "id": "b1eaee6f",
   "metadata": {},
   "source": [
    "### Summary"
   ]
  },
  {
   "cell_type": "markdown",
   "id": "b027c10d",
   "metadata": {},
   "source": [
    "**Coefficient of variation (CV)** is the measures of how spread data is, in relative to its mean. It campares the size of standard deviation to the average values.\n",
    "\n",
    "It is calculated by:\n",
    "$$\n",
    "   \\text{CV = } \\frac{\\text{Standard Deviation}}{\\text{Mean}}\n",
    "$$\n",
    "\n",
    "$$\n",
    "    \\text{CV = } \\frac{\\sigma}{\\mu}\n",
    "$$"
   ]
  },
  {
   "cell_type": "markdown",
   "id": "e93a8e83",
   "metadata": {},
   "source": []
  }
 ],
 "metadata": {
  "language_info": {
   "name": "python"
  }
 },
 "nbformat": 4,
 "nbformat_minor": 5
}

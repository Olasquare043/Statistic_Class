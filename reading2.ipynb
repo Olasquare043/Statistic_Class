{
 "cells": [
  {
   "cell_type": "markdown",
   "id": "aedd8103",
   "metadata": {},
   "source": [
    "# Coefficient of variation"
   ]
  },
  {
   "cell_type": "markdown",
   "id": "b1eaee6f",
   "metadata": {},
   "source": [
    "### Summary"
   ]
  },
  {
   "cell_type": "markdown",
   "id": "b027c10d",
   "metadata": {},
   "source": [
    "*Coefficient of variation** is the measures of how spread data is, in relative to its mean. It campare "
   ]
  }
 ],
 "metadata": {
  "language_info": {
   "name": "python"
  }
 },
 "nbformat": 4,
 "nbformat_minor": 5
}

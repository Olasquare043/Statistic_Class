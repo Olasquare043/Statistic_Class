{
 "cells": [
  {
   "cell_type": "markdown",
   "id": "ac98172d",
   "metadata": {},
   "source": [
    "## Variance"
   ]
  },
  {
   "cell_type": "markdown",
   "id": "63940a48",
   "metadata": {},
   "source": [
    "Calculate the Variance of :\n",
    "[4, 8, 6, 5, 3]"
   ]
  },
  {
   "cell_type": "markdown",
   "id": "922b4817",
   "metadata": {},
   "source": [
    "**Variance (σ²):**\n",
    "$\n",
    "\\sigma^2 = \\frac{1}{N} \\sum_{i=1}^{N} (x_i - \\mu)^2\n",
    "$\n"
   ]
  },
  {
   "cell_type": "markdown",
   "id": "7ec47dd3",
   "metadata": {},
   "source": [
    "**First let find the mean $(\\mu) \\\\$**\n",
    "$\n",
    "\\mu = \\frac{4+8+6+5+3}{5}\n",
    "    =\\frac{26}{5}\n",
    "    = 5.2\n",
    "$"
   ]
  },
  {
   "cell_type": "markdown",
   "id": "f8f668f2",
   "metadata": {},
   "source": [
    "**Let get values for $(x_i - \\bar{x}) \\\\$**\n",
    "                    $\n",
    "                    5.2 - 4 = 1.2 \\\\\n",
    "                    5.2 - 8 = -2.8 \\\\\n",
    "                    5.2 - 6 = -0.8 \\\\\n",
    "                    5.2 - 5 = 0.2 \\\\\n",
    "                    5.2 - 3 = 2.2 $\n"
   ]
  },
  {
   "cell_type": "markdown",
   "id": "0f4356bf",
   "metadata": {},
   "source": [
    "**Let get values for $(x_i - \\bar{x})^2 \\\\$**\n",
    "$\n",
    "\\begin{aligned}\n",
    "1.2^2 = 1.44 \\\\\n",
    "(-2.8)^2 = 7.84 \\\\\n",
    "(-0.8)^2 = 0.64 \\\\\n",
    "0.2^2 = 0.04 \\\\\n",
    "2.2^2 = 4.84\n",
    "\\end{aligned}\n",
    "$\n",
    "\n"
   ]
  },
  {
   "cell_type": "markdown",
   "id": "0f845f05",
   "metadata": {},
   "source": [
    "**Now let find $sum_{i=1}^{n} (x_i - \\bar{x})^2 \\\\$** \n",
    "\n",
    "$\n",
    "    sum_{i=1}^{n} (x_i - \\bar{x})^2 \\\\\n",
    "    = 1.44 + 7.84  + 0.64  + 0.04 + 4.84 = 14.8\n",
    "$"
   ]
  },
  {
   "cell_type": "markdown",
   "id": "178143d4",
   "metadata": {},
   "source": [
    "**Finally, we have**\n",
    "\n",
    "$\n",
    "\\sigma^2 = \\frac{1}{N} \\sum_{i=1}^{N} (x_i - \\mu)^2 \\\\\n",
    " = \\frac{14.8}{5} \\\\\n",
    " = 2.96\n",
    "$\n",
    "   "
   ]
  }
 ],
 "metadata": {
  "language_info": {
   "name": "python"
  }
 },
 "nbformat": 4,
 "nbformat_minor": 5
}

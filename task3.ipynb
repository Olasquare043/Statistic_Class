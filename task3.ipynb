{
 "cells": [
  {
   "cell_type": "markdown",
   "id": "ac98172d",
   "metadata": {},
   "source": [
    "## Variance"
   ]
  },
  {
   "cell_type": "markdown",
   "id": "63940a48",
   "metadata": {},
   "source": [
    "Calculate Variance of :\n",
    "[4,8,6,5,3]"
   ]
  },
  {
   "cell_type": "markdown",
   "id": "922b4817",
   "metadata": {},
   "source": []
  }
 ],
 "metadata": {
  "language_info": {
   "name": "python"
  }
 },
 "nbformat": 4,
 "nbformat_minor": 5
}

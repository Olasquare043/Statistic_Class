{
 "cells": [
  {
   "cell_type": "markdown",
   "id": "fd2acdb7",
   "metadata": {},
   "source": [
    "**Task1– Mean, Median & Mode**\n",
    "\n",
    "**1: Class Test Scores**\n",
    "\n",
    "The following are the Mathematics test scores (out of 20) for a class of 15 students:\n",
    " 5, 8, 10, 12, 12, 12, 13, 14, 14, 15, 16, 18, 18, 20, 20\n",
    "Find the mean, median, and mode of the scores.\n",
    "\n",
    "If the lowest score (5) was wrongly recorded and should have been 10, how would the mean change? Would the median or mode change? Explain.\n",
    "\n",
    "**2: Daily Commute Times**\n",
    "\n",
    "A group of 9 students reported the time (in minutes) it takes them to get to school each day:\n",
    " 15, 20, 20, 25, 25, 30, 60, 65, 120\n",
    "Find the mean, median, and mode of the data.\n",
    "\n",
    "Which measure (mean, median, or mode) do you think best represents the “typical” time it takes students to get to school? Why?\n",
    " (Hint: Think about the effect of the student who takes 120 minutes.)\n",
    "\n",
    "**3: Shoe Sizes**\n",
    "\n",
    "    The shoe sizes of students in a class are:\n",
    "        38, 39, 38, 40, 41, 42, 39, 39, 40, 38, 37, 39, 40, 41, 42\n",
    "    Find the mode of the data.\n",
    "\n",
    "    If a shoe company wants to donate free shoes, which size should they produce most of? Why?\n",
    "\n",
    "    What if they only want to produce one size that would fit the \"average\" student? Should they use mean, median, or mode? Defend your answer.\n",
    "    "
   ]
  },
  {
   "cell_type": "markdown",
   "id": "4e2fcbf1",
   "metadata": {},
   "source": [
    "### 1: Class Test Scores\n",
    "Find the mean, median, and mode of the scores."
   ]
  },
  {
   "cell_type": "markdown",
   "id": "198b9e3a",
   "metadata": {},
   "source": [
    "**Mean**\n",
    "\n",
    "    mean = (5 + 8 + 10 + 12 + 12 + 12 + 13 + 14 + 14 + 15 + 16 + 18 + 18 + 20 + 20)/15\n",
    "         = 207/15\n",
    "         = 13.8\n",
    "\n",
    "**Median**\n",
    "\n",
    "    median =  5, 8, 10, 12, 12, 12, 13, 14, 14, 15, 16, 18, 18, 20, 20\n",
    "    The median is the middle value after arrange in order. Since it is an ordered list already.\n",
    "    The median = 14\n",
    "\n",
    "**Mode**\n",
    "    mode is the number with most frequecy.\n",
    "    mode = 12\n",
    "\n",
    "**If the lowest score (5) was wrongly recorded and should have been 10, how would the mean change? Would the median or mode change? Explain.**\n",
    "\n",
    "    The new score will be = 10, 8, 10, 12, 12, 12, 13, 14, 14, 15, 16, 18, 18, 20, 20\n",
    "    new mean  will be = (10 + 8 + 10 + 12 + 12 + 12 + 13 + 14 + 14 + 15 + 16 + 18 + 18 + 20 + 20)/15\n",
    "                      = 212/15\n",
    "                      = 14.13\n",
    "    Explanation: Mistake in the lowest score will change the mean value from 13.8 to 14.13, whereas the median and the mode will still remain the same."
   ]
  },
  {
   "cell_type": "markdown",
   "id": "aad04c84",
   "metadata": {},
   "source": [
    "### 2: Daily Commute Times\n",
    "Find the mean, median, and mode of the data."
   ]
  },
  {
   "cell_type": "markdown",
   "id": "63890df3",
   "metadata": {},
   "source": [
    "**Mean**\n",
    "\n",
    "     mean = (15 + 20 + 20 + 25 + 25 + 30 + 60 + 65 + 120)/9\n",
    "          = 380/9\n",
    "          = 42.22\n",
    "**Median**\n",
    "\n",
    "    median =  15, 20, 20, 25, 25, 30, 60, 65, 120\n",
    "    The median is the middle value after arrange in order. Since it is an ordered list already.\n",
    "    The median = 25\n",
    "\n",
    "**Mode**\n",
    "\n",
    "    mode is the number with most frequecy.\n",
    "    mode = 20 and 25\n",
    "    it is bimodal\n",
    "\n",
    "**Which measure (mean, median, or mode) do you think best represents the “typical” time it takes students to get to school? Why? (Hint: Think about the effect of the student who takes 120 minutes.)**\n",
    "\n",
    "    Median will be best represents the “typical” time it takes students to get to school because of the extreme value of outlier will not affect the median but it will affect the mean"
   ]
  },
  {
   "cell_type": "markdown",
   "id": "b75a1002",
   "metadata": {},
   "source": [
    "### 3: Shoe Sizes\n",
    "Find the mode of the data."
   ]
  },
  {
   "cell_type": "markdown",
   "id": "21a57df3",
   "metadata": {},
   "source": [
    "**Mode**\n",
    "\n",
    "    shoe_sizes= 38, 39, 38, 40, 41, 42, 39, 39, 40, 38, 37, 39, 40, 41, 42\n",
    "    Let arrange the data = 37, 38, 38, 38, 39, 39, 39, 39, 40, 40, 40, 41, 41, 42, 42\n",
    "    the mode = 39\n",
    "\n",
    "**If a shoe company wants to donate free shoes, which size should they produce most of? Why?**\n",
    "\n",
    "    The company could produce more of 39 size, because, there are more student using size 39 than any other students\n",
    "\n",
    "**What if they only want to produce one size that would fit the \"average\" student? Should they use mean, median, or mode? Defend your answer.**\n",
    "    mean = 39.53 round up to 40\n",
    "    Median = 39\n",
    "    Mode = 39 \n",
    "    \n",
    "    Mean can be used as size that would fit the \"average\" students. most student use 39 size and if the company produce  size 40. student who uses 39 can manage size 40. This mean the number of student that can use the product be size 39 x 4 and size 40 x 3 which equal to 12 students out of 15 students.\n",
    " "
   ]
  }
 ],
 "metadata": {
  "language_info": {
   "name": "python"
  }
 },
 "nbformat": 4,
 "nbformat_minor": 5
}

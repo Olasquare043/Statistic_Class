{
 "cells": [
  {
   "cell_type": "markdown",
   "id": "de321afe",
   "metadata": {},
   "source": [
    "## Chi-Square test (for categorical data)"
   ]
  },
  {
   "cell_type": "markdown",
   "id": "4ce823dc",
   "metadata": {},
   "source": [
    "**Chi-Square** test is a statistical hypothesis test used to determine if there is a significant relationship between two categorical variables or determine the pattern of observed frequency if it is difference from the expected frequency, under the assumption of independence (no relationship). \n",
    "Chi-Square is calculated as:\n",
    "$$\n",
    "    \\chi^2 = \\sum{\\frac{(O - E)^2}{E}}\n",
    "$$\n",
    "where:\n",
    "- O is the observed frequency\n",
    "- E is the Expected frequency\n",
    "\n",
    "**There are 2 main type of Chi-Square test**\n",
    "- Chi-Square test of independence\n",
    "- Chi-Square Goodness of fit\n",
    "\n",
    "**Chi-Square test of independence:** This test the relationship between to categorical variable if there is any significant relationship or not (independence). This ask question like: Is pizza prefrence depend on gender, or are they independent?\n",
    "\n",
    "**Chi-Square Goodness of fit:** This test if a categorical variable follow a certian distribution. This ask question like: Does the observed distribution fit the expected distribution? \n"
   ]
  },
  {
   "cell_type": "markdown",
   "id": "0ae186d8",
   "metadata": {},
   "source": [
    "## ANOVA (for comparing more than two means)"
   ]
  },
  {
   "cell_type": "markdown",
   "id": "246d47d3",
   "metadata": {},
   "source": [
    "ANOVA (Analysis of variance) is a statistical test used to determine the means diffrence of three or more independent groups. Its ask question like: \n",
    "-   H₀: All groups means are equal; \n",
    "-   H₁: At least one group mean is different\n",
    "ANOVA uses F-statistic (ratio between-groups variance and  within-group variance) and compare it to a treshold.\n",
    "$$\n",
    "    F= \\frac{\\text{Variation between groups}}{\\text{Variation within groups}}\n",
    "$$\n",
    "**Where:**\n",
    "-   Variation between groups: The difference in means among groups i.e how means of groups difference from each other\n",
    "-   Variation within groups: How spread out the data within each group (random noise)\n",
    "\n",
    "**There are three types of ANOVA test:**\n",
    "-   One-way ANOVA\n",
    "-   Two-way ANOVA\n",
    "-   Repeated measures ANOVA\n",
    "\n",
    "**One-way ANOVA:** Compares the means of three of more groups based on one factor. e.g Test student score of from 3 methods of teaching\n",
    "\n",
    "Calculated by:\n",
    "\n",
    "$$\n",
    "    \\text{Total Sum Square (SST)}= \\text{Sum Square Between group (SSB) + \\text{Sum Square Within group (SSW)}}\\\\\n",
    "$$\n",
    "$ \n",
    "    \\text{Where:}\\\\\n",
    "    \\text{SSB = } \\sum{i=1}^k n_i (x_i - x_)^2\n",
    "$\n",
    "\n",
    "**Two-ways ANOVA:** Comapares the means of 3 or more group based on two factors e.g Do teaching methods and gender leads to difference student score?\n",
    "\n",
    "Calculated by:\n",
    "\n",
    "**Repeated Measures ANOVA:** Used when a group is been  "
   ]
  }
 ],
 "metadata": {
  "language_info": {
   "name": "python"
  }
 },
 "nbformat": 4,
 "nbformat_minor": 5
}

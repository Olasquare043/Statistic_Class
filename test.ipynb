{
 "cells": [
  {
   "cell_type": "code",
   "execution_count": null,
   "id": "57438ac8",
   "metadata": {},
   "outputs": [
    {
     "name": "stderr",
     "output_type": "stream",
     "text": [
      "Downloading...\n",
      "From: https://drive.google.com/uc?id=13ejsAq76ZQfyAHPs4uCMn2jaiB6lfuDb\n",
      "To: c:\\Users\\owolabi michael\\Documents\\Statistic_Class\\Accidents.csv\n",
      "100%|██████████| 72.3M/72.3M [00:09<00:00, 7.71MB/s]\n"
     ]
    },
    {
     "data": {
      "text/plain": [
       "'Accidents.csv'"
      ]
     },
     "execution_count": 2,
     "metadata": {},
     "output_type": "execute_result"
    }
   ],
   "source": [
    "# importing libries\n",
    "import pandas as pd\n",
    "import numpy as np\n",
    "import matplotlib.pyplot as plt\n",
    "\n",
    "# loaing data from different source\n",
    "# path to the github dataset\n",
    "raw_url= \"https://raw.githubusercontent.com/Olasquare043/Practice_datasets/refs/heads/main/births.csv\"\n",
    "id =\"13ejsAq76ZQfyAHPs4uCMn2jaiB6lfuDb\"\n",
    "# from google drive\n",
    "import gdown\n",
    "url= f\"https://drive.google.com/uc?id={id}\"\n",
    "gdown.download(url, quiet=False)\n"
   ]
  }
 ],
 "metadata": {
  "kernelspec": {
   "display_name": "Python 3",
   "language": "python",
   "name": "python3"
  },
  "language_info": {
   "codemirror_mode": {
    "name": "ipython",
    "version": 3
   },
   "file_extension": ".py",
   "mimetype": "text/x-python",
   "name": "python",
   "nbconvert_exporter": "python",
   "pygments_lexer": "ipython3",
   "version": "3.13.7"
  }
 },
 "nbformat": 4,
 "nbformat_minor": 5
}

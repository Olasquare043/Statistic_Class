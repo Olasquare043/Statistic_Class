{
 "cells": [
  {
   "cell_type": "markdown",
   "id": "3239d361",
   "metadata": {},
   "source": [
    "# Chicago Crime Data Analysis"
   ]
  },
  {
   "cell_type": "markdown",
   "id": "06f2aab8",
   "metadata": {},
   "source": [
    "## Data ingestion: Dataset Setup and Loading"
   ]
  },
  {
   "cell_type": "code",
   "execution_count": null,
   "id": "5ad2ada8",
   "metadata": {},
   "outputs": [],
   "source": [
    "import pandas as pd\n",
    "import matplotlib.pyplot as plt\n",
    "\n",
    "#libraries for time\n",
    "from datetime import datetime, timedelta\n",
    "\n",
    "#ignore warnings\n",
    "import warnings\n",
    "warnings.filterwarnings('ignore')\n",
    "\n"
   ]
  },
  {
   "cell_type": "code",
   "execution_count": 30,
   "id": "e5d11bcc",
   "metadata": {},
   "outputs": [],
   "source": [
    "# loading the zip data\n",
    "# path=\"../data/archive_3.zip\"\n",
    "# df= pd.read_csv(path,low_memory=True, compression='zip')\n",
    "\n",
    "# loading the csv file\n",
    "path=\"../data/Crimes_2001_to_Present.csv\"\n",
    "\n",
    "# Define data types to reduce memory usage\n",
    "dtype_dict = {\n",
    "'ID': 'Int32',\n",
    "'Case Number': 'string',\n",
    "'IUCR': 'category',\n",
    "'Primary Type': 'category',\n",
    "'Description': 'category',\n",
    "'Location Description': 'category',\n",
    "'Arrest': 'bool',\n",
    "'Domestic': 'bool',\n",
    "'Beat': 'Int16',\n",
    "'District': 'Int8',\n",
    "'Ward': 'Int8',\n",
    "'Community Area': 'Int8',\n",
    "'FBI Code': 'category',\n",
    "'X Coordinate': 'float32',\n",
    "'Y Coordinate': 'float32',\n",
    "'Latitude': 'float32',\n",
    "'Longitude': 'float32'\n",
    "}\n",
    "df = pd.read_csv(path, dtype=dtype_dict)"
   ]
  },
  {
   "cell_type": "markdown",
   "id": "b3a6bacf",
   "metadata": {},
   "source": [
    "## Preliminary Data Analysis"
   ]
  },
  {
   "cell_type": "code",
   "execution_count": 31,
   "id": "f633dd59",
   "metadata": {},
   "outputs": [
    {
     "name": "stdout",
     "output_type": "stream",
     "text": [
      "============ OVERVIEW OF THE DATA =========\n",
      "\n",
      "<class 'pandas.core.frame.DataFrame'>\n",
      "RangeIndex: 7784664 entries, 0 to 7784663\n",
      "Data columns (total 22 columns):\n",
      " #   Column                Dtype   \n",
      "---  ------                -----   \n",
      " 0   ID                    Int32   \n",
      " 1   Case Number           string  \n",
      " 2   Date                  object  \n",
      " 3   Block                 object  \n",
      " 4   IUCR                  category\n",
      " 5   Primary Type          category\n",
      " 6   Description           category\n",
      " 7   Location Description  category\n",
      " 8   Arrest                bool    \n",
      " 9   Domestic              bool    \n",
      " 10  Beat                  Int16   \n",
      " 11  District              Int8    \n",
      " 12  Ward                  Int8    \n",
      " 13  Community Area        Int8    \n",
      " 14  FBI Code              category\n",
      " 15  X Coordinate          float32 \n",
      " 16  Y Coordinate          float32 \n",
      " 17  Year                  int64   \n",
      " 18  Updated On            object  \n",
      " 19  Latitude              float32 \n",
      " 20  Longitude             float32 \n",
      " 21  Location              object  \n",
      "dtypes: Int16(1), Int32(1), Int8(3), bool(2), category(5), float32(4), int64(1), object(4), string(1)\n",
      "memory usage: 653.4+ MB\n",
      "Data info: None\n",
      "\n",
      "Column list: Index(['ID', 'Case Number', 'Date', 'Block', 'IUCR', 'Primary Type',\n",
      "       'Description', 'Location Description', 'Arrest', 'Domestic', 'Beat',\n",
      "       'District', 'Ward', 'Community Area', 'FBI Code', 'X Coordinate',\n",
      "       'Y Coordinate', 'Year', 'Updated On', 'Latitude', 'Longitude',\n",
      "       'Location'],\n",
      "      dtype='object')\n",
      "\n",
      "\n",
      "============ Description of the data =========\n",
      "\n",
      "                    ID Case Number                    Date             Block  \\\n",
      "count        7784664.0     7784660                 7784664           7784664   \n",
      "unique            <NA>     7784121                 3207478             62845   \n",
      "top               <NA>    HJ590004  01/01/2008 12:01:00 AM  100XX W OHARE ST   \n",
      "freq              <NA>           6                     304             16486   \n",
      "mean    7026439.050899         NaN                     NaN               NaN   \n",
      "std     3502656.769728         NaN                     NaN               NaN   \n",
      "min              634.0         NaN                     NaN               NaN   \n",
      "25%          3792573.5         NaN                     NaN               NaN   \n",
      "50%          7029327.0         NaN                     NaN               NaN   \n",
      "75%        10131129.25         NaN                     NaN               NaN   \n",
      "max         13056426.0         NaN                     NaN               NaN   \n",
      "\n",
      "           IUCR Primary Type Description Location Description   Arrest  \\\n",
      "count   7784664      7784664     7784664              7774283  7784664   \n",
      "unique      404           36         544                  215        2   \n",
      "top        0820        THEFT      SIMPLE               STREET    False   \n",
      "freq     631091      1642148      913484              2026828  5749900   \n",
      "mean        NaN          NaN         NaN                  NaN      NaN   \n",
      "std         NaN          NaN         NaN                  NaN      NaN   \n",
      "min         NaN          NaN         NaN                  NaN      NaN   \n",
      "25%         NaN          NaN         NaN                  NaN      NaN   \n",
      "50%         NaN          NaN         NaN                  NaN      NaN   \n",
      "75%         NaN          NaN         NaN                  NaN      NaN   \n",
      "max         NaN          NaN         NaN                  NaN      NaN   \n",
      "\n",
      "       Domestic  ...       Ward  Community Area  FBI Code  X Coordinate  \\\n",
      "count   7784664  ...  7169816.0       7171188.0   7784664  7.697816e+06   \n",
      "unique        2  ...       <NA>            <NA>        26           NaN   \n",
      "top       False  ...       <NA>            <NA>        06           NaN   \n",
      "freq    6708370  ...       <NA>            <NA>   1642148           NaN   \n",
      "mean        NaN  ...  22.754197       37.484723       NaN  1.164601e+06   \n",
      "std         NaN  ...  13.851058       21.541153       NaN  7.669586e+04   \n",
      "min         NaN  ...        1.0             0.0       NaN  0.000000e+00   \n",
      "25%         NaN  ...       10.0            23.0       NaN  1.152976e+06   \n",
      "50%         NaN  ...       23.0            32.0       NaN  1.166110e+06   \n",
      "75%         NaN  ...       34.0            57.0       NaN  1.176372e+06   \n",
      "max         NaN  ...       50.0            77.0       NaN  1.205119e+06   \n",
      "\n",
      "        Y Coordinate          Year              Updated On      Latitude  \\\n",
      "count   7.697816e+06  7.784664e+06                 7784664  7.697816e+06   \n",
      "unique           NaN           NaN                    5561           NaN   \n",
      "top              NaN           NaN  02/10/2018 03:50:01 PM           NaN   \n",
      "freq             NaN           NaN                 2787942           NaN   \n",
      "mean    1.885781e+06  2.009944e+03                     NaN  4.184221e+01   \n",
      "std     1.350949e+05  6.260628e+00                     NaN  3.833415e-01   \n",
      "min     0.000000e+00  2.001000e+03                     NaN  3.661945e+01   \n",
      "25%     1.859073e+06  2.005000e+03                     NaN  4.176871e+01   \n",
      "50%     1.890730e+06  2.009000e+03                     NaN  4.185591e+01   \n",
      "75%     1.909273e+06  2.015000e+03                     NaN  4.190677e+01   \n",
      "max     1.951622e+06  2.023000e+03                     NaN  4.202291e+01   \n",
      "\n",
      "           Longitude                       Location  \n",
      "count   7.697816e+06                        7697816  \n",
      "unique           NaN                         890516  \n",
      "top              NaN  (41.976290414, -87.905227221)  \n",
      "freq             NaN                          14272  \n",
      "mean   -8.767151e+01                            NaN  \n",
      "std     3.923111e+00                            NaN  \n",
      "min    -9.168657e+01                            NaN  \n",
      "25%    -8.771367e+01                            NaN  \n",
      "50%    -8.766584e+01                            NaN  \n",
      "75%    -8.762820e+01                            NaN  \n",
      "max    -8.752453e+01                            NaN  \n",
      "\n",
      "[11 rows x 22 columns]\n"
     ]
    }
   ],
   "source": [
    "# let take a snap shot view on our data\n",
    "print(\"============ OVERVIEW OF THE DATA =========\\n\")\n",
    "print(f\"Data info: {df.info()}\\n\")\n",
    "\n",
    "print(f\"Column list: {df.columns}\\n\")\n",
    "\n",
    "print(\"\\n============ Description of the data =========\\n\")\n",
    "print(f\"{df.describe(include='all')}\")\n"
   ]
  },
  {
   "cell_type": "code",
   "execution_count": 32,
   "id": "ac89c30d",
   "metadata": {},
   "outputs": [
    {
     "name": "stdout",
     "output_type": "stream",
     "text": [
      "\n",
      "The last five rows\n",
      "         ID Case Number                    Date                  Block  IUCR  \\\n",
      "0  10224738    HY411648  09/05/2015 01:30:00 PM        043XX S WOOD ST  0486   \n",
      "1  10224739    HY411615  09/04/2015 11:30:00 AM    008XX N CENTRAL AVE  0870   \n",
      "2  11646166    JC213529  09/01/2018 12:01:00 AM  082XX S INGLESIDE AVE  0810   \n",
      "3  10224740    HY411595  09/05/2015 12:45:00 PM      035XX W BARRY AVE  2023   \n",
      "4  10224741    HY411610  09/05/2015 01:00:00 PM    0000X N LARAMIE AVE  0560   \n",
      "\n",
      "  Primary Type              Description Location Description  Arrest  \\\n",
      "0      BATTERY  DOMESTIC BATTERY SIMPLE            RESIDENCE   False   \n",
      "1        THEFT           POCKET-PICKING              CTA BUS   False   \n",
      "2        THEFT                OVER $500            RESIDENCE   False   \n",
      "3    NARCOTICS    POSS: HEROIN(BRN/TAN)             SIDEWALK    True   \n",
      "4      ASSAULT                   SIMPLE            APARTMENT   False   \n",
      "\n",
      "   Domestic  ...  Ward  Community Area  FBI Code  X Coordinate Y Coordinate  \\\n",
      "0      True  ...    12              61       08B     1165074.0    1875917.0   \n",
      "1     False  ...    29              25        06     1138875.0    1904869.0   \n",
      "2      True  ...     8              44        06           NaN          NaN   \n",
      "3     False  ...    35              21        18     1152037.0    1920384.0   \n",
      "4      True  ...    28              25       08A     1141706.0    1900086.0   \n",
      "\n",
      "   Year              Updated On   Latitude  Longitude  \\\n",
      "0  2015  02/10/2018 03:50:01 PM  41.815117 -87.669998   \n",
      "1  2015  02/10/2018 03:50:01 PM  41.895081 -87.765404   \n",
      "2  2018  04/06/2019 04:04:43 PM        NaN        NaN   \n",
      "3  2015  02/10/2018 03:50:01 PM  41.937405 -87.716652   \n",
      "4  2015  02/10/2018 03:50:01 PM  41.881905 -87.755119   \n",
      "\n",
      "                        Location  \n",
      "0  (41.815117282, -87.669999562)  \n",
      "1  (41.895080471, -87.765400451)  \n",
      "2                            NaN  \n",
      "3  (41.937405765, -87.716649687)  \n",
      "4  (41.881903443, -87.755121152)  \n",
      "\n",
      "[5 rows x 22 columns]\n"
     ]
    }
   ],
   "source": [
    "# checking first five rows\n",
    "print (\"\\nThe last five rows\")\n",
    "print(df.head())\n"
   ]
  },
  {
   "cell_type": "code",
   "execution_count": 33,
   "id": "d652104a",
   "metadata": {},
   "outputs": [
    {
     "name": "stdout",
     "output_type": "stream",
     "text": [
      "\n",
      "The last five rows\n",
      "               ID Case Number                    Date                Block  \\\n",
      "7784659  12847575    JF420478  09/01/2022 05:00:00 AM      005XX W SURF ST   \n",
      "7784660  12847801    JF420319  07/08/2022 12:00:00 AM  114XX S PRAIRIE AVE   \n",
      "7784661  12847324    JF420102  09/27/2022 11:00:00 AM      023XX E 70TH ST   \n",
      "7784662  12847570    JF420427  09/03/2022 10:25:00 AM   052XX W CARMEN AVE   \n",
      "7784663  12840464    JF411839  09/26/2022 07:20:00 PM    0000X N MASON AVE   \n",
      "\n",
      "         IUCR        Primary Type                    Description  \\\n",
      "7784659  2825       OTHER OFFENSE        HARASSMENT BY TELEPHONE   \n",
      "7784660  1130  DECEPTIVE PRACTICE       FRAUD OR CONFIDENCE GAME   \n",
      "7784661  0810               THEFT                      OVER $500   \n",
      "7784662  2021           NARCOTICS         POSSESS - BARBITURATES   \n",
      "7784663  143A   WEAPONS VIOLATION  UNLAWFUL POSSESSION - HANDGUN   \n",
      "\n",
      "                    Location Description  Arrest  Domestic  ...  Ward  \\\n",
      "7784659                        RESIDENCE   False      True  ...    44   \n",
      "7784660                           STREET   False     False  ...     9   \n",
      "7784661                        RESIDENCE   False     False  ...     5   \n",
      "7784662  RESIDENCE - YARD (FRONT / BACK)    True     False  ...    45   \n",
      "7784663                         SIDEWALK    True     False  ...    29   \n",
      "\n",
      "         Community Area  FBI Code  X Coordinate Y Coordinate  Year  \\\n",
      "7784659               6        26     1172497.0    1919410.0  2022   \n",
      "7784660              49        11     1179966.0    1828818.0  2022   \n",
      "7784661              43        06     1193181.0    1859005.0  2022   \n",
      "7784662              11        18     1140553.0    1933418.0  2022   \n",
      "7784663              25        15     1136773.0    1899652.0  2022   \n",
      "\n",
      "                     Updated On   Latitude  Longitude  \\\n",
      "7784659  01/03/2023 03:46:28 PM  41.934303 -87.641487   \n",
      "7784660  01/03/2023 03:46:28 PM  41.685543 -87.616814   \n",
      "7784661  01/03/2023 03:46:28 PM  41.768066 -87.567451   \n",
      "7784662  01/03/2023 03:46:28 PM  41.973392 -87.758537   \n",
      "7784663  01/03/2023 03:46:28 PM  41.880802 -87.773247   \n",
      "\n",
      "                              Location  \n",
      "7784659  (41.934304581, -87.641484982)  \n",
      "7784660  (41.685543881, -87.616812541)  \n",
      "7784661  (41.768068052, -87.567452932)  \n",
      "7784662  (41.973391184, -87.758534512)  \n",
      "7784663  (41.880802263, -87.773245737)  \n",
      "\n",
      "[5 rows x 22 columns]\n"
     ]
    }
   ],
   "source": [
    "# checking last five rows\n",
    "print (\"\\nThe last five rows\")\n",
    "print(df.tail())"
   ]
  },
  {
   "cell_type": "code",
   "execution_count": 34,
   "id": "dee81519",
   "metadata": {},
   "outputs": [
    {
     "data": {
      "text/plain": [
       "ID                           0\n",
       "Case Number                  4\n",
       "Date                         0\n",
       "Block                        0\n",
       "IUCR                         0\n",
       "Primary Type                 0\n",
       "Description                  0\n",
       "Location Description     10381\n",
       "Arrest                       0\n",
       "Domestic                     0\n",
       "Beat                         0\n",
       "District                    47\n",
       "Ward                    614848\n",
       "Community Area          613476\n",
       "FBI Code                     0\n",
       "X Coordinate             86848\n",
       "Y Coordinate             86848\n",
       "Year                         0\n",
       "Updated On                   0\n",
       "Latitude                 86848\n",
       "Longitude                86848\n",
       "Location                 86848\n",
       "dtype: int64"
      ]
     },
     "execution_count": 34,
     "metadata": {},
     "output_type": "execute_result"
    }
   ],
   "source": [
    "# checking the missing data\n",
    "df.isna().sum()"
   ]
  },
  {
   "cell_type": "markdown",
   "id": "5a1f79a7",
   "metadata": {},
   "source": [
    "## Data Cleaning and Preprocessing"
   ]
  },
  {
   "cell_type": "markdown",
   "id": "76a32a28",
   "metadata": {},
   "source": [
    "### Let extract data from data"
   ]
  },
  {
   "cell_type": "code",
   "execution_count": 35,
   "id": "36ce7022",
   "metadata": {},
   "outputs": [],
   "source": [
    " # Ensure Date is datetime\n",
    "df['Date'] = pd.to_datetime(\n",
    "    df['Date'],\n",
    "    format=\"%m/%d/%Y %I:%M:%S %p\",\n",
    "    errors=\"coerce\"\n",
    ")\n"
   ]
  },
  {
   "cell_type": "code",
   "execution_count": 36,
   "id": "a66dff29",
   "metadata": {},
   "outputs": [],
   "source": [
    "# Extract date components\n",
    "df['Year'] = df['Date'].dt.year\n",
    "df['Month'] = df['Date'].dt.month\n",
    "df['Day'] = df['Date'].dt.day\n",
    "df['Hour'] = df['Date'].dt.hour\n",
    "df['Day_of_Week'] = df['Date'].dt.dayofweek  # 0=Monday, 6=Sunday\n",
    "df['Day_Name'] = df['Date'].dt.day_name()\n",
    "df['Month_Name'] = df['Date'].dt.month_name()\n",
    "df['Quarter'] = df['Date'].dt.quarter\n",
    "df['Is_Weekend'] = df['Day_of_Week'].isin([5, 6])  # Saturday, Sunday"
   ]
  },
  {
   "cell_type": "code",
   "execution_count": 37,
   "id": "24df76bd",
   "metadata": {},
   "outputs": [
    {
     "data": {
      "text/plain": [
       "Index(['ID', 'Case Number', 'Date', 'Block', 'IUCR', 'Primary Type',\n",
       "       'Description', 'Location Description', 'Arrest', 'Domestic', 'Beat',\n",
       "       'District', 'Ward', 'Community Area', 'FBI Code', 'X Coordinate',\n",
       "       'Y Coordinate', 'Year', 'Updated On', 'Latitude', 'Longitude',\n",
       "       'Location', 'Month', 'Day', 'Hour', 'Day_of_Week', 'Day_Name',\n",
       "       'Month_Name', 'Quarter', 'Is_Weekend'],\n",
       "      dtype='object')"
      ]
     },
     "execution_count": 37,
     "metadata": {},
     "output_type": "execute_result"
    }
   ],
   "source": [
    "# let see the new columns\n",
    "df.columns"
   ]
  },
  {
   "cell_type": "markdown",
   "id": "8e683396",
   "metadata": {},
   "source": [
    "### Now let remove missing values"
   ]
  },
  {
   "cell_type": "code",
   "execution_count": 38,
   "id": "8759d7c2",
   "metadata": {},
   "outputs": [
    {
     "data": {
      "text/plain": [
       "ID                           0\n",
       "Case Number                  4\n",
       "Date                         0\n",
       "Block                        0\n",
       "IUCR                         0\n",
       "Primary Type                 0\n",
       "Description                  0\n",
       "Location Description     10381\n",
       "Arrest                       0\n",
       "Domestic                     0\n",
       "Beat                         0\n",
       "District                    47\n",
       "Ward                    614848\n",
       "Community Area          613476\n",
       "FBI Code                     0\n",
       "X Coordinate             86848\n",
       "Y Coordinate             86848\n",
       "Year                         0\n",
       "Updated On                   0\n",
       "Latitude                 86848\n",
       "Longitude                86848\n",
       "Location                 86848\n",
       "Month                        0\n",
       "Day                          0\n",
       "Hour                         0\n",
       "Day_of_Week                  0\n",
       "Day_Name                     0\n",
       "Month_Name                   0\n",
       "Quarter                      0\n",
       "Is_Weekend                   0\n",
       "dtype: int64"
      ]
     },
     "execution_count": 38,
     "metadata": {},
     "output_type": "execute_result"
    }
   ],
   "source": [
    "# let remove missing value\n",
    "df.isna().sum()"
   ]
  },
  {
   "cell_type": "code",
   "execution_count": 39,
   "id": "6fadb52a",
   "metadata": {},
   "outputs": [],
   "source": [
    "# let make a copy first\n",
    "new_df= df.copy()"
   ]
  },
  {
   "cell_type": "code",
   "execution_count": 40,
   "id": "55928aab",
   "metadata": {},
   "outputs": [
    {
     "name": "stdout",
     "output_type": "stream",
     "text": [
      "Data size before cleaning: 7784664\n",
      "Data size after cleaning: 7697816\n"
     ]
    }
   ],
   "source": [
    "# removing invalid data \n",
    "print(f\"Data size before cleaning: {len(new_df)}\")\n",
    "new_df.dropna(subset=\"Location\", inplace=True)\n",
    "print(f\"Data size after cleaning: {len(new_df)}\")"
   ]
  },
  {
   "cell_type": "code",
   "execution_count": 41,
   "id": "2bb9a605",
   "metadata": {},
   "outputs": [
    {
     "name": "stdout",
     "output_type": "stream",
     "text": [
      "Data size before cleaning: 7697816\n",
      "Data size after cleaning: 7697816\n"
     ]
    }
   ],
   "source": [
    "# removing duplicate data \n",
    "print(f\"Data size before cleaning: {len(new_df)}\")\n",
    "new_df.drop_duplicates()\n",
    "print(f\"Data size after cleaning: {len(new_df)}\")"
   ]
  },
  {
   "cell_type": "code",
   "execution_count": 42,
   "id": "8a80178f",
   "metadata": {},
   "outputs": [
    {
     "name": "stdout",
     "output_type": "stream",
     "text": [
      "Data size before cleaning: 7697816\n",
      "After removing invalid coordinates: 7671877 removed:(25939)\n"
     ]
    }
   ],
   "source": [
    "# removing data outrange of Chicago distreet\n",
    "print(f\"Data size before cleaning: {len(new_df)}\")\n",
    "cleaned_df= new_df[((new_df[\"Latitude\"]).between(41.6, 42.1)) &\n",
    "                ((new_df[\"Longitude\"]).between(-87.9, -87.5))\n",
    "                ]\n",
    "cleaned_df.reset_index()\n",
    "print(f\"After removing invalid coordinates: {len(cleaned_df)} removed:({len(new_df) - len(cleaned_df)})\")\n"
   ]
  },
  {
   "cell_type": "code",
   "execution_count": 43,
   "id": "3fe4e7c7",
   "metadata": {},
   "outputs": [
    {
     "name": "stdout",
     "output_type": "stream",
     "text": [
      "After removing District and ward outliers: 7068425 removed:(603452)\n"
     ]
    }
   ],
   "source": [
    "# Handle outliers in district/ward\n",
    "ncleaned_df = cleaned_df[\n",
    "    (cleaned_df['District'].between(1, 25)) & \n",
    "    (cleaned_df['Ward'].between(1, 50))\n",
    "]\n",
    "print(f\"After removing District and ward outliers: {len(ncleaned_df)} removed:({len(cleaned_df) - len(ncleaned_df)})\")\n"
   ]
  },
  {
   "cell_type": "code",
   "execution_count": 44,
   "id": "325d910a",
   "metadata": {},
   "outputs": [],
   "source": [
    "# let  Standardize text fields 'Primary Type' and 'Location Description' for easy retrieval without missing out data\n",
    "ncleaned_df['Primary Type']=ncleaned_df['Primary Type'].str.upper()\n",
    "ncleaned_df['Location Description']=ncleaned_df['Location Description'].str.upper()"
   ]
  },
  {
   "cell_type": "code",
   "execution_count": 45,
   "id": "34626089",
   "metadata": {},
   "outputs": [
    {
     "data": {
      "text/plain": [
       "0    RESIDENCE\n",
       "1      CTA BUS\n",
       "3     SIDEWALK\n",
       "4    APARTMENT\n",
       "5    RESIDENCE\n",
       "Name: Location Description, dtype: object"
      ]
     },
     "execution_count": 45,
     "metadata": {},
     "output_type": "execute_result"
    }
   ],
   "source": [
    "ncleaned_df['Location Description'].head()"
   ]
  },
  {
   "cell_type": "code",
   "execution_count": 46,
   "id": "62a189ec",
   "metadata": {},
   "outputs": [
    {
     "data": {
      "text/plain": [
       "0      BATTERY\n",
       "1        THEFT\n",
       "3    NARCOTICS\n",
       "4      ASSAULT\n",
       "5     BURGLARY\n",
       "Name: Primary Type, dtype: object"
      ]
     },
     "execution_count": 46,
     "metadata": {},
     "output_type": "execute_result"
    }
   ],
   "source": [
    "ncleaned_df['Primary Type'].head()"
   ]
  },
  {
   "cell_type": "code",
   "execution_count": 47,
   "id": "020a95bb",
   "metadata": {},
   "outputs": [
    {
     "name": "stdout",
     "output_type": "stream",
     "text": [
      "Missing Critical Fields:\n",
      "Date            0\n",
      "Primary Type    0\n",
      "Latitude        0\n",
      "Longitude       0\n",
      "dtype: int64\n"
     ]
    }
   ],
   "source": [
    "# verifying the data\n",
    "# checking the missing data\n",
    " # Missing critical fields\n",
    "critical_missing = ncleaned_df[['Date', 'Primary Type', 'Latitude', 'Longitude']].isnull().sum()\n",
    "print(f\"Missing Critical Fields:\\n{critical_missing}\")"
   ]
  },
  {
   "cell_type": "markdown",
   "id": "ab39d0fd",
   "metadata": {},
   "source": [
    "### Export the cleaned data"
   ]
  },
  {
   "cell_type": "code",
   "execution_count": 48,
   "id": "8e430c3c",
   "metadata": {},
   "outputs": [],
   "source": [
    "ncleaned_df.to_csv(\"../data/Cleaned_data.csv\", index=False)"
   ]
  },
  {
   "cell_type": "markdown",
   "id": "81f37bbb",
   "metadata": {},
   "source": [
    "## Descriptive Data Analysis(DDA)"
   ]
  },
  {
   "cell_type": "markdown",
   "id": "a1a981e6",
   "metadata": {},
   "source": [
    "### Crime Data Analysis – Insights Framework (Some insight to look at)\n",
    "\n",
    "1. Frequency Insights (What types of crimes & where they occur most)\n",
    "\n",
    "    -   Top 10 major crime types (Primary Type).\n",
    "    -   Top 10 wards with the highest crime\n",
    "    -   Top 10 districts with the highest crime counts.\n",
    "    -   Top 10 blocks with the highest crime counts.\\\n",
    "    -   Location-based crime analysis (e.g., Residence, Street, Public Place).\n",
    "\n",
    "2. Temporal Insights (When crimes happen)\n",
    "\n",
    "    -   Crime frequency by day of the week.\n",
    "    -   Crime trends by month of the year.\n",
    "    -   Year-over-year crime trend (if dataset spans multiple years).\n",
    "    -   Hourly distribution of crimes (crime patterns across the day).\n",
    "    -   Weekday vs Weekend crime comparison.\n",
    "\n",
    "3. Resolution Insights (How crimes are resolved)\n",
    "\n",
    "    -   Overall resolution rate (Arrested vs Not Arrested).\n",
    "    -   Arrest likelihood by crime type (which crimes are most likely to result in arrest).\n",
    "    -   Domestic vs Non-domestic crime comparison (both frequency & resolution).\n",
    "    -   Ward with the highest crime resolution rate (effectiveness by region).\n",
    "\n",
    "4. Trend & Severity Insights (How crimes evolve & seriousness)\n",
    "\n",
    "    -   Long-term trend analysis (crime volume over multiple years).\n",
    "    -   Crime severity breakdown (if IUCR or felony/misdemeanor distinction is available)."
   ]
  },
  {
   "cell_type": "code",
   "execution_count": 3,
   "id": "dc572af3",
   "metadata": {},
   "outputs": [
    {
     "data": {
      "text/html": [
       "<div>\n",
       "<style scoped>\n",
       "    .dataframe tbody tr th:only-of-type {\n",
       "        vertical-align: middle;\n",
       "    }\n",
       "\n",
       "    .dataframe tbody tr th {\n",
       "        vertical-align: top;\n",
       "    }\n",
       "\n",
       "    .dataframe thead th {\n",
       "        text-align: right;\n",
       "    }\n",
       "</style>\n",
       "<table border=\"1\" class=\"dataframe\">\n",
       "  <thead>\n",
       "    <tr style=\"text-align: right;\">\n",
       "      <th></th>\n",
       "      <th>ID</th>\n",
       "      <th>Case Number</th>\n",
       "      <th>Date</th>\n",
       "      <th>Block</th>\n",
       "      <th>IUCR</th>\n",
       "      <th>Primary Type</th>\n",
       "      <th>Description</th>\n",
       "      <th>Location Description</th>\n",
       "      <th>Arrest</th>\n",
       "      <th>Domestic</th>\n",
       "      <th>...</th>\n",
       "      <th>Longitude</th>\n",
       "      <th>Location</th>\n",
       "      <th>Month</th>\n",
       "      <th>Day</th>\n",
       "      <th>Hour</th>\n",
       "      <th>Day_of_Week</th>\n",
       "      <th>Day_Name</th>\n",
       "      <th>Month_Name</th>\n",
       "      <th>Quarter</th>\n",
       "      <th>Is_Weekend</th>\n",
       "    </tr>\n",
       "  </thead>\n",
       "  <tbody>\n",
       "    <tr>\n",
       "      <th>0</th>\n",
       "      <td>10224738</td>\n",
       "      <td>HY411648</td>\n",
       "      <td>2015-09-05 13:30:00</td>\n",
       "      <td>043XX S WOOD ST</td>\n",
       "      <td>0486</td>\n",
       "      <td>BATTERY</td>\n",
       "      <td>DOMESTIC BATTERY SIMPLE</td>\n",
       "      <td>RESIDENCE</td>\n",
       "      <td>False</td>\n",
       "      <td>True</td>\n",
       "      <td>...</td>\n",
       "      <td>-87.67000</td>\n",
       "      <td>(41.815117282, -87.669999562)</td>\n",
       "      <td>9</td>\n",
       "      <td>5</td>\n",
       "      <td>13</td>\n",
       "      <td>5</td>\n",
       "      <td>Saturday</td>\n",
       "      <td>September</td>\n",
       "      <td>3</td>\n",
       "      <td>True</td>\n",
       "    </tr>\n",
       "    <tr>\n",
       "      <th>1</th>\n",
       "      <td>10224739</td>\n",
       "      <td>HY411615</td>\n",
       "      <td>2015-09-04 11:30:00</td>\n",
       "      <td>008XX N CENTRAL AVE</td>\n",
       "      <td>0870</td>\n",
       "      <td>THEFT</td>\n",
       "      <td>POCKET-PICKING</td>\n",
       "      <td>CTA BUS</td>\n",
       "      <td>False</td>\n",
       "      <td>False</td>\n",
       "      <td>...</td>\n",
       "      <td>-87.76540</td>\n",
       "      <td>(41.895080471, -87.765400451)</td>\n",
       "      <td>9</td>\n",
       "      <td>4</td>\n",
       "      <td>11</td>\n",
       "      <td>4</td>\n",
       "      <td>Friday</td>\n",
       "      <td>September</td>\n",
       "      <td>3</td>\n",
       "      <td>False</td>\n",
       "    </tr>\n",
       "    <tr>\n",
       "      <th>2</th>\n",
       "      <td>10224740</td>\n",
       "      <td>HY411595</td>\n",
       "      <td>2015-09-05 12:45:00</td>\n",
       "      <td>035XX W BARRY AVE</td>\n",
       "      <td>2023</td>\n",
       "      <td>NARCOTICS</td>\n",
       "      <td>POSS: HEROIN(BRN/TAN)</td>\n",
       "      <td>SIDEWALK</td>\n",
       "      <td>True</td>\n",
       "      <td>False</td>\n",
       "      <td>...</td>\n",
       "      <td>-87.71665</td>\n",
       "      <td>(41.937405765, -87.716649687)</td>\n",
       "      <td>9</td>\n",
       "      <td>5</td>\n",
       "      <td>12</td>\n",
       "      <td>5</td>\n",
       "      <td>Saturday</td>\n",
       "      <td>September</td>\n",
       "      <td>3</td>\n",
       "      <td>True</td>\n",
       "    </tr>\n",
       "    <tr>\n",
       "      <th>3</th>\n",
       "      <td>10224741</td>\n",
       "      <td>HY411610</td>\n",
       "      <td>2015-09-05 13:00:00</td>\n",
       "      <td>0000X N LARAMIE AVE</td>\n",
       "      <td>0560</td>\n",
       "      <td>ASSAULT</td>\n",
       "      <td>SIMPLE</td>\n",
       "      <td>APARTMENT</td>\n",
       "      <td>False</td>\n",
       "      <td>True</td>\n",
       "      <td>...</td>\n",
       "      <td>-87.75512</td>\n",
       "      <td>(41.881903443, -87.755121152)</td>\n",
       "      <td>9</td>\n",
       "      <td>5</td>\n",
       "      <td>13</td>\n",
       "      <td>5</td>\n",
       "      <td>Saturday</td>\n",
       "      <td>September</td>\n",
       "      <td>3</td>\n",
       "      <td>True</td>\n",
       "    </tr>\n",
       "    <tr>\n",
       "      <th>4</th>\n",
       "      <td>10224742</td>\n",
       "      <td>HY411435</td>\n",
       "      <td>2015-09-05 10:55:00</td>\n",
       "      <td>082XX S LOOMIS BLVD</td>\n",
       "      <td>0610</td>\n",
       "      <td>BURGLARY</td>\n",
       "      <td>FORCIBLE ENTRY</td>\n",
       "      <td>RESIDENCE</td>\n",
       "      <td>False</td>\n",
       "      <td>False</td>\n",
       "      <td>...</td>\n",
       "      <td>-87.65843</td>\n",
       "      <td>(41.744378879, -87.658430635)</td>\n",
       "      <td>9</td>\n",
       "      <td>5</td>\n",
       "      <td>10</td>\n",
       "      <td>5</td>\n",
       "      <td>Saturday</td>\n",
       "      <td>September</td>\n",
       "      <td>3</td>\n",
       "      <td>True</td>\n",
       "    </tr>\n",
       "  </tbody>\n",
       "</table>\n",
       "<p>5 rows × 30 columns</p>\n",
       "</div>"
      ],
      "text/plain": [
       "         ID Case Number                 Date                Block  IUCR  \\\n",
       "0  10224738    HY411648  2015-09-05 13:30:00      043XX S WOOD ST  0486   \n",
       "1  10224739    HY411615  2015-09-04 11:30:00  008XX N CENTRAL AVE  0870   \n",
       "2  10224740    HY411595  2015-09-05 12:45:00    035XX W BARRY AVE  2023   \n",
       "3  10224741    HY411610  2015-09-05 13:00:00  0000X N LARAMIE AVE  0560   \n",
       "4  10224742    HY411435  2015-09-05 10:55:00  082XX S LOOMIS BLVD  0610   \n",
       "\n",
       "  Primary Type              Description Location Description  Arrest  \\\n",
       "0      BATTERY  DOMESTIC BATTERY SIMPLE            RESIDENCE   False   \n",
       "1        THEFT           POCKET-PICKING              CTA BUS   False   \n",
       "2    NARCOTICS    POSS: HEROIN(BRN/TAN)             SIDEWALK    True   \n",
       "3      ASSAULT                   SIMPLE            APARTMENT   False   \n",
       "4     BURGLARY           FORCIBLE ENTRY            RESIDENCE   False   \n",
       "\n",
       "   Domestic  ...  Longitude                       Location  Month  Day Hour  \\\n",
       "0      True  ...  -87.67000  (41.815117282, -87.669999562)      9    5   13   \n",
       "1     False  ...  -87.76540  (41.895080471, -87.765400451)      9    4   11   \n",
       "2     False  ...  -87.71665  (41.937405765, -87.716649687)      9    5   12   \n",
       "3      True  ...  -87.75512  (41.881903443, -87.755121152)      9    5   13   \n",
       "4     False  ...  -87.65843  (41.744378879, -87.658430635)      9    5   10   \n",
       "\n",
       "   Day_of_Week  Day_Name  Month_Name Quarter  Is_Weekend  \n",
       "0            5  Saturday   September       3        True  \n",
       "1            4    Friday   September       3       False  \n",
       "2            5  Saturday   September       3        True  \n",
       "3            5  Saturday   September       3        True  \n",
       "4            5  Saturday   September       3        True  \n",
       "\n",
       "[5 rows x 30 columns]"
      ]
     },
     "execution_count": 3,
     "metadata": {},
     "output_type": "execute_result"
    }
   ],
   "source": [
    "# let copy the cleaned data before we start analysis\n",
    "# df_cleaned = ncleaned_df.copy()\n",
    "\n",
    "# reload the cleaned data if required to load it from the start again\n",
    "# reload the importation of libaries codes too\n",
    "import pandas as pd\n",
    "import matplotlib.pyplot as plt\n",
    "\n",
    "# # ignore warnings\n",
    "# import warnings\n",
    "# warnings.filterwarnings('ignore')\n",
    " \n",
    "df_cleaned = pd.read_csv('../data/Cleaned_data.csv')\n",
    "df_cleaned.head()"
   ]
  },
  {
   "cell_type": "markdown",
   "id": "e7327454",
   "metadata": {},
   "source": [
    "### 1. Frequency Insights (What types of crimes & where they occur most)"
   ]
  },
  {
   "cell_type": "markdown",
   "id": "b3bf9d11",
   "metadata": {},
   "source": [
    "#### Top 10 major crime types (Primary Type)"
   ]
  },
  {
   "cell_type": "code",
   "execution_count": 5,
   "id": "bad6f87e",
   "metadata": {},
   "outputs": [
    {
     "ename": "KeyboardInterrupt",
     "evalue": "",
     "output_type": "error",
     "traceback": [
      "\u001b[31m---------------------------------------------------------------------------\u001b[39m",
      "\u001b[31mKeyboardInterrupt\u001b[39m                         Traceback (most recent call last)",
      "\u001b[36mCell\u001b[39m\u001b[36m \u001b[39m\u001b[32mIn[5]\u001b[39m\u001b[32m, line 1\u001b[39m\n\u001b[32m----> \u001b[39m\u001b[32m1\u001b[39m \u001b[43mdf_cleaned\u001b[49m\u001b[43m.\u001b[49m\u001b[43mgroupby\u001b[49m\u001b[43m(\u001b[49m\u001b[33;43m\"\u001b[39;49m\u001b[33;43mWard\u001b[39;49m\u001b[33;43m\"\u001b[39;49m\u001b[43m)\u001b[49m\u001b[43m[\u001b[49m\u001b[33;43m\"\u001b[39;49m\u001b[33;43mPrimary Type\u001b[39;49m\u001b[33;43m\"\u001b[39;49m\u001b[43m]\u001b[49m\u001b[43m.\u001b[49m\u001b[43msum\u001b[49m\u001b[43m(\u001b[49m\u001b[43m)\u001b[49m\n",
      "\u001b[36mFile \u001b[39m\u001b[32m~\\AppData\\Roaming\\Python\\Python313\\site-packages\\pandas\\core\\groupby\\groupby.py:3152\u001b[39m, in \u001b[36mGroupBy.sum\u001b[39m\u001b[34m(self, numeric_only, min_count, engine, engine_kwargs)\u001b[39m\n\u001b[32m   3147\u001b[39m \u001b[38;5;28;01melse\u001b[39;00m:\n\u001b[32m   3148\u001b[39m     \u001b[38;5;66;03m# If we are grouping on categoricals we want unobserved categories to\u001b[39;00m\n\u001b[32m   3149\u001b[39m     \u001b[38;5;66;03m# return zero, rather than the default of NaN which the reindexing in\u001b[39;00m\n\u001b[32m   3150\u001b[39m     \u001b[38;5;66;03m# _agg_general() returns. GH #31422\u001b[39;00m\n\u001b[32m   3151\u001b[39m     \u001b[38;5;28;01mwith\u001b[39;00m com.temp_setattr(\u001b[38;5;28mself\u001b[39m, \u001b[33m\"\u001b[39m\u001b[33mobserved\u001b[39m\u001b[33m\"\u001b[39m, \u001b[38;5;28;01mTrue\u001b[39;00m):\n\u001b[32m-> \u001b[39m\u001b[32m3152\u001b[39m         result = \u001b[38;5;28;43mself\u001b[39;49m\u001b[43m.\u001b[49m\u001b[43m_agg_general\u001b[49m\u001b[43m(\u001b[49m\n\u001b[32m   3153\u001b[39m \u001b[43m            \u001b[49m\u001b[43mnumeric_only\u001b[49m\u001b[43m=\u001b[49m\u001b[43mnumeric_only\u001b[49m\u001b[43m,\u001b[49m\n\u001b[32m   3154\u001b[39m \u001b[43m            \u001b[49m\u001b[43mmin_count\u001b[49m\u001b[43m=\u001b[49m\u001b[43mmin_count\u001b[49m\u001b[43m,\u001b[49m\n\u001b[32m   3155\u001b[39m \u001b[43m            \u001b[49m\u001b[43malias\u001b[49m\u001b[43m=\u001b[49m\u001b[33;43m\"\u001b[39;49m\u001b[33;43msum\u001b[39;49m\u001b[33;43m\"\u001b[39;49m\u001b[43m,\u001b[49m\n\u001b[32m   3156\u001b[39m \u001b[43m            \u001b[49m\u001b[43mnpfunc\u001b[49m\u001b[43m=\u001b[49m\u001b[43mnp\u001b[49m\u001b[43m.\u001b[49m\u001b[43msum\u001b[49m\u001b[43m,\u001b[49m\n\u001b[32m   3157\u001b[39m \u001b[43m        \u001b[49m\u001b[43m)\u001b[49m\n\u001b[32m   3159\u001b[39m     \u001b[38;5;28;01mreturn\u001b[39;00m \u001b[38;5;28mself\u001b[39m._reindex_output(result, fill_value=\u001b[32m0\u001b[39m)\n",
      "\u001b[36mFile \u001b[39m\u001b[32m~\\AppData\\Roaming\\Python\\Python313\\site-packages\\pandas\\core\\groupby\\groupby.py:1907\u001b[39m, in \u001b[36mGroupBy._agg_general\u001b[39m\u001b[34m(self, numeric_only, min_count, alias, npfunc, **kwargs)\u001b[39m\n\u001b[32m   1897\u001b[39m \u001b[38;5;129m@final\u001b[39m\n\u001b[32m   1898\u001b[39m \u001b[38;5;28;01mdef\u001b[39;00m\u001b[38;5;250m \u001b[39m\u001b[34m_agg_general\u001b[39m(\n\u001b[32m   1899\u001b[39m     \u001b[38;5;28mself\u001b[39m,\n\u001b[32m   (...)\u001b[39m\u001b[32m   1905\u001b[39m     **kwargs,\n\u001b[32m   1906\u001b[39m ):\n\u001b[32m-> \u001b[39m\u001b[32m1907\u001b[39m     result = \u001b[38;5;28;43mself\u001b[39;49m\u001b[43m.\u001b[49m\u001b[43m_cython_agg_general\u001b[49m\u001b[43m(\u001b[49m\n\u001b[32m   1908\u001b[39m \u001b[43m        \u001b[49m\u001b[43mhow\u001b[49m\u001b[43m=\u001b[49m\u001b[43malias\u001b[49m\u001b[43m,\u001b[49m\n\u001b[32m   1909\u001b[39m \u001b[43m        \u001b[49m\u001b[43malt\u001b[49m\u001b[43m=\u001b[49m\u001b[43mnpfunc\u001b[49m\u001b[43m,\u001b[49m\n\u001b[32m   1910\u001b[39m \u001b[43m        \u001b[49m\u001b[43mnumeric_only\u001b[49m\u001b[43m=\u001b[49m\u001b[43mnumeric_only\u001b[49m\u001b[43m,\u001b[49m\n\u001b[32m   1911\u001b[39m \u001b[43m        \u001b[49m\u001b[43mmin_count\u001b[49m\u001b[43m=\u001b[49m\u001b[43mmin_count\u001b[49m\u001b[43m,\u001b[49m\n\u001b[32m   1912\u001b[39m \u001b[43m        \u001b[49m\u001b[43m*\u001b[49m\u001b[43m*\u001b[49m\u001b[43mkwargs\u001b[49m\u001b[43m,\u001b[49m\n\u001b[32m   1913\u001b[39m \u001b[43m    \u001b[49m\u001b[43m)\u001b[49m\n\u001b[32m   1914\u001b[39m     \u001b[38;5;28;01mreturn\u001b[39;00m result.__finalize__(\u001b[38;5;28mself\u001b[39m.obj, method=\u001b[33m\"\u001b[39m\u001b[33mgroupby\u001b[39m\u001b[33m\"\u001b[39m)\n",
      "\u001b[36mFile \u001b[39m\u001b[32m~\\AppData\\Roaming\\Python\\Python313\\site-packages\\pandas\\core\\groupby\\groupby.py:2004\u001b[39m, in \u001b[36mGroupBy._cython_agg_general\u001b[39m\u001b[34m(self, how, alt, numeric_only, min_count, **kwargs)\u001b[39m\n\u001b[32m   2001\u001b[39m     result = \u001b[38;5;28mself\u001b[39m._agg_py_fallback(how, values, ndim=data.ndim, alt=alt)\n\u001b[32m   2002\u001b[39m     \u001b[38;5;28;01mreturn\u001b[39;00m result\n\u001b[32m-> \u001b[39m\u001b[32m2004\u001b[39m new_mgr = \u001b[43mdata\u001b[49m\u001b[43m.\u001b[49m\u001b[43mgrouped_reduce\u001b[49m\u001b[43m(\u001b[49m\u001b[43marray_func\u001b[49m\u001b[43m)\u001b[49m\n\u001b[32m   2005\u001b[39m res = \u001b[38;5;28mself\u001b[39m._wrap_agged_manager(new_mgr)\n\u001b[32m   2006\u001b[39m \u001b[38;5;28;01mif\u001b[39;00m how \u001b[38;5;129;01min\u001b[39;00m [\u001b[33m\"\u001b[39m\u001b[33midxmin\u001b[39m\u001b[33m\"\u001b[39m, \u001b[33m\"\u001b[39m\u001b[33midxmax\u001b[39m\u001b[33m\"\u001b[39m]:\n",
      "\u001b[36mFile \u001b[39m\u001b[32m~\\AppData\\Roaming\\Python\\Python313\\site-packages\\pandas\\core\\internals\\base.py:367\u001b[39m, in \u001b[36mSingleDataManager.grouped_reduce\u001b[39m\u001b[34m(self, func)\u001b[39m\n\u001b[32m    365\u001b[39m \u001b[38;5;28;01mdef\u001b[39;00m\u001b[38;5;250m \u001b[39m\u001b[34mgrouped_reduce\u001b[39m(\u001b[38;5;28mself\u001b[39m, func):\n\u001b[32m    366\u001b[39m     arr = \u001b[38;5;28mself\u001b[39m.array\n\u001b[32m--> \u001b[39m\u001b[32m367\u001b[39m     res = \u001b[43mfunc\u001b[49m\u001b[43m(\u001b[49m\u001b[43marr\u001b[49m\u001b[43m)\u001b[49m\n\u001b[32m    368\u001b[39m     index = default_index(\u001b[38;5;28mlen\u001b[39m(res))\n\u001b[32m    370\u001b[39m     mgr = \u001b[38;5;28mtype\u001b[39m(\u001b[38;5;28mself\u001b[39m).from_array(res, index)\n",
      "\u001b[36mFile \u001b[39m\u001b[32m~\\AppData\\Roaming\\Python\\Python313\\site-packages\\pandas\\core\\groupby\\groupby.py:1979\u001b[39m, in \u001b[36mGroupBy._cython_agg_general.<locals>.array_func\u001b[39m\u001b[34m(values)\u001b[39m\n\u001b[32m   1977\u001b[39m \u001b[38;5;28;01mdef\u001b[39;00m\u001b[38;5;250m \u001b[39m\u001b[34marray_func\u001b[39m(values: ArrayLike) -> ArrayLike:\n\u001b[32m   1978\u001b[39m     \u001b[38;5;28;01mtry\u001b[39;00m:\n\u001b[32m-> \u001b[39m\u001b[32m1979\u001b[39m         result = \u001b[38;5;28;43mself\u001b[39;49m\u001b[43m.\u001b[49m\u001b[43m_grouper\u001b[49m\u001b[43m.\u001b[49m\u001b[43m_cython_operation\u001b[49m\u001b[43m(\u001b[49m\n\u001b[32m   1980\u001b[39m \u001b[43m            \u001b[49m\u001b[33;43m\"\u001b[39;49m\u001b[33;43maggregate\u001b[39;49m\u001b[33;43m\"\u001b[39;49m\u001b[43m,\u001b[49m\n\u001b[32m   1981\u001b[39m \u001b[43m            \u001b[49m\u001b[43mvalues\u001b[49m\u001b[43m,\u001b[49m\n\u001b[32m   1982\u001b[39m \u001b[43m            \u001b[49m\u001b[43mhow\u001b[49m\u001b[43m,\u001b[49m\n\u001b[32m   1983\u001b[39m \u001b[43m            \u001b[49m\u001b[43maxis\u001b[49m\u001b[43m=\u001b[49m\u001b[43mdata\u001b[49m\u001b[43m.\u001b[49m\u001b[43mndim\u001b[49m\u001b[43m \u001b[49m\u001b[43m-\u001b[49m\u001b[43m \u001b[49m\u001b[32;43m1\u001b[39;49m\u001b[43m,\u001b[49m\n\u001b[32m   1984\u001b[39m \u001b[43m            \u001b[49m\u001b[43mmin_count\u001b[49m\u001b[43m=\u001b[49m\u001b[43mmin_count\u001b[49m\u001b[43m,\u001b[49m\n\u001b[32m   1985\u001b[39m \u001b[43m            \u001b[49m\u001b[43m*\u001b[49m\u001b[43m*\u001b[49m\u001b[43mkwargs\u001b[49m\u001b[43m,\u001b[49m\n\u001b[32m   1986\u001b[39m \u001b[43m        \u001b[49m\u001b[43m)\u001b[49m\n\u001b[32m   1987\u001b[39m     \u001b[38;5;28;01mexcept\u001b[39;00m \u001b[38;5;167;01mNotImplementedError\u001b[39;00m:\n\u001b[32m   1988\u001b[39m         \u001b[38;5;66;03m# generally if we have numeric_only=False\u001b[39;00m\n\u001b[32m   1989\u001b[39m         \u001b[38;5;66;03m# and non-applicable functions\u001b[39;00m\n\u001b[32m   1990\u001b[39m         \u001b[38;5;66;03m# try to python agg\u001b[39;00m\n\u001b[32m   1991\u001b[39m         \u001b[38;5;66;03m# TODO: shouldn't min_count matter?\u001b[39;00m\n\u001b[32m   1992\u001b[39m         \u001b[38;5;66;03m# TODO: avoid special casing SparseArray here\u001b[39;00m\n\u001b[32m   1993\u001b[39m         \u001b[38;5;28;01mif\u001b[39;00m how \u001b[38;5;129;01min\u001b[39;00m [\u001b[33m\"\u001b[39m\u001b[33many\u001b[39m\u001b[33m\"\u001b[39m, \u001b[33m\"\u001b[39m\u001b[33mall\u001b[39m\u001b[33m\"\u001b[39m] \u001b[38;5;129;01mand\u001b[39;00m \u001b[38;5;28misinstance\u001b[39m(values, SparseArray):\n",
      "\u001b[36mFile \u001b[39m\u001b[32m~\\AppData\\Roaming\\Python\\Python313\\site-packages\\pandas\\core\\groupby\\ops.py:831\u001b[39m, in \u001b[36mBaseGrouper._cython_operation\u001b[39m\u001b[34m(self, kind, values, how, axis, min_count, **kwargs)\u001b[39m\n\u001b[32m    829\u001b[39m ids, _, _ = \u001b[38;5;28mself\u001b[39m.group_info\n\u001b[32m    830\u001b[39m ngroups = \u001b[38;5;28mself\u001b[39m.ngroups\n\u001b[32m--> \u001b[39m\u001b[32m831\u001b[39m \u001b[38;5;28;01mreturn\u001b[39;00m \u001b[43mcy_op\u001b[49m\u001b[43m.\u001b[49m\u001b[43mcython_operation\u001b[49m\u001b[43m(\u001b[49m\n\u001b[32m    832\u001b[39m \u001b[43m    \u001b[49m\u001b[43mvalues\u001b[49m\u001b[43m=\u001b[49m\u001b[43mvalues\u001b[49m\u001b[43m,\u001b[49m\n\u001b[32m    833\u001b[39m \u001b[43m    \u001b[49m\u001b[43maxis\u001b[49m\u001b[43m=\u001b[49m\u001b[43maxis\u001b[49m\u001b[43m,\u001b[49m\n\u001b[32m    834\u001b[39m \u001b[43m    \u001b[49m\u001b[43mmin_count\u001b[49m\u001b[43m=\u001b[49m\u001b[43mmin_count\u001b[49m\u001b[43m,\u001b[49m\n\u001b[32m    835\u001b[39m \u001b[43m    \u001b[49m\u001b[43mcomp_ids\u001b[49m\u001b[43m=\u001b[49m\u001b[43mids\u001b[49m\u001b[43m,\u001b[49m\n\u001b[32m    836\u001b[39m \u001b[43m    \u001b[49m\u001b[43mngroups\u001b[49m\u001b[43m=\u001b[49m\u001b[43mngroups\u001b[49m\u001b[43m,\u001b[49m\n\u001b[32m    837\u001b[39m \u001b[43m    \u001b[49m\u001b[43m*\u001b[49m\u001b[43m*\u001b[49m\u001b[43mkwargs\u001b[49m\u001b[43m,\u001b[49m\n\u001b[32m    838\u001b[39m \u001b[43m\u001b[49m\u001b[43m)\u001b[49m\n",
      "\u001b[36mFile \u001b[39m\u001b[32m~\\AppData\\Roaming\\Python\\Python313\\site-packages\\pandas\\core\\groupby\\ops.py:550\u001b[39m, in \u001b[36mWrappedCythonOp.cython_operation\u001b[39m\u001b[34m(self, values, axis, min_count, comp_ids, ngroups, **kwargs)\u001b[39m\n\u001b[32m    539\u001b[39m \u001b[38;5;28;01mif\u001b[39;00m \u001b[38;5;129;01mnot\u001b[39;00m \u001b[38;5;28misinstance\u001b[39m(values, np.ndarray):\n\u001b[32m    540\u001b[39m     \u001b[38;5;66;03m# i.e. ExtensionArray\u001b[39;00m\n\u001b[32m    541\u001b[39m     \u001b[38;5;28;01mreturn\u001b[39;00m values._groupby_op(\n\u001b[32m    542\u001b[39m         how=\u001b[38;5;28mself\u001b[39m.how,\n\u001b[32m    543\u001b[39m         has_dropped_na=\u001b[38;5;28mself\u001b[39m.has_dropped_na,\n\u001b[32m   (...)\u001b[39m\u001b[32m    547\u001b[39m         **kwargs,\n\u001b[32m    548\u001b[39m     )\n\u001b[32m--> \u001b[39m\u001b[32m550\u001b[39m \u001b[38;5;28;01mreturn\u001b[39;00m \u001b[38;5;28;43mself\u001b[39;49m\u001b[43m.\u001b[49m\u001b[43m_cython_op_ndim_compat\u001b[49m\u001b[43m(\u001b[49m\n\u001b[32m    551\u001b[39m \u001b[43m    \u001b[49m\u001b[43mvalues\u001b[49m\u001b[43m,\u001b[49m\n\u001b[32m    552\u001b[39m \u001b[43m    \u001b[49m\u001b[43mmin_count\u001b[49m\u001b[43m=\u001b[49m\u001b[43mmin_count\u001b[49m\u001b[43m,\u001b[49m\n\u001b[32m    553\u001b[39m \u001b[43m    \u001b[49m\u001b[43mngroups\u001b[49m\u001b[43m=\u001b[49m\u001b[43mngroups\u001b[49m\u001b[43m,\u001b[49m\n\u001b[32m    554\u001b[39m \u001b[43m    \u001b[49m\u001b[43mcomp_ids\u001b[49m\u001b[43m=\u001b[49m\u001b[43mcomp_ids\u001b[49m\u001b[43m,\u001b[49m\n\u001b[32m    555\u001b[39m \u001b[43m    \u001b[49m\u001b[43mmask\u001b[49m\u001b[43m=\u001b[49m\u001b[38;5;28;43;01mNone\u001b[39;49;00m\u001b[43m,\u001b[49m\n\u001b[32m    556\u001b[39m \u001b[43m    \u001b[49m\u001b[43m*\u001b[49m\u001b[43m*\u001b[49m\u001b[43mkwargs\u001b[49m\u001b[43m,\u001b[49m\n\u001b[32m    557\u001b[39m \u001b[43m\u001b[49m\u001b[43m)\u001b[49m\n",
      "\u001b[36mFile \u001b[39m\u001b[32m~\\AppData\\Roaming\\Python\\Python313\\site-packages\\pandas\\core\\groupby\\ops.py:329\u001b[39m, in \u001b[36mWrappedCythonOp._cython_op_ndim_compat\u001b[39m\u001b[34m(self, values, min_count, ngroups, comp_ids, mask, result_mask, **kwargs)\u001b[39m\n\u001b[32m    327\u001b[39m \u001b[38;5;28;01mif\u001b[39;00m result_mask \u001b[38;5;129;01mis\u001b[39;00m \u001b[38;5;129;01mnot\u001b[39;00m \u001b[38;5;28;01mNone\u001b[39;00m:\n\u001b[32m    328\u001b[39m     result_mask = result_mask[\u001b[38;5;28;01mNone\u001b[39;00m, :]\n\u001b[32m--> \u001b[39m\u001b[32m329\u001b[39m res = \u001b[38;5;28;43mself\u001b[39;49m\u001b[43m.\u001b[49m\u001b[43m_call_cython_op\u001b[49m\u001b[43m(\u001b[49m\n\u001b[32m    330\u001b[39m \u001b[43m    \u001b[49m\u001b[43mvalues2d\u001b[49m\u001b[43m,\u001b[49m\n\u001b[32m    331\u001b[39m \u001b[43m    \u001b[49m\u001b[43mmin_count\u001b[49m\u001b[43m=\u001b[49m\u001b[43mmin_count\u001b[49m\u001b[43m,\u001b[49m\n\u001b[32m    332\u001b[39m \u001b[43m    \u001b[49m\u001b[43mngroups\u001b[49m\u001b[43m=\u001b[49m\u001b[43mngroups\u001b[49m\u001b[43m,\u001b[49m\n\u001b[32m    333\u001b[39m \u001b[43m    \u001b[49m\u001b[43mcomp_ids\u001b[49m\u001b[43m=\u001b[49m\u001b[43mcomp_ids\u001b[49m\u001b[43m,\u001b[49m\n\u001b[32m    334\u001b[39m \u001b[43m    \u001b[49m\u001b[43mmask\u001b[49m\u001b[43m=\u001b[49m\u001b[43mmask\u001b[49m\u001b[43m,\u001b[49m\n\u001b[32m    335\u001b[39m \u001b[43m    \u001b[49m\u001b[43mresult_mask\u001b[49m\u001b[43m=\u001b[49m\u001b[43mresult_mask\u001b[49m\u001b[43m,\u001b[49m\n\u001b[32m    336\u001b[39m \u001b[43m    \u001b[49m\u001b[43m*\u001b[49m\u001b[43m*\u001b[49m\u001b[43mkwargs\u001b[49m\u001b[43m,\u001b[49m\n\u001b[32m    337\u001b[39m \u001b[43m\u001b[49m\u001b[43m)\u001b[49m\n\u001b[32m    338\u001b[39m \u001b[38;5;28;01mif\u001b[39;00m res.shape[\u001b[32m0\u001b[39m] == \u001b[32m1\u001b[39m:\n\u001b[32m    339\u001b[39m     \u001b[38;5;28;01mreturn\u001b[39;00m res[\u001b[32m0\u001b[39m]\n",
      "\u001b[31mKeyboardInterrupt\u001b[39m: "
     ]
    }
   ],
   "source": [
    "df_cleaned.groupby(\"Ward\")[\"Primary Type\"].sum()"
   ]
  },
  {
   "cell_type": "markdown",
   "id": "54089e01",
   "metadata": {},
   "source": [
    "\n",
    "    -   Top 10 wards with the highest crime\n",
    "    -   Top 10 districts with the highest crime counts.\n",
    "    -   Top 10 blocks with the highest crime counts.\\\n",
    "    -   Location-based crime analysis (e.g., Residence, Street, Public Place)."
   ]
  },
  {
   "cell_type": "code",
   "execution_count": 5,
   "id": "d85f2f25",
   "metadata": {},
   "outputs": [
    {
     "data": {
      "text/plain": [
       "np.int64(527)"
      ]
     },
     "execution_count": 5,
     "metadata": {},
     "output_type": "execute_result"
    }
   ],
   "source": [
    "df_cleaned[\"Case Number\"].duplicated().sum()"
   ]
  },
  {
   "cell_type": "markdown",
   "id": "28f06112",
   "metadata": {},
   "source": [
    "## Visualization"
   ]
  }
 ],
 "metadata": {
  "kernelspec": {
   "display_name": "Python 3",
   "language": "python",
   "name": "python3"
  },
  "language_info": {
   "codemirror_mode": {
    "name": "ipython",
    "version": 3
   },
   "file_extension": ".py",
   "mimetype": "text/x-python",
   "name": "python",
   "nbconvert_exporter": "python",
   "pygments_lexer": "ipython3",
   "version": "3.13.7"
  }
 },
 "nbformat": 4,
 "nbformat_minor": 5
}

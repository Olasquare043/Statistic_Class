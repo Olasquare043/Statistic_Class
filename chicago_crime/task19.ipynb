{
 "cells": [
  {
   "cell_type": "markdown",
   "id": "3239d361",
   "metadata": {},
   "source": [
    "# Chicago Crime Data Analysis"
   ]
  },
  {
   "cell_type": "markdown",
   "id": "06f2aab8",
   "metadata": {},
   "source": [
    "## Data ingestion: Dataset Setup and Loading"
   ]
  },
  {
   "cell_type": "code",
   "execution_count": 29,
   "id": "5ad2ada8",
   "metadata": {},
   "outputs": [],
   "source": [
    "import pandas as pd\n",
    "import matplotlib.pyplot as plt\n",
    "\n",
    "#libraries for time\n",
    "from datetime import datetime, timedelta\n",
    "\n",
    "#ignore warnings\n",
    "import warnings\n",
    "warnings.filterwarnings('ignore')\n",
    "\n"
   ]
  },
  {
   "cell_type": "code",
   "execution_count": 30,
   "id": "e5d11bcc",
   "metadata": {},
   "outputs": [],
   "source": [
    "# loading the zip data\n",
    "# path=\"../data/archive_3.zip\"\n",
    "# df= pd.read_csv(path,low_memory=True, compression='zip')\n",
    "\n",
    "# loading the csv file\n",
    "path=\"../data/Crimes_2001_to_Present.csv\"\n",
    "\n",
    "# Define data types to reduce memory usage\n",
    "dtype_dict = {\n",
    "'ID': 'Int32',\n",
    "'Case Number': 'string',\n",
    "'IUCR': 'category',\n",
    "'Primary Type': 'category',\n",
    "'Description': 'category',\n",
    "'Location Description': 'category',\n",
    "'Arrest': 'bool',\n",
    "'Domestic': 'bool',\n",
    "'Beat': 'Int16',\n",
    "'District': 'Int8',\n",
    "'Ward': 'Int8',\n",
    "'Community Area': 'Int8',\n",
    "'FBI Code': 'category',\n",
    "'X Coordinate': 'float32',\n",
    "'Y Coordinate': 'float32',\n",
    "'Latitude': 'float32',\n",
    "'Longitude': 'float32'\n",
    "}\n",
    "df = pd.read_csv(path, dtype=dtype_dict)"
   ]
  },
  {
   "cell_type": "markdown",
   "id": "b3a6bacf",
   "metadata": {},
   "source": [
    "## Preliminary Data Analysis"
   ]
  },
  {
   "cell_type": "code",
   "execution_count": 31,
   "id": "f633dd59",
   "metadata": {},
   "outputs": [
    {
     "name": "stdout",
     "output_type": "stream",
     "text": [
      "============ OVERVIEW OF THE DATA =========\n",
      "\n",
      "<class 'pandas.core.frame.DataFrame'>\n",
      "RangeIndex: 7784664 entries, 0 to 7784663\n",
      "Data columns (total 22 columns):\n",
      " #   Column                Dtype   \n",
      "---  ------                -----   \n",
      " 0   ID                    Int32   \n",
      " 1   Case Number           string  \n",
      " 2   Date                  object  \n",
      " 3   Block                 object  \n",
      " 4   IUCR                  category\n",
      " 5   Primary Type          category\n",
      " 6   Description           category\n",
      " 7   Location Description  category\n",
      " 8   Arrest                bool    \n",
      " 9   Domestic              bool    \n",
      " 10  Beat                  Int16   \n",
      " 11  District              Int8    \n",
      " 12  Ward                  Int8    \n",
      " 13  Community Area        Int8    \n",
      " 14  FBI Code              category\n",
      " 15  X Coordinate          float32 \n",
      " 16  Y Coordinate          float32 \n",
      " 17  Year                  int64   \n",
      " 18  Updated On            object  \n",
      " 19  Latitude              float32 \n",
      " 20  Longitude             float32 \n",
      " 21  Location              object  \n",
      "dtypes: Int16(1), Int32(1), Int8(3), bool(2), category(5), float32(4), int64(1), object(4), string(1)\n",
      "memory usage: 653.4+ MB\n",
      "Data info: None\n",
      "\n",
      "Column list: Index(['ID', 'Case Number', 'Date', 'Block', 'IUCR', 'Primary Type',\n",
      "       'Description', 'Location Description', 'Arrest', 'Domestic', 'Beat',\n",
      "       'District', 'Ward', 'Community Area', 'FBI Code', 'X Coordinate',\n",
      "       'Y Coordinate', 'Year', 'Updated On', 'Latitude', 'Longitude',\n",
      "       'Location'],\n",
      "      dtype='object')\n",
      "\n",
      "\n",
      "============ Description of the data =========\n",
      "\n",
      "                    ID Case Number                    Date             Block  \\\n",
      "count        7784664.0     7784660                 7784664           7784664   \n",
      "unique            <NA>     7784121                 3207478             62845   \n",
      "top               <NA>    HJ590004  01/01/2008 12:01:00 AM  100XX W OHARE ST   \n",
      "freq              <NA>           6                     304             16486   \n",
      "mean    7026439.050899         NaN                     NaN               NaN   \n",
      "std     3502656.769728         NaN                     NaN               NaN   \n",
      "min              634.0         NaN                     NaN               NaN   \n",
      "25%          3792573.5         NaN                     NaN               NaN   \n",
      "50%          7029327.0         NaN                     NaN               NaN   \n",
      "75%        10131129.25         NaN                     NaN               NaN   \n",
      "max         13056426.0         NaN                     NaN               NaN   \n",
      "\n",
      "           IUCR Primary Type Description Location Description   Arrest  \\\n",
      "count   7784664      7784664     7784664              7774283  7784664   \n",
      "unique      404           36         544                  215        2   \n",
      "top        0820        THEFT      SIMPLE               STREET    False   \n",
      "freq     631091      1642148      913484              2026828  5749900   \n",
      "mean        NaN          NaN         NaN                  NaN      NaN   \n",
      "std         NaN          NaN         NaN                  NaN      NaN   \n",
      "min         NaN          NaN         NaN                  NaN      NaN   \n",
      "25%         NaN          NaN         NaN                  NaN      NaN   \n",
      "50%         NaN          NaN         NaN                  NaN      NaN   \n",
      "75%         NaN          NaN         NaN                  NaN      NaN   \n",
      "max         NaN          NaN         NaN                  NaN      NaN   \n",
      "\n",
      "       Domestic  ...       Ward  Community Area  FBI Code  X Coordinate  \\\n",
      "count   7784664  ...  7169816.0       7171188.0   7784664  7.697816e+06   \n",
      "unique        2  ...       <NA>            <NA>        26           NaN   \n",
      "top       False  ...       <NA>            <NA>        06           NaN   \n",
      "freq    6708370  ...       <NA>            <NA>   1642148           NaN   \n",
      "mean        NaN  ...  22.754197       37.484723       NaN  1.164601e+06   \n",
      "std         NaN  ...  13.851058       21.541153       NaN  7.669586e+04   \n",
      "min         NaN  ...        1.0             0.0       NaN  0.000000e+00   \n",
      "25%         NaN  ...       10.0            23.0       NaN  1.152976e+06   \n",
      "50%         NaN  ...       23.0            32.0       NaN  1.166110e+06   \n",
      "75%         NaN  ...       34.0            57.0       NaN  1.176372e+06   \n",
      "max         NaN  ...       50.0            77.0       NaN  1.205119e+06   \n",
      "\n",
      "        Y Coordinate          Year              Updated On      Latitude  \\\n",
      "count   7.697816e+06  7.784664e+06                 7784664  7.697816e+06   \n",
      "unique           NaN           NaN                    5561           NaN   \n",
      "top              NaN           NaN  02/10/2018 03:50:01 PM           NaN   \n",
      "freq             NaN           NaN                 2787942           NaN   \n",
      "mean    1.885781e+06  2.009944e+03                     NaN  4.184221e+01   \n",
      "std     1.350949e+05  6.260628e+00                     NaN  3.833415e-01   \n",
      "min     0.000000e+00  2.001000e+03                     NaN  3.661945e+01   \n",
      "25%     1.859073e+06  2.005000e+03                     NaN  4.176871e+01   \n",
      "50%     1.890730e+06  2.009000e+03                     NaN  4.185591e+01   \n",
      "75%     1.909273e+06  2.015000e+03                     NaN  4.190677e+01   \n",
      "max     1.951622e+06  2.023000e+03                     NaN  4.202291e+01   \n",
      "\n",
      "           Longitude                       Location  \n",
      "count   7.697816e+06                        7697816  \n",
      "unique           NaN                         890516  \n",
      "top              NaN  (41.976290414, -87.905227221)  \n",
      "freq             NaN                          14272  \n",
      "mean   -8.767151e+01                            NaN  \n",
      "std     3.923111e+00                            NaN  \n",
      "min    -9.168657e+01                            NaN  \n",
      "25%    -8.771367e+01                            NaN  \n",
      "50%    -8.766584e+01                            NaN  \n",
      "75%    -8.762820e+01                            NaN  \n",
      "max    -8.752453e+01                            NaN  \n",
      "\n",
      "[11 rows x 22 columns]\n"
     ]
    }
   ],
   "source": [
    "# let take a snap shot view on our data\n",
    "print(\"============ OVERVIEW OF THE DATA =========\\n\")\n",
    "print(f\"Data info: {df.info()}\\n\")\n",
    "\n",
    "print(f\"Column list: {df.columns}\\n\")\n",
    "\n",
    "print(\"\\n============ Description of the data =========\\n\")\n",
    "print(f\"{df.describe(include='all')}\")\n"
   ]
  },
  {
   "cell_type": "code",
   "execution_count": 32,
   "id": "ac89c30d",
   "metadata": {},
   "outputs": [
    {
     "name": "stdout",
     "output_type": "stream",
     "text": [
      "\n",
      "The last five rows\n",
      "         ID Case Number                    Date                  Block  IUCR  \\\n",
      "0  10224738    HY411648  09/05/2015 01:30:00 PM        043XX S WOOD ST  0486   \n",
      "1  10224739    HY411615  09/04/2015 11:30:00 AM    008XX N CENTRAL AVE  0870   \n",
      "2  11646166    JC213529  09/01/2018 12:01:00 AM  082XX S INGLESIDE AVE  0810   \n",
      "3  10224740    HY411595  09/05/2015 12:45:00 PM      035XX W BARRY AVE  2023   \n",
      "4  10224741    HY411610  09/05/2015 01:00:00 PM    0000X N LARAMIE AVE  0560   \n",
      "\n",
      "  Primary Type              Description Location Description  Arrest  \\\n",
      "0      BATTERY  DOMESTIC BATTERY SIMPLE            RESIDENCE   False   \n",
      "1        THEFT           POCKET-PICKING              CTA BUS   False   \n",
      "2        THEFT                OVER $500            RESIDENCE   False   \n",
      "3    NARCOTICS    POSS: HEROIN(BRN/TAN)             SIDEWALK    True   \n",
      "4      ASSAULT                   SIMPLE            APARTMENT   False   \n",
      "\n",
      "   Domestic  ...  Ward  Community Area  FBI Code  X Coordinate Y Coordinate  \\\n",
      "0      True  ...    12              61       08B     1165074.0    1875917.0   \n",
      "1     False  ...    29              25        06     1138875.0    1904869.0   \n",
      "2      True  ...     8              44        06           NaN          NaN   \n",
      "3     False  ...    35              21        18     1152037.0    1920384.0   \n",
      "4      True  ...    28              25       08A     1141706.0    1900086.0   \n",
      "\n",
      "   Year              Updated On   Latitude  Longitude  \\\n",
      "0  2015  02/10/2018 03:50:01 PM  41.815117 -87.669998   \n",
      "1  2015  02/10/2018 03:50:01 PM  41.895081 -87.765404   \n",
      "2  2018  04/06/2019 04:04:43 PM        NaN        NaN   \n",
      "3  2015  02/10/2018 03:50:01 PM  41.937405 -87.716652   \n",
      "4  2015  02/10/2018 03:50:01 PM  41.881905 -87.755119   \n",
      "\n",
      "                        Location  \n",
      "0  (41.815117282, -87.669999562)  \n",
      "1  (41.895080471, -87.765400451)  \n",
      "2                            NaN  \n",
      "3  (41.937405765, -87.716649687)  \n",
      "4  (41.881903443, -87.755121152)  \n",
      "\n",
      "[5 rows x 22 columns]\n"
     ]
    }
   ],
   "source": [
    "# checking first five rows\n",
    "print (\"\\nThe last five rows\")\n",
    "print(df.head())\n"
   ]
  },
  {
   "cell_type": "code",
   "execution_count": 33,
   "id": "d652104a",
   "metadata": {},
   "outputs": [
    {
     "name": "stdout",
     "output_type": "stream",
     "text": [
      "\n",
      "The last five rows\n",
      "               ID Case Number                    Date                Block  \\\n",
      "7784659  12847575    JF420478  09/01/2022 05:00:00 AM      005XX W SURF ST   \n",
      "7784660  12847801    JF420319  07/08/2022 12:00:00 AM  114XX S PRAIRIE AVE   \n",
      "7784661  12847324    JF420102  09/27/2022 11:00:00 AM      023XX E 70TH ST   \n",
      "7784662  12847570    JF420427  09/03/2022 10:25:00 AM   052XX W CARMEN AVE   \n",
      "7784663  12840464    JF411839  09/26/2022 07:20:00 PM    0000X N MASON AVE   \n",
      "\n",
      "         IUCR        Primary Type                    Description  \\\n",
      "7784659  2825       OTHER OFFENSE        HARASSMENT BY TELEPHONE   \n",
      "7784660  1130  DECEPTIVE PRACTICE       FRAUD OR CONFIDENCE GAME   \n",
      "7784661  0810               THEFT                      OVER $500   \n",
      "7784662  2021           NARCOTICS         POSSESS - BARBITURATES   \n",
      "7784663  143A   WEAPONS VIOLATION  UNLAWFUL POSSESSION - HANDGUN   \n",
      "\n",
      "                    Location Description  Arrest  Domestic  ...  Ward  \\\n",
      "7784659                        RESIDENCE   False      True  ...    44   \n",
      "7784660                           STREET   False     False  ...     9   \n",
      "7784661                        RESIDENCE   False     False  ...     5   \n",
      "7784662  RESIDENCE - YARD (FRONT / BACK)    True     False  ...    45   \n",
      "7784663                         SIDEWALK    True     False  ...    29   \n",
      "\n",
      "         Community Area  FBI Code  X Coordinate Y Coordinate  Year  \\\n",
      "7784659               6        26     1172497.0    1919410.0  2022   \n",
      "7784660              49        11     1179966.0    1828818.0  2022   \n",
      "7784661              43        06     1193181.0    1859005.0  2022   \n",
      "7784662              11        18     1140553.0    1933418.0  2022   \n",
      "7784663              25        15     1136773.0    1899652.0  2022   \n",
      "\n",
      "                     Updated On   Latitude  Longitude  \\\n",
      "7784659  01/03/2023 03:46:28 PM  41.934303 -87.641487   \n",
      "7784660  01/03/2023 03:46:28 PM  41.685543 -87.616814   \n",
      "7784661  01/03/2023 03:46:28 PM  41.768066 -87.567451   \n",
      "7784662  01/03/2023 03:46:28 PM  41.973392 -87.758537   \n",
      "7784663  01/03/2023 03:46:28 PM  41.880802 -87.773247   \n",
      "\n",
      "                              Location  \n",
      "7784659  (41.934304581, -87.641484982)  \n",
      "7784660  (41.685543881, -87.616812541)  \n",
      "7784661  (41.768068052, -87.567452932)  \n",
      "7784662  (41.973391184, -87.758534512)  \n",
      "7784663  (41.880802263, -87.773245737)  \n",
      "\n",
      "[5 rows x 22 columns]\n"
     ]
    }
   ],
   "source": [
    "# checking last five rows\n",
    "print (\"\\nThe last five rows\")\n",
    "print(df.tail())"
   ]
  },
  {
   "cell_type": "code",
   "execution_count": 34,
   "id": "dee81519",
   "metadata": {},
   "outputs": [
    {
     "data": {
      "text/plain": [
       "ID                           0\n",
       "Case Number                  4\n",
       "Date                         0\n",
       "Block                        0\n",
       "IUCR                         0\n",
       "Primary Type                 0\n",
       "Description                  0\n",
       "Location Description     10381\n",
       "Arrest                       0\n",
       "Domestic                     0\n",
       "Beat                         0\n",
       "District                    47\n",
       "Ward                    614848\n",
       "Community Area          613476\n",
       "FBI Code                     0\n",
       "X Coordinate             86848\n",
       "Y Coordinate             86848\n",
       "Year                         0\n",
       "Updated On                   0\n",
       "Latitude                 86848\n",
       "Longitude                86848\n",
       "Location                 86848\n",
       "dtype: int64"
      ]
     },
     "execution_count": 34,
     "metadata": {},
     "output_type": "execute_result"
    }
   ],
   "source": [
    "# checking the missing data\n",
    "df.isna().sum()"
   ]
  },
  {
   "cell_type": "markdown",
   "id": "5a1f79a7",
   "metadata": {},
   "source": [
    "## Data Cleaning and Preprocessing"
   ]
  },
  {
   "cell_type": "markdown",
   "id": "76a32a28",
   "metadata": {},
   "source": [
    "### Let extract data from data"
   ]
  },
  {
   "cell_type": "code",
   "execution_count": 35,
   "id": "36ce7022",
   "metadata": {},
   "outputs": [],
   "source": [
    " # Ensure Date is datetime\n",
    "df['Date'] = pd.to_datetime(\n",
    "    df['Date'],\n",
    "    format=\"%m/%d/%Y %I:%M:%S %p\",\n",
    "    errors=\"coerce\"\n",
    ")\n"
   ]
  },
  {
   "cell_type": "code",
   "execution_count": 36,
   "id": "a66dff29",
   "metadata": {},
   "outputs": [],
   "source": [
    "# Extract date components\n",
    "df['Year'] = df['Date'].dt.year\n",
    "df['Month'] = df['Date'].dt.month\n",
    "df['Day'] = df['Date'].dt.day\n",
    "df['Hour'] = df['Date'].dt.hour\n",
    "df['Day_of_Week'] = df['Date'].dt.dayofweek  # 0=Monday, 6=Sunday\n",
    "df['Day_Name'] = df['Date'].dt.day_name()\n",
    "df['Month_Name'] = df['Date'].dt.month_name()\n",
    "df['Quarter'] = df['Date'].dt.quarter\n",
    "df['Is_Weekend'] = df['Day_of_Week'].isin([5, 6])  # Saturday, Sunday"
   ]
  },
  {
   "cell_type": "code",
   "execution_count": 37,
   "id": "24df76bd",
   "metadata": {},
   "outputs": [
    {
     "data": {
      "text/plain": [
       "Index(['ID', 'Case Number', 'Date', 'Block', 'IUCR', 'Primary Type',\n",
       "       'Description', 'Location Description', 'Arrest', 'Domestic', 'Beat',\n",
       "       'District', 'Ward', 'Community Area', 'FBI Code', 'X Coordinate',\n",
       "       'Y Coordinate', 'Year', 'Updated On', 'Latitude', 'Longitude',\n",
       "       'Location', 'Month', 'Day', 'Hour', 'Day_of_Week', 'Day_Name',\n",
       "       'Month_Name', 'Quarter', 'Is_Weekend'],\n",
       "      dtype='object')"
      ]
     },
     "execution_count": 37,
     "metadata": {},
     "output_type": "execute_result"
    }
   ],
   "source": [
    "# let see the new columns\n",
    "df.columns"
   ]
  },
  {
   "cell_type": "markdown",
   "id": "8e683396",
   "metadata": {},
   "source": [
    "### Now let remove missing values"
   ]
  },
  {
   "cell_type": "code",
   "execution_count": 38,
   "id": "8759d7c2",
   "metadata": {},
   "outputs": [
    {
     "data": {
      "text/plain": [
       "ID                           0\n",
       "Case Number                  4\n",
       "Date                         0\n",
       "Block                        0\n",
       "IUCR                         0\n",
       "Primary Type                 0\n",
       "Description                  0\n",
       "Location Description     10381\n",
       "Arrest                       0\n",
       "Domestic                     0\n",
       "Beat                         0\n",
       "District                    47\n",
       "Ward                    614848\n",
       "Community Area          613476\n",
       "FBI Code                     0\n",
       "X Coordinate             86848\n",
       "Y Coordinate             86848\n",
       "Year                         0\n",
       "Updated On                   0\n",
       "Latitude                 86848\n",
       "Longitude                86848\n",
       "Location                 86848\n",
       "Month                        0\n",
       "Day                          0\n",
       "Hour                         0\n",
       "Day_of_Week                  0\n",
       "Day_Name                     0\n",
       "Month_Name                   0\n",
       "Quarter                      0\n",
       "Is_Weekend                   0\n",
       "dtype: int64"
      ]
     },
     "execution_count": 38,
     "metadata": {},
     "output_type": "execute_result"
    }
   ],
   "source": [
    "# let remove missing value\n",
    "df.isna().sum()"
   ]
  },
  {
   "cell_type": "code",
   "execution_count": 39,
   "id": "6fadb52a",
   "metadata": {},
   "outputs": [],
   "source": [
    "# let make a copy first\n",
    "new_df= df.copy()"
   ]
  },
  {
   "cell_type": "code",
   "execution_count": 40,
   "id": "55928aab",
   "metadata": {},
   "outputs": [
    {
     "name": "stdout",
     "output_type": "stream",
     "text": [
      "Data size before cleaning: 7784664\n",
      "Data size after cleaning: 7697816\n"
     ]
    }
   ],
   "source": [
    "# removing invalid data \n",
    "print(f\"Data size before cleaning: {len(new_df)}\")\n",
    "new_df.dropna(subset=\"Location\", inplace=True)\n",
    "print(f\"Data size after cleaning: {len(new_df)}\")"
   ]
  },
  {
   "cell_type": "code",
   "execution_count": 41,
   "id": "2bb9a605",
   "metadata": {},
   "outputs": [
    {
     "name": "stdout",
     "output_type": "stream",
     "text": [
      "Data size before cleaning: 7697816\n",
      "Data size after cleaning: 7697816\n"
     ]
    }
   ],
   "source": [
    "# removing duplicate data \n",
    "print(f\"Data size before cleaning: {len(new_df)}\")\n",
    "new_df.drop_duplicates()\n",
    "print(f\"Data size after cleaning: {len(new_df)}\")"
   ]
  },
  {
   "cell_type": "code",
   "execution_count": 42,
   "id": "8a80178f",
   "metadata": {},
   "outputs": [
    {
     "name": "stdout",
     "output_type": "stream",
     "text": [
      "Data size before cleaning: 7697816\n",
      "After removing invalid coordinates: 7671877 removed:(25939)\n"
     ]
    }
   ],
   "source": [
    "# removing data outrange of Chicago distreet\n",
    "print(f\"Data size before cleaning: {len(new_df)}\")\n",
    "cleaned_df= new_df[((new_df[\"Latitude\"]).between(41.6, 42.1)) &\n",
    "                ((new_df[\"Longitude\"]).between(-87.9, -87.5))\n",
    "                ]\n",
    "cleaned_df.reset_index()\n",
    "print(f\"After removing invalid coordinates: {len(cleaned_df)} removed:({len(new_df) - len(cleaned_df)})\")\n"
   ]
  },
  {
   "cell_type": "code",
   "execution_count": 43,
   "id": "3fe4e7c7",
   "metadata": {},
   "outputs": [
    {
     "name": "stdout",
     "output_type": "stream",
     "text": [
      "After removing District and ward outliers: 7068425 removed:(603452)\n"
     ]
    }
   ],
   "source": [
    "# Handle outliers in district/ward\n",
    "ncleaned_df = cleaned_df[\n",
    "    (cleaned_df['District'].between(1, 25)) & \n",
    "    (cleaned_df['Ward'].between(1, 50))\n",
    "]\n",
    "print(f\"After removing District and ward outliers: {len(ncleaned_df)} removed:({len(cleaned_df) - len(ncleaned_df)})\")\n"
   ]
  },
  {
   "cell_type": "code",
   "execution_count": 44,
   "id": "325d910a",
   "metadata": {},
   "outputs": [],
   "source": [
    "# let  Standardize text fields 'Primary Type' and 'Location Description' for easy retrieval without missing out data\n",
    "ncleaned_df['Primary Type']=ncleaned_df['Primary Type'].str.upper()\n",
    "ncleaned_df['Location Description']=ncleaned_df['Location Description'].str.upper()"
   ]
  },
  {
   "cell_type": "code",
   "execution_count": 45,
   "id": "34626089",
   "metadata": {},
   "outputs": [
    {
     "data": {
      "text/plain": [
       "0    RESIDENCE\n",
       "1      CTA BUS\n",
       "3     SIDEWALK\n",
       "4    APARTMENT\n",
       "5    RESIDENCE\n",
       "Name: Location Description, dtype: object"
      ]
     },
     "execution_count": 45,
     "metadata": {},
     "output_type": "execute_result"
    }
   ],
   "source": [
    "ncleaned_df['Location Description'].head()"
   ]
  },
  {
   "cell_type": "code",
   "execution_count": 46,
   "id": "62a189ec",
   "metadata": {},
   "outputs": [
    {
     "data": {
      "text/plain": [
       "0      BATTERY\n",
       "1        THEFT\n",
       "3    NARCOTICS\n",
       "4      ASSAULT\n",
       "5     BURGLARY\n",
       "Name: Primary Type, dtype: object"
      ]
     },
     "execution_count": 46,
     "metadata": {},
     "output_type": "execute_result"
    }
   ],
   "source": [
    "ncleaned_df['Primary Type'].head()"
   ]
  },
  {
   "cell_type": "code",
   "execution_count": 47,
   "id": "020a95bb",
   "metadata": {},
   "outputs": [
    {
     "name": "stdout",
     "output_type": "stream",
     "text": [
      "Missing Critical Fields:\n",
      "Date            0\n",
      "Primary Type    0\n",
      "Latitude        0\n",
      "Longitude       0\n",
      "dtype: int64\n"
     ]
    }
   ],
   "source": [
    "# verifying the data\n",
    "# checking the missing data\n",
    " # Missing critical fields\n",
    "critical_missing = ncleaned_df[['Date', 'Primary Type', 'Latitude', 'Longitude']].isnull().sum()\n",
    "print(f\"Missing Critical Fields:\\n{critical_missing}\")"
   ]
  },
  {
   "cell_type": "markdown",
   "id": "ab39d0fd",
   "metadata": {},
   "source": [
    "### Export the cleaned data"
   ]
  },
  {
   "cell_type": "code",
   "execution_count": 48,
   "id": "8e430c3c",
   "metadata": {},
   "outputs": [],
   "source": [
    "ncleaned_df.to_csv(\"../data/Cleaned_data.csv\", index=False)"
   ]
  },
  {
   "cell_type": "markdown",
   "id": "81f37bbb",
   "metadata": {},
   "source": [
    "## Descriptive Data Analysis(DDA)"
   ]
  },
  {
   "cell_type": "markdown",
   "id": "ebcef220",
   "metadata": {},
   "source": [
    "#### Some insight to look at\n",
    "1.  Major type of crime (show to top 10)\n",
    "2.  Crime per days of the week\n",
    "3.  crime by months of the years\n",
    "4.  "
   ]
  },
  {
   "cell_type": "code",
   "execution_count": 49,
   "id": "dc572af3",
   "metadata": {},
   "outputs": [
    {
     "data": {
      "text/html": [
       "<div>\n",
       "<style scoped>\n",
       "    .dataframe tbody tr th:only-of-type {\n",
       "        vertical-align: middle;\n",
       "    }\n",
       "\n",
       "    .dataframe tbody tr th {\n",
       "        vertical-align: top;\n",
       "    }\n",
       "\n",
       "    .dataframe thead th {\n",
       "        text-align: right;\n",
       "    }\n",
       "</style>\n",
       "<table border=\"1\" class=\"dataframe\">\n",
       "  <thead>\n",
       "    <tr style=\"text-align: right;\">\n",
       "      <th></th>\n",
       "      <th>ID</th>\n",
       "      <th>Case Number</th>\n",
       "      <th>Date</th>\n",
       "      <th>Block</th>\n",
       "      <th>IUCR</th>\n",
       "      <th>Primary Type</th>\n",
       "      <th>Description</th>\n",
       "      <th>Location Description</th>\n",
       "      <th>Arrest</th>\n",
       "      <th>Domestic</th>\n",
       "      <th>...</th>\n",
       "      <th>Longitude</th>\n",
       "      <th>Location</th>\n",
       "      <th>Month</th>\n",
       "      <th>Day</th>\n",
       "      <th>Hour</th>\n",
       "      <th>Day_of_Week</th>\n",
       "      <th>Day_Name</th>\n",
       "      <th>Month_Name</th>\n",
       "      <th>Quarter</th>\n",
       "      <th>Is_Weekend</th>\n",
       "    </tr>\n",
       "  </thead>\n",
       "  <tbody>\n",
       "    <tr>\n",
       "      <th>0</th>\n",
       "      <td>10224738</td>\n",
       "      <td>HY411648</td>\n",
       "      <td>2015-09-05 13:30:00</td>\n",
       "      <td>043XX S WOOD ST</td>\n",
       "      <td>0486</td>\n",
       "      <td>BATTERY</td>\n",
       "      <td>DOMESTIC BATTERY SIMPLE</td>\n",
       "      <td>RESIDENCE</td>\n",
       "      <td>False</td>\n",
       "      <td>True</td>\n",
       "      <td>...</td>\n",
       "      <td>-87.669998</td>\n",
       "      <td>(41.815117282, -87.669999562)</td>\n",
       "      <td>9</td>\n",
       "      <td>5</td>\n",
       "      <td>13</td>\n",
       "      <td>5</td>\n",
       "      <td>Saturday</td>\n",
       "      <td>September</td>\n",
       "      <td>3</td>\n",
       "      <td>True</td>\n",
       "    </tr>\n",
       "    <tr>\n",
       "      <th>1</th>\n",
       "      <td>10224739</td>\n",
       "      <td>HY411615</td>\n",
       "      <td>2015-09-04 11:30:00</td>\n",
       "      <td>008XX N CENTRAL AVE</td>\n",
       "      <td>0870</td>\n",
       "      <td>THEFT</td>\n",
       "      <td>POCKET-PICKING</td>\n",
       "      <td>CTA BUS</td>\n",
       "      <td>False</td>\n",
       "      <td>False</td>\n",
       "      <td>...</td>\n",
       "      <td>-87.765404</td>\n",
       "      <td>(41.895080471, -87.765400451)</td>\n",
       "      <td>9</td>\n",
       "      <td>4</td>\n",
       "      <td>11</td>\n",
       "      <td>4</td>\n",
       "      <td>Friday</td>\n",
       "      <td>September</td>\n",
       "      <td>3</td>\n",
       "      <td>False</td>\n",
       "    </tr>\n",
       "    <tr>\n",
       "      <th>3</th>\n",
       "      <td>10224740</td>\n",
       "      <td>HY411595</td>\n",
       "      <td>2015-09-05 12:45:00</td>\n",
       "      <td>035XX W BARRY AVE</td>\n",
       "      <td>2023</td>\n",
       "      <td>NARCOTICS</td>\n",
       "      <td>POSS: HEROIN(BRN/TAN)</td>\n",
       "      <td>SIDEWALK</td>\n",
       "      <td>True</td>\n",
       "      <td>False</td>\n",
       "      <td>...</td>\n",
       "      <td>-87.716652</td>\n",
       "      <td>(41.937405765, -87.716649687)</td>\n",
       "      <td>9</td>\n",
       "      <td>5</td>\n",
       "      <td>12</td>\n",
       "      <td>5</td>\n",
       "      <td>Saturday</td>\n",
       "      <td>September</td>\n",
       "      <td>3</td>\n",
       "      <td>True</td>\n",
       "    </tr>\n",
       "    <tr>\n",
       "      <th>4</th>\n",
       "      <td>10224741</td>\n",
       "      <td>HY411610</td>\n",
       "      <td>2015-09-05 13:00:00</td>\n",
       "      <td>0000X N LARAMIE AVE</td>\n",
       "      <td>0560</td>\n",
       "      <td>ASSAULT</td>\n",
       "      <td>SIMPLE</td>\n",
       "      <td>APARTMENT</td>\n",
       "      <td>False</td>\n",
       "      <td>True</td>\n",
       "      <td>...</td>\n",
       "      <td>-87.755119</td>\n",
       "      <td>(41.881903443, -87.755121152)</td>\n",
       "      <td>9</td>\n",
       "      <td>5</td>\n",
       "      <td>13</td>\n",
       "      <td>5</td>\n",
       "      <td>Saturday</td>\n",
       "      <td>September</td>\n",
       "      <td>3</td>\n",
       "      <td>True</td>\n",
       "    </tr>\n",
       "    <tr>\n",
       "      <th>5</th>\n",
       "      <td>10224742</td>\n",
       "      <td>HY411435</td>\n",
       "      <td>2015-09-05 10:55:00</td>\n",
       "      <td>082XX S LOOMIS BLVD</td>\n",
       "      <td>0610</td>\n",
       "      <td>BURGLARY</td>\n",
       "      <td>FORCIBLE ENTRY</td>\n",
       "      <td>RESIDENCE</td>\n",
       "      <td>False</td>\n",
       "      <td>False</td>\n",
       "      <td>...</td>\n",
       "      <td>-87.658432</td>\n",
       "      <td>(41.744378879, -87.658430635)</td>\n",
       "      <td>9</td>\n",
       "      <td>5</td>\n",
       "      <td>10</td>\n",
       "      <td>5</td>\n",
       "      <td>Saturday</td>\n",
       "      <td>September</td>\n",
       "      <td>3</td>\n",
       "      <td>True</td>\n",
       "    </tr>\n",
       "  </tbody>\n",
       "</table>\n",
       "<p>5 rows × 30 columns</p>\n",
       "</div>"
      ],
      "text/plain": [
       "         ID Case Number                Date                Block  IUCR  \\\n",
       "0  10224738    HY411648 2015-09-05 13:30:00      043XX S WOOD ST  0486   \n",
       "1  10224739    HY411615 2015-09-04 11:30:00  008XX N CENTRAL AVE  0870   \n",
       "3  10224740    HY411595 2015-09-05 12:45:00    035XX W BARRY AVE  2023   \n",
       "4  10224741    HY411610 2015-09-05 13:00:00  0000X N LARAMIE AVE  0560   \n",
       "5  10224742    HY411435 2015-09-05 10:55:00  082XX S LOOMIS BLVD  0610   \n",
       "\n",
       "  Primary Type              Description Location Description  Arrest  \\\n",
       "0      BATTERY  DOMESTIC BATTERY SIMPLE            RESIDENCE   False   \n",
       "1        THEFT           POCKET-PICKING              CTA BUS   False   \n",
       "3    NARCOTICS    POSS: HEROIN(BRN/TAN)             SIDEWALK    True   \n",
       "4      ASSAULT                   SIMPLE            APARTMENT   False   \n",
       "5     BURGLARY           FORCIBLE ENTRY            RESIDENCE   False   \n",
       "\n",
       "   Domestic  ...  Longitude                       Location  Month  Day Hour  \\\n",
       "0      True  ... -87.669998  (41.815117282, -87.669999562)      9    5   13   \n",
       "1     False  ... -87.765404  (41.895080471, -87.765400451)      9    4   11   \n",
       "3     False  ... -87.716652  (41.937405765, -87.716649687)      9    5   12   \n",
       "4      True  ... -87.755119  (41.881903443, -87.755121152)      9    5   13   \n",
       "5     False  ... -87.658432  (41.744378879, -87.658430635)      9    5   10   \n",
       "\n",
       "   Day_of_Week  Day_Name  Month_Name Quarter  Is_Weekend  \n",
       "0            5  Saturday   September       3        True  \n",
       "1            4    Friday   September       3       False  \n",
       "3            5  Saturday   September       3        True  \n",
       "4            5  Saturday   September       3        True  \n",
       "5            5  Saturday   September       3        True  \n",
       "\n",
       "[5 rows x 30 columns]"
      ]
     },
     "execution_count": 49,
     "metadata": {},
     "output_type": "execute_result"
    }
   ],
   "source": [
    "ncleaned_df.head()"
   ]
  },
  {
   "cell_type": "markdown",
   "id": "28f06112",
   "metadata": {},
   "source": [
    "## Visualization"
   ]
  }
 ],
 "metadata": {
  "kernelspec": {
   "display_name": "Python 3",
   "language": "python",
   "name": "python3"
  },
  "language_info": {
   "codemirror_mode": {
    "name": "ipython",
    "version": 3
   },
   "file_extension": ".py",
   "mimetype": "text/x-python",
   "name": "python",
   "nbconvert_exporter": "python",
   "pygments_lexer": "ipython3",
   "version": "3.13.7"
  }
 },
 "nbformat": 4,
 "nbformat_minor": 5
}

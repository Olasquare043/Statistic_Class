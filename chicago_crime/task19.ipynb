{
 "cells": [
  {
   "cell_type": "markdown",
   "id": "3239d361",
   "metadata": {},
   "source": [
    "# Chicago Crime Data Analysis"
   ]
  },
  {
   "cell_type": "markdown",
   "id": "06f2aab8",
   "metadata": {},
   "source": [
    "## Data ingestion: Dataset Setup and Loading"
   ]
  },
  {
   "cell_type": "code",
   "execution_count": null,
   "id": "5ad2ada8",
   "metadata": {},
   "outputs": [],
   "source": [
    "import pandas as pd\n",
    "import matplotlib.pyplot as plt\n",
    "\n",
    "#libraries for time\n",
    "from datetime import datetime, timedelta\n",
    "\n",
    "#ignore warnings\n",
    "import warnings\n",
    "warnings.filterwarnings('ignore')\n",
    "\n"
   ]
  },
  {
   "cell_type": "code",
   "execution_count": 30,
   "id": "e5d11bcc",
   "metadata": {},
   "outputs": [],
   "source": [
    "# loading the zip data\n",
    "# path=\"../data/archive_3.zip\"\n",
    "# df= pd.read_csv(path,low_memory=True, compression='zip')\n",
    "\n",
    "# loading the csv file\n",
    "path=\"../data/Crimes_2001_to_Present.csv\"\n",
    "\n",
    "# Define data types to reduce memory usage\n",
    "dtype_dict = {\n",
    "'ID': 'Int32',\n",
    "'Case Number': 'string',\n",
    "'IUCR': 'category',\n",
    "'Primary Type': 'category',\n",
    "'Description': 'category',\n",
    "'Location Description': 'category',\n",
    "'Arrest': 'bool',\n",
    "'Domestic': 'bool',\n",
    "'Beat': 'Int16',\n",
    "'District': 'Int8',\n",
    "'Ward': 'Int8',\n",
    "'Community Area': 'Int8',\n",
    "'FBI Code': 'category',\n",
    "'X Coordinate': 'float32',\n",
    "'Y Coordinate': 'float32',\n",
    "'Latitude': 'float32',\n",
    "'Longitude': 'float32'\n",
    "}\n",
    "df = pd.read_csv(path, dtype=dtype_dict)"
   ]
  },
  {
   "cell_type": "markdown",
   "id": "b3a6bacf",
   "metadata": {},
   "source": [
    "## Preliminary Data Analysis"
   ]
  },
  {
   "cell_type": "code",
   "execution_count": 31,
   "id": "f633dd59",
   "metadata": {},
   "outputs": [
    {
     "name": "stdout",
     "output_type": "stream",
     "text": [
      "============ OVERVIEW OF THE DATA =========\n",
      "\n",
      "<class 'pandas.core.frame.DataFrame'>\n",
      "RangeIndex: 7784664 entries, 0 to 7784663\n",
      "Data columns (total 22 columns):\n",
      " #   Column                Dtype   \n",
      "---  ------                -----   \n",
      " 0   ID                    Int32   \n",
      " 1   Case Number           string  \n",
      " 2   Date                  object  \n",
      " 3   Block                 object  \n",
      " 4   IUCR                  category\n",
      " 5   Primary Type          category\n",
      " 6   Description           category\n",
      " 7   Location Description  category\n",
      " 8   Arrest                bool    \n",
      " 9   Domestic              bool    \n",
      " 10  Beat                  Int16   \n",
      " 11  District              Int8    \n",
      " 12  Ward                  Int8    \n",
      " 13  Community Area        Int8    \n",
      " 14  FBI Code              category\n",
      " 15  X Coordinate          float32 \n",
      " 16  Y Coordinate          float32 \n",
      " 17  Year                  int64   \n",
      " 18  Updated On            object  \n",
      " 19  Latitude              float32 \n",
      " 20  Longitude             float32 \n",
      " 21  Location              object  \n",
      "dtypes: Int16(1), Int32(1), Int8(3), bool(2), category(5), float32(4), int64(1), object(4), string(1)\n",
      "memory usage: 653.4+ MB\n",
      "Data info: None\n",
      "\n",
      "Column list: Index(['ID', 'Case Number', 'Date', 'Block', 'IUCR', 'Primary Type',\n",
      "       'Description', 'Location Description', 'Arrest', 'Domestic', 'Beat',\n",
      "       'District', 'Ward', 'Community Area', 'FBI Code', 'X Coordinate',\n",
      "       'Y Coordinate', 'Year', 'Updated On', 'Latitude', 'Longitude',\n",
      "       'Location'],\n",
      "      dtype='object')\n",
      "\n",
      "\n",
      "============ Description of the data =========\n",
      "\n",
      "                    ID Case Number                    Date             Block  \\\n",
      "count        7784664.0     7784660                 7784664           7784664   \n",
      "unique            <NA>     7784121                 3207478             62845   \n",
      "top               <NA>    HJ590004  01/01/2008 12:01:00 AM  100XX W OHARE ST   \n",
      "freq              <NA>           6                     304             16486   \n",
      "mean    7026439.050899         NaN                     NaN               NaN   \n",
      "std     3502656.769728         NaN                     NaN               NaN   \n",
      "min              634.0         NaN                     NaN               NaN   \n",
      "25%          3792573.5         NaN                     NaN               NaN   \n",
      "50%          7029327.0         NaN                     NaN               NaN   \n",
      "75%        10131129.25         NaN                     NaN               NaN   \n",
      "max         13056426.0         NaN                     NaN               NaN   \n",
      "\n",
      "           IUCR Primary Type Description Location Description   Arrest  \\\n",
      "count   7784664      7784664     7784664              7774283  7784664   \n",
      "unique      404           36         544                  215        2   \n",
      "top        0820        THEFT      SIMPLE               STREET    False   \n",
      "freq     631091      1642148      913484              2026828  5749900   \n",
      "mean        NaN          NaN         NaN                  NaN      NaN   \n",
      "std         NaN          NaN         NaN                  NaN      NaN   \n",
      "min         NaN          NaN         NaN                  NaN      NaN   \n",
      "25%         NaN          NaN         NaN                  NaN      NaN   \n",
      "50%         NaN          NaN         NaN                  NaN      NaN   \n",
      "75%         NaN          NaN         NaN                  NaN      NaN   \n",
      "max         NaN          NaN         NaN                  NaN      NaN   \n",
      "\n",
      "       Domestic  ...       Ward  Community Area  FBI Code  X Coordinate  \\\n",
      "count   7784664  ...  7169816.0       7171188.0   7784664  7.697816e+06   \n",
      "unique        2  ...       <NA>            <NA>        26           NaN   \n",
      "top       False  ...       <NA>            <NA>        06           NaN   \n",
      "freq    6708370  ...       <NA>            <NA>   1642148           NaN   \n",
      "mean        NaN  ...  22.754197       37.484723       NaN  1.164601e+06   \n",
      "std         NaN  ...  13.851058       21.541153       NaN  7.669586e+04   \n",
      "min         NaN  ...        1.0             0.0       NaN  0.000000e+00   \n",
      "25%         NaN  ...       10.0            23.0       NaN  1.152976e+06   \n",
      "50%         NaN  ...       23.0            32.0       NaN  1.166110e+06   \n",
      "75%         NaN  ...       34.0            57.0       NaN  1.176372e+06   \n",
      "max         NaN  ...       50.0            77.0       NaN  1.205119e+06   \n",
      "\n",
      "        Y Coordinate          Year              Updated On      Latitude  \\\n",
      "count   7.697816e+06  7.784664e+06                 7784664  7.697816e+06   \n",
      "unique           NaN           NaN                    5561           NaN   \n",
      "top              NaN           NaN  02/10/2018 03:50:01 PM           NaN   \n",
      "freq             NaN           NaN                 2787942           NaN   \n",
      "mean    1.885781e+06  2.009944e+03                     NaN  4.184221e+01   \n",
      "std     1.350949e+05  6.260628e+00                     NaN  3.833415e-01   \n",
      "min     0.000000e+00  2.001000e+03                     NaN  3.661945e+01   \n",
      "25%     1.859073e+06  2.005000e+03                     NaN  4.176871e+01   \n",
      "50%     1.890730e+06  2.009000e+03                     NaN  4.185591e+01   \n",
      "75%     1.909273e+06  2.015000e+03                     NaN  4.190677e+01   \n",
      "max     1.951622e+06  2.023000e+03                     NaN  4.202291e+01   \n",
      "\n",
      "           Longitude                       Location  \n",
      "count   7.697816e+06                        7697816  \n",
      "unique           NaN                         890516  \n",
      "top              NaN  (41.976290414, -87.905227221)  \n",
      "freq             NaN                          14272  \n",
      "mean   -8.767151e+01                            NaN  \n",
      "std     3.923111e+00                            NaN  \n",
      "min    -9.168657e+01                            NaN  \n",
      "25%    -8.771367e+01                            NaN  \n",
      "50%    -8.766584e+01                            NaN  \n",
      "75%    -8.762820e+01                            NaN  \n",
      "max    -8.752453e+01                            NaN  \n",
      "\n",
      "[11 rows x 22 columns]\n"
     ]
    }
   ],
   "source": [
    "# let take a snap shot view on our data\n",
    "print(\"============ OVERVIEW OF THE DATA =========\\n\")\n",
    "print(f\"Data info: {df.info()}\\n\")\n",
    "\n",
    "print(f\"Column list: {df.columns}\\n\")\n",
    "\n",
    "print(\"\\n============ Description of the data =========\\n\")\n",
    "print(f\"{df.describe(include='all')}\")\n"
   ]
  },
  {
   "cell_type": "code",
   "execution_count": 32,
   "id": "ac89c30d",
   "metadata": {},
   "outputs": [
    {
     "name": "stdout",
     "output_type": "stream",
     "text": [
      "\n",
      "The last five rows\n",
      "         ID Case Number                    Date                  Block  IUCR  \\\n",
      "0  10224738    HY411648  09/05/2015 01:30:00 PM        043XX S WOOD ST  0486   \n",
      "1  10224739    HY411615  09/04/2015 11:30:00 AM    008XX N CENTRAL AVE  0870   \n",
      "2  11646166    JC213529  09/01/2018 12:01:00 AM  082XX S INGLESIDE AVE  0810   \n",
      "3  10224740    HY411595  09/05/2015 12:45:00 PM      035XX W BARRY AVE  2023   \n",
      "4  10224741    HY411610  09/05/2015 01:00:00 PM    0000X N LARAMIE AVE  0560   \n",
      "\n",
      "  Primary Type              Description Location Description  Arrest  \\\n",
      "0      BATTERY  DOMESTIC BATTERY SIMPLE            RESIDENCE   False   \n",
      "1        THEFT           POCKET-PICKING              CTA BUS   False   \n",
      "2        THEFT                OVER $500            RESIDENCE   False   \n",
      "3    NARCOTICS    POSS: HEROIN(BRN/TAN)             SIDEWALK    True   \n",
      "4      ASSAULT                   SIMPLE            APARTMENT   False   \n",
      "\n",
      "   Domestic  ...  Ward  Community Area  FBI Code  X Coordinate Y Coordinate  \\\n",
      "0      True  ...    12              61       08B     1165074.0    1875917.0   \n",
      "1     False  ...    29              25        06     1138875.0    1904869.0   \n",
      "2      True  ...     8              44        06           NaN          NaN   \n",
      "3     False  ...    35              21        18     1152037.0    1920384.0   \n",
      "4      True  ...    28              25       08A     1141706.0    1900086.0   \n",
      "\n",
      "   Year              Updated On   Latitude  Longitude  \\\n",
      "0  2015  02/10/2018 03:50:01 PM  41.815117 -87.669998   \n",
      "1  2015  02/10/2018 03:50:01 PM  41.895081 -87.765404   \n",
      "2  2018  04/06/2019 04:04:43 PM        NaN        NaN   \n",
      "3  2015  02/10/2018 03:50:01 PM  41.937405 -87.716652   \n",
      "4  2015  02/10/2018 03:50:01 PM  41.881905 -87.755119   \n",
      "\n",
      "                        Location  \n",
      "0  (41.815117282, -87.669999562)  \n",
      "1  (41.895080471, -87.765400451)  \n",
      "2                            NaN  \n",
      "3  (41.937405765, -87.716649687)  \n",
      "4  (41.881903443, -87.755121152)  \n",
      "\n",
      "[5 rows x 22 columns]\n"
     ]
    }
   ],
   "source": [
    "# checking first five rows\n",
    "print (\"\\nThe last five rows\")\n",
    "print(df.head())\n"
   ]
  },
  {
   "cell_type": "code",
   "execution_count": 33,
   "id": "d652104a",
   "metadata": {},
   "outputs": [
    {
     "name": "stdout",
     "output_type": "stream",
     "text": [
      "\n",
      "The last five rows\n",
      "               ID Case Number                    Date                Block  \\\n",
      "7784659  12847575    JF420478  09/01/2022 05:00:00 AM      005XX W SURF ST   \n",
      "7784660  12847801    JF420319  07/08/2022 12:00:00 AM  114XX S PRAIRIE AVE   \n",
      "7784661  12847324    JF420102  09/27/2022 11:00:00 AM      023XX E 70TH ST   \n",
      "7784662  12847570    JF420427  09/03/2022 10:25:00 AM   052XX W CARMEN AVE   \n",
      "7784663  12840464    JF411839  09/26/2022 07:20:00 PM    0000X N MASON AVE   \n",
      "\n",
      "         IUCR        Primary Type                    Description  \\\n",
      "7784659  2825       OTHER OFFENSE        HARASSMENT BY TELEPHONE   \n",
      "7784660  1130  DECEPTIVE PRACTICE       FRAUD OR CONFIDENCE GAME   \n",
      "7784661  0810               THEFT                      OVER $500   \n",
      "7784662  2021           NARCOTICS         POSSESS - BARBITURATES   \n",
      "7784663  143A   WEAPONS VIOLATION  UNLAWFUL POSSESSION - HANDGUN   \n",
      "\n",
      "                    Location Description  Arrest  Domestic  ...  Ward  \\\n",
      "7784659                        RESIDENCE   False      True  ...    44   \n",
      "7784660                           STREET   False     False  ...     9   \n",
      "7784661                        RESIDENCE   False     False  ...     5   \n",
      "7784662  RESIDENCE - YARD (FRONT / BACK)    True     False  ...    45   \n",
      "7784663                         SIDEWALK    True     False  ...    29   \n",
      "\n",
      "         Community Area  FBI Code  X Coordinate Y Coordinate  Year  \\\n",
      "7784659               6        26     1172497.0    1919410.0  2022   \n",
      "7784660              49        11     1179966.0    1828818.0  2022   \n",
      "7784661              43        06     1193181.0    1859005.0  2022   \n",
      "7784662              11        18     1140553.0    1933418.0  2022   \n",
      "7784663              25        15     1136773.0    1899652.0  2022   \n",
      "\n",
      "                     Updated On   Latitude  Longitude  \\\n",
      "7784659  01/03/2023 03:46:28 PM  41.934303 -87.641487   \n",
      "7784660  01/03/2023 03:46:28 PM  41.685543 -87.616814   \n",
      "7784661  01/03/2023 03:46:28 PM  41.768066 -87.567451   \n",
      "7784662  01/03/2023 03:46:28 PM  41.973392 -87.758537   \n",
      "7784663  01/03/2023 03:46:28 PM  41.880802 -87.773247   \n",
      "\n",
      "                              Location  \n",
      "7784659  (41.934304581, -87.641484982)  \n",
      "7784660  (41.685543881, -87.616812541)  \n",
      "7784661  (41.768068052, -87.567452932)  \n",
      "7784662  (41.973391184, -87.758534512)  \n",
      "7784663  (41.880802263, -87.773245737)  \n",
      "\n",
      "[5 rows x 22 columns]\n"
     ]
    }
   ],
   "source": [
    "# checking last five rows\n",
    "print (\"\\nThe last five rows\")\n",
    "print(df.tail())"
   ]
  },
  {
   "cell_type": "code",
   "execution_count": 34,
   "id": "dee81519",
   "metadata": {},
   "outputs": [
    {
     "data": {
      "text/plain": [
       "ID                           0\n",
       "Case Number                  4\n",
       "Date                         0\n",
       "Block                        0\n",
       "IUCR                         0\n",
       "Primary Type                 0\n",
       "Description                  0\n",
       "Location Description     10381\n",
       "Arrest                       0\n",
       "Domestic                     0\n",
       "Beat                         0\n",
       "District                    47\n",
       "Ward                    614848\n",
       "Community Area          613476\n",
       "FBI Code                     0\n",
       "X Coordinate             86848\n",
       "Y Coordinate             86848\n",
       "Year                         0\n",
       "Updated On                   0\n",
       "Latitude                 86848\n",
       "Longitude                86848\n",
       "Location                 86848\n",
       "dtype: int64"
      ]
     },
     "execution_count": 34,
     "metadata": {},
     "output_type": "execute_result"
    }
   ],
   "source": [
    "# checking the missing data\n",
    "df.isna().sum()"
   ]
  },
  {
   "cell_type": "markdown",
   "id": "5a1f79a7",
   "metadata": {},
   "source": [
    "## Data Cleaning and Preprocessing"
   ]
  },
  {
   "cell_type": "markdown",
   "id": "76a32a28",
   "metadata": {},
   "source": [
    "### Let extract data from data"
   ]
  },
  {
   "cell_type": "code",
   "execution_count": 35,
   "id": "36ce7022",
   "metadata": {},
   "outputs": [],
   "source": [
    " # Ensure Date is datetime\n",
    "df['Date'] = pd.to_datetime(\n",
    "    df['Date'],\n",
    "    format=\"%m/%d/%Y %I:%M:%S %p\",\n",
    "    errors=\"coerce\"\n",
    ")\n"
   ]
  },
  {
   "cell_type": "code",
   "execution_count": 36,
   "id": "a66dff29",
   "metadata": {},
   "outputs": [],
   "source": [
    "# Extract date components\n",
    "df['Year'] = df['Date'].dt.year\n",
    "df['Month'] = df['Date'].dt.month\n",
    "df['Day'] = df['Date'].dt.day\n",
    "df['Hour'] = df['Date'].dt.hour\n",
    "df['Day_of_Week'] = df['Date'].dt.dayofweek  # 0=Monday, 6=Sunday\n",
    "df['Day_Name'] = df['Date'].dt.day_name()\n",
    "df['Month_Name'] = df['Date'].dt.month_name()\n",
    "df['Quarter'] = df['Date'].dt.quarter\n",
    "df['Is_Weekend'] = df['Day_of_Week'].isin([5, 6])  # Saturday, Sunday"
   ]
  },
  {
   "cell_type": "code",
   "execution_count": 37,
   "id": "24df76bd",
   "metadata": {},
   "outputs": [
    {
     "data": {
      "text/plain": [
       "Index(['ID', 'Case Number', 'Date', 'Block', 'IUCR', 'Primary Type',\n",
       "       'Description', 'Location Description', 'Arrest', 'Domestic', 'Beat',\n",
       "       'District', 'Ward', 'Community Area', 'FBI Code', 'X Coordinate',\n",
       "       'Y Coordinate', 'Year', 'Updated On', 'Latitude', 'Longitude',\n",
       "       'Location', 'Month', 'Day', 'Hour', 'Day_of_Week', 'Day_Name',\n",
       "       'Month_Name', 'Quarter', 'Is_Weekend'],\n",
       "      dtype='object')"
      ]
     },
     "execution_count": 37,
     "metadata": {},
     "output_type": "execute_result"
    }
   ],
   "source": [
    "# let see the new columns\n",
    "df.columns"
   ]
  },
  {
   "cell_type": "markdown",
   "id": "8e683396",
   "metadata": {},
   "source": [
    "### Now let remove missing values"
   ]
  },
  {
   "cell_type": "code",
   "execution_count": 38,
   "id": "8759d7c2",
   "metadata": {},
   "outputs": [
    {
     "data": {
      "text/plain": [
       "ID                           0\n",
       "Case Number                  4\n",
       "Date                         0\n",
       "Block                        0\n",
       "IUCR                         0\n",
       "Primary Type                 0\n",
       "Description                  0\n",
       "Location Description     10381\n",
       "Arrest                       0\n",
       "Domestic                     0\n",
       "Beat                         0\n",
       "District                    47\n",
       "Ward                    614848\n",
       "Community Area          613476\n",
       "FBI Code                     0\n",
       "X Coordinate             86848\n",
       "Y Coordinate             86848\n",
       "Year                         0\n",
       "Updated On                   0\n",
       "Latitude                 86848\n",
       "Longitude                86848\n",
       "Location                 86848\n",
       "Month                        0\n",
       "Day                          0\n",
       "Hour                         0\n",
       "Day_of_Week                  0\n",
       "Day_Name                     0\n",
       "Month_Name                   0\n",
       "Quarter                      0\n",
       "Is_Weekend                   0\n",
       "dtype: int64"
      ]
     },
     "execution_count": 38,
     "metadata": {},
     "output_type": "execute_result"
    }
   ],
   "source": [
    "# let remove missing value\n",
    "df.isna().sum()"
   ]
  },
  {
   "cell_type": "code",
   "execution_count": 39,
   "id": "6fadb52a",
   "metadata": {},
   "outputs": [],
   "source": [
    "# let make a copy first\n",
    "new_df= df.copy()"
   ]
  },
  {
   "cell_type": "code",
   "execution_count": 40,
   "id": "55928aab",
   "metadata": {},
   "outputs": [
    {
     "name": "stdout",
     "output_type": "stream",
     "text": [
      "Data size before cleaning: 7784664\n",
      "Data size after cleaning: 7697816\n"
     ]
    }
   ],
   "source": [
    "# removing invalid data \n",
    "print(f\"Data size before cleaning: {len(new_df)}\")\n",
    "new_df.dropna(subset=\"Location\", inplace=True)\n",
    "print(f\"Data size after cleaning: {len(new_df)}\")"
   ]
  },
  {
   "cell_type": "code",
   "execution_count": 41,
   "id": "2bb9a605",
   "metadata": {},
   "outputs": [
    {
     "name": "stdout",
     "output_type": "stream",
     "text": [
      "Data size before cleaning: 7697816\n",
      "Data size after cleaning: 7697816\n"
     ]
    }
   ],
   "source": [
    "# removing duplicate data \n",
    "print(f\"Data size before cleaning: {len(new_df)}\")\n",
    "new_df.drop_duplicates()\n",
    "print(f\"Data size after cleaning: {len(new_df)}\")"
   ]
  },
  {
   "cell_type": "code",
   "execution_count": 42,
   "id": "8a80178f",
   "metadata": {},
   "outputs": [
    {
     "name": "stdout",
     "output_type": "stream",
     "text": [
      "Data size before cleaning: 7697816\n",
      "After removing invalid coordinates: 7671877 removed:(25939)\n"
     ]
    }
   ],
   "source": [
    "# removing data outrange of Chicago distreet\n",
    "print(f\"Data size before cleaning: {len(new_df)}\")\n",
    "cleaned_df= new_df[((new_df[\"Latitude\"]).between(41.6, 42.1)) &\n",
    "                ((new_df[\"Longitude\"]).between(-87.9, -87.5))\n",
    "                ]\n",
    "cleaned_df.reset_index()\n",
    "print(f\"After removing invalid coordinates: {len(cleaned_df)} removed:({len(new_df) - len(cleaned_df)})\")\n"
   ]
  },
  {
   "cell_type": "code",
   "execution_count": 43,
   "id": "3fe4e7c7",
   "metadata": {},
   "outputs": [
    {
     "name": "stdout",
     "output_type": "stream",
     "text": [
      "After removing District and ward outliers: 7068425 removed:(603452)\n"
     ]
    }
   ],
   "source": [
    "# Handle outliers in district/ward\n",
    "ncleaned_df = cleaned_df[\n",
    "    (cleaned_df['District'].between(1, 25)) & \n",
    "    (cleaned_df['Ward'].between(1, 50))\n",
    "]\n",
    "print(f\"After removing District and ward outliers: {len(ncleaned_df)} removed:({len(cleaned_df) - len(ncleaned_df)})\")\n"
   ]
  },
  {
   "cell_type": "code",
   "execution_count": 44,
   "id": "325d910a",
   "metadata": {},
   "outputs": [],
   "source": [
    "# let  Standardize text fields 'Primary Type' and 'Location Description' for easy retrieval without missing out data\n",
    "ncleaned_df['Primary Type']=ncleaned_df['Primary Type'].str.upper()\n",
    "ncleaned_df['Location Description']=ncleaned_df['Location Description'].str.upper()"
   ]
  },
  {
   "cell_type": "code",
   "execution_count": 45,
   "id": "34626089",
   "metadata": {},
   "outputs": [
    {
     "data": {
      "text/plain": [
       "0    RESIDENCE\n",
       "1      CTA BUS\n",
       "3     SIDEWALK\n",
       "4    APARTMENT\n",
       "5    RESIDENCE\n",
       "Name: Location Description, dtype: object"
      ]
     },
     "execution_count": 45,
     "metadata": {},
     "output_type": "execute_result"
    }
   ],
   "source": [
    "ncleaned_df['Location Description'].head()"
   ]
  },
  {
   "cell_type": "code",
   "execution_count": 46,
   "id": "62a189ec",
   "metadata": {},
   "outputs": [
    {
     "data": {
      "text/plain": [
       "0      BATTERY\n",
       "1        THEFT\n",
       "3    NARCOTICS\n",
       "4      ASSAULT\n",
       "5     BURGLARY\n",
       "Name: Primary Type, dtype: object"
      ]
     },
     "execution_count": 46,
     "metadata": {},
     "output_type": "execute_result"
    }
   ],
   "source": [
    "ncleaned_df['Primary Type'].head()"
   ]
  },
  {
   "cell_type": "code",
   "execution_count": 47,
   "id": "020a95bb",
   "metadata": {},
   "outputs": [
    {
     "name": "stdout",
     "output_type": "stream",
     "text": [
      "Missing Critical Fields:\n",
      "Date            0\n",
      "Primary Type    0\n",
      "Latitude        0\n",
      "Longitude       0\n",
      "dtype: int64\n"
     ]
    }
   ],
   "source": [
    "# verifying the data\n",
    "# checking the missing data\n",
    " # Missing critical fields\n",
    "critical_missing = ncleaned_df[['Date', 'Primary Type', 'Latitude', 'Longitude']].isnull().sum()\n",
    "print(f\"Missing Critical Fields:\\n{critical_missing}\")"
   ]
  },
  {
   "cell_type": "markdown",
   "id": "ab39d0fd",
   "metadata": {},
   "source": [
    "### Export the cleaned data"
   ]
  },
  {
   "cell_type": "code",
   "execution_count": 48,
   "id": "8e430c3c",
   "metadata": {},
   "outputs": [],
   "source": [
    "ncleaned_df.to_csv(\"../data/Cleaned_data.csv\", index=False)"
   ]
  },
  {
   "cell_type": "markdown",
   "id": "81f37bbb",
   "metadata": {},
   "source": [
    "## Descriptive Data Analysis(DDA)"
   ]
  },
  {
   "cell_type": "markdown",
   "id": "940065e2",
   "metadata": {},
   "source": [
    "### Crime Data Analysis – Insights Framework (Some insight to look at)\n",
    "1.  Frequency Insights (What types of crimes & where they occur most)\n",
    "\n",
    "    -   Top 10 major crime types (Primary Type).\n",
    "    -   Top 10 wards with the highest crime counts.\n",
    "    -   Top 10 districts with the highest crime counts.\n",
    "    -   Top 10 blocks with the highest crime counts.\n",
    "    -   Location-based crime analysis (e.g., Residence, Street, Public Place).\n",
    "\n",
    "2. Temporal Insights (When crimes happen)\n",
    "\n",
    "    -   Crime frequency by day of the week.\n",
    "    -   Crime trends by month of the year.\n",
    "    -   Year-over-year crime trend.\n",
    "    -   Hourly distribution of crimes.\n",
    "    -   Weekday vs Weekend crime comparison.\n",
    "\n",
    "3. Resolution Insights (How crimes are resolved)\n",
    "\n",
    "    -   Overall resolution rate (Arrested vs Not Arrested).\n",
    "    -   Arrest likelihood by crime type (which crimes are most likely to result in arrest).\n",
    "    -   Domestic vs Non-domestic crime comparison (both frequency & resolution).\n",
    "    -   Ward with the highest crime resolution rate (effectiveness by region).\n",
    "\n",
    "4. Trend & Severity Insights (How crimes evolve & seriousness)\n",
    "\n",
    "    -   Long-term trend analysis (crime volume over multiple years).\n",
    "    -   Crime severity breakdown (if IUCR or felony/misdemeanor distinction is available)."
   ]
  },
  {
   "cell_type": "code",
   "execution_count": 2,
   "id": "dc572af3",
   "metadata": {},
   "outputs": [
    {
     "data": {
      "text/html": [
       "<div>\n",
       "<style scoped>\n",
       "    .dataframe tbody tr th:only-of-type {\n",
       "        vertical-align: middle;\n",
       "    }\n",
       "\n",
       "    .dataframe tbody tr th {\n",
       "        vertical-align: top;\n",
       "    }\n",
       "\n",
       "    .dataframe thead th {\n",
       "        text-align: right;\n",
       "    }\n",
       "</style>\n",
       "<table border=\"1\" class=\"dataframe\">\n",
       "  <thead>\n",
       "    <tr style=\"text-align: right;\">\n",
       "      <th></th>\n",
       "      <th>ID</th>\n",
       "      <th>Case Number</th>\n",
       "      <th>Date</th>\n",
       "      <th>Block</th>\n",
       "      <th>IUCR</th>\n",
       "      <th>Primary Type</th>\n",
       "      <th>Description</th>\n",
       "      <th>Location Description</th>\n",
       "      <th>Arrest</th>\n",
       "      <th>Domestic</th>\n",
       "      <th>...</th>\n",
       "      <th>Longitude</th>\n",
       "      <th>Location</th>\n",
       "      <th>Month</th>\n",
       "      <th>Day</th>\n",
       "      <th>Hour</th>\n",
       "      <th>Day_of_Week</th>\n",
       "      <th>Day_Name</th>\n",
       "      <th>Month_Name</th>\n",
       "      <th>Quarter</th>\n",
       "      <th>Is_Weekend</th>\n",
       "    </tr>\n",
       "  </thead>\n",
       "  <tbody>\n",
       "    <tr>\n",
       "      <th>0</th>\n",
       "      <td>10224738</td>\n",
       "      <td>HY411648</td>\n",
       "      <td>2015-09-05 13:30:00</td>\n",
       "      <td>043XX S WOOD ST</td>\n",
       "      <td>0486</td>\n",
       "      <td>BATTERY</td>\n",
       "      <td>DOMESTIC BATTERY SIMPLE</td>\n",
       "      <td>RESIDENCE</td>\n",
       "      <td>False</td>\n",
       "      <td>True</td>\n",
       "      <td>...</td>\n",
       "      <td>-87.67000</td>\n",
       "      <td>(41.815117282, -87.669999562)</td>\n",
       "      <td>9</td>\n",
       "      <td>5</td>\n",
       "      <td>13</td>\n",
       "      <td>5</td>\n",
       "      <td>Saturday</td>\n",
       "      <td>September</td>\n",
       "      <td>3</td>\n",
       "      <td>True</td>\n",
       "    </tr>\n",
       "    <tr>\n",
       "      <th>1</th>\n",
       "      <td>10224739</td>\n",
       "      <td>HY411615</td>\n",
       "      <td>2015-09-04 11:30:00</td>\n",
       "      <td>008XX N CENTRAL AVE</td>\n",
       "      <td>0870</td>\n",
       "      <td>THEFT</td>\n",
       "      <td>POCKET-PICKING</td>\n",
       "      <td>CTA BUS</td>\n",
       "      <td>False</td>\n",
       "      <td>False</td>\n",
       "      <td>...</td>\n",
       "      <td>-87.76540</td>\n",
       "      <td>(41.895080471, -87.765400451)</td>\n",
       "      <td>9</td>\n",
       "      <td>4</td>\n",
       "      <td>11</td>\n",
       "      <td>4</td>\n",
       "      <td>Friday</td>\n",
       "      <td>September</td>\n",
       "      <td>3</td>\n",
       "      <td>False</td>\n",
       "    </tr>\n",
       "    <tr>\n",
       "      <th>2</th>\n",
       "      <td>10224740</td>\n",
       "      <td>HY411595</td>\n",
       "      <td>2015-09-05 12:45:00</td>\n",
       "      <td>035XX W BARRY AVE</td>\n",
       "      <td>2023</td>\n",
       "      <td>NARCOTICS</td>\n",
       "      <td>POSS: HEROIN(BRN/TAN)</td>\n",
       "      <td>SIDEWALK</td>\n",
       "      <td>True</td>\n",
       "      <td>False</td>\n",
       "      <td>...</td>\n",
       "      <td>-87.71665</td>\n",
       "      <td>(41.937405765, -87.716649687)</td>\n",
       "      <td>9</td>\n",
       "      <td>5</td>\n",
       "      <td>12</td>\n",
       "      <td>5</td>\n",
       "      <td>Saturday</td>\n",
       "      <td>September</td>\n",
       "      <td>3</td>\n",
       "      <td>True</td>\n",
       "    </tr>\n",
       "    <tr>\n",
       "      <th>3</th>\n",
       "      <td>10224741</td>\n",
       "      <td>HY411610</td>\n",
       "      <td>2015-09-05 13:00:00</td>\n",
       "      <td>0000X N LARAMIE AVE</td>\n",
       "      <td>0560</td>\n",
       "      <td>ASSAULT</td>\n",
       "      <td>SIMPLE</td>\n",
       "      <td>APARTMENT</td>\n",
       "      <td>False</td>\n",
       "      <td>True</td>\n",
       "      <td>...</td>\n",
       "      <td>-87.75512</td>\n",
       "      <td>(41.881903443, -87.755121152)</td>\n",
       "      <td>9</td>\n",
       "      <td>5</td>\n",
       "      <td>13</td>\n",
       "      <td>5</td>\n",
       "      <td>Saturday</td>\n",
       "      <td>September</td>\n",
       "      <td>3</td>\n",
       "      <td>True</td>\n",
       "    </tr>\n",
       "    <tr>\n",
       "      <th>4</th>\n",
       "      <td>10224742</td>\n",
       "      <td>HY411435</td>\n",
       "      <td>2015-09-05 10:55:00</td>\n",
       "      <td>082XX S LOOMIS BLVD</td>\n",
       "      <td>0610</td>\n",
       "      <td>BURGLARY</td>\n",
       "      <td>FORCIBLE ENTRY</td>\n",
       "      <td>RESIDENCE</td>\n",
       "      <td>False</td>\n",
       "      <td>False</td>\n",
       "      <td>...</td>\n",
       "      <td>-87.65843</td>\n",
       "      <td>(41.744378879, -87.658430635)</td>\n",
       "      <td>9</td>\n",
       "      <td>5</td>\n",
       "      <td>10</td>\n",
       "      <td>5</td>\n",
       "      <td>Saturday</td>\n",
       "      <td>September</td>\n",
       "      <td>3</td>\n",
       "      <td>True</td>\n",
       "    </tr>\n",
       "  </tbody>\n",
       "</table>\n",
       "<p>5 rows × 30 columns</p>\n",
       "</div>"
      ],
      "text/plain": [
       "         ID Case Number                 Date                Block  IUCR  \\\n",
       "0  10224738    HY411648  2015-09-05 13:30:00      043XX S WOOD ST  0486   \n",
       "1  10224739    HY411615  2015-09-04 11:30:00  008XX N CENTRAL AVE  0870   \n",
       "2  10224740    HY411595  2015-09-05 12:45:00    035XX W BARRY AVE  2023   \n",
       "3  10224741    HY411610  2015-09-05 13:00:00  0000X N LARAMIE AVE  0560   \n",
       "4  10224742    HY411435  2015-09-05 10:55:00  082XX S LOOMIS BLVD  0610   \n",
       "\n",
       "  Primary Type              Description Location Description  Arrest  \\\n",
       "0      BATTERY  DOMESTIC BATTERY SIMPLE            RESIDENCE   False   \n",
       "1        THEFT           POCKET-PICKING              CTA BUS   False   \n",
       "2    NARCOTICS    POSS: HEROIN(BRN/TAN)             SIDEWALK    True   \n",
       "3      ASSAULT                   SIMPLE            APARTMENT   False   \n",
       "4     BURGLARY           FORCIBLE ENTRY            RESIDENCE   False   \n",
       "\n",
       "   Domestic  ...  Longitude                       Location  Month  Day Hour  \\\n",
       "0      True  ...  -87.67000  (41.815117282, -87.669999562)      9    5   13   \n",
       "1     False  ...  -87.76540  (41.895080471, -87.765400451)      9    4   11   \n",
       "2     False  ...  -87.71665  (41.937405765, -87.716649687)      9    5   12   \n",
       "3      True  ...  -87.75512  (41.881903443, -87.755121152)      9    5   13   \n",
       "4     False  ...  -87.65843  (41.744378879, -87.658430635)      9    5   10   \n",
       "\n",
       "   Day_of_Week  Day_Name  Month_Name Quarter  Is_Weekend  \n",
       "0            5  Saturday   September       3        True  \n",
       "1            4    Friday   September       3       False  \n",
       "2            5  Saturday   September       3        True  \n",
       "3            5  Saturday   September       3        True  \n",
       "4            5  Saturday   September       3        True  \n",
       "\n",
       "[5 rows x 30 columns]"
      ]
     },
     "execution_count": 2,
     "metadata": {},
     "output_type": "execute_result"
    }
   ],
   "source": [
    "# let copy the cleaned data before analysis\n",
    "# df_cleaned = ncleaned_df.copy()\n",
    "\n",
    "# reload the cleaned data is required to load it from the start again\n",
    "# reload the importation of libaries codes too\n",
    "import pandas as pd\n",
    "import matplotlib.pyplot as plt\n",
    "\n",
    "# ignore warnings\n",
    "import warnings\n",
    "warnings.filterwarnings('ignore')\n",
    "\n",
    "df_cleaned = pd.read_csv('../data/Cleaned_data.csv')\n",
    "df_cleaned.head()"
   ]
  },
  {
   "cell_type": "markdown",
   "id": "b1735ad4",
   "metadata": {},
   "source": [
    "#### 1.  Frequency Insights (What types of crimes & where they occur most)"
   ]
  },
  {
   "cell_type": "markdown",
   "id": "f7904300",
   "metadata": {},
   "source": [
    "##### Top 10 major crime types (Primary Type)."
   ]
  },
  {
   "cell_type": "code",
   "execution_count": 3,
   "id": "8909e1d9",
   "metadata": {},
   "outputs": [
    {
     "name": "stdout",
     "output_type": "stream",
     "text": [
      "\n",
      "The Top 10 Crimes are:\n"
     ]
    },
    {
     "data": {
      "text/html": [
       "<div>\n",
       "<style scoped>\n",
       "    .dataframe tbody tr th:only-of-type {\n",
       "        vertical-align: middle;\n",
       "    }\n",
       "\n",
       "    .dataframe tbody tr th {\n",
       "        vertical-align: top;\n",
       "    }\n",
       "\n",
       "    .dataframe thead th {\n",
       "        text-align: right;\n",
       "    }\n",
       "</style>\n",
       "<table border=\"1\" class=\"dataframe\">\n",
       "  <thead>\n",
       "    <tr style=\"text-align: right;\">\n",
       "      <th></th>\n",
       "      <th>Primary Type</th>\n",
       "      <th>Crime_Count</th>\n",
       "    </tr>\n",
       "  </thead>\n",
       "  <tbody>\n",
       "    <tr>\n",
       "      <th>0</th>\n",
       "      <td>THEFT</td>\n",
       "      <td>1492340</td>\n",
       "    </tr>\n",
       "    <tr>\n",
       "      <th>1</th>\n",
       "      <td>BATTERY</td>\n",
       "      <td>1298396</td>\n",
       "    </tr>\n",
       "    <tr>\n",
       "      <th>2</th>\n",
       "      <td>CRIMINAL DAMAGE</td>\n",
       "      <td>811025</td>\n",
       "    </tr>\n",
       "    <tr>\n",
       "      <th>3</th>\n",
       "      <td>NARCOTICS</td>\n",
       "      <td>667246</td>\n",
       "    </tr>\n",
       "    <tr>\n",
       "      <th>4</th>\n",
       "      <td>ASSAULT</td>\n",
       "      <td>465144</td>\n",
       "    </tr>\n",
       "    <tr>\n",
       "      <th>5</th>\n",
       "      <td>OTHER OFFENSE</td>\n",
       "      <td>435611</td>\n",
       "    </tr>\n",
       "    <tr>\n",
       "      <th>6</th>\n",
       "      <td>BURGLARY</td>\n",
       "      <td>390494</td>\n",
       "    </tr>\n",
       "    <tr>\n",
       "      <th>7</th>\n",
       "      <td>MOTOR VEHICLE THEFT</td>\n",
       "      <td>339144</td>\n",
       "    </tr>\n",
       "    <tr>\n",
       "      <th>8</th>\n",
       "      <td>DECEPTIVE PRACTICE</td>\n",
       "      <td>307155</td>\n",
       "    </tr>\n",
       "    <tr>\n",
       "      <th>9</th>\n",
       "      <td>ROBBERY</td>\n",
       "      <td>267971</td>\n",
       "    </tr>\n",
       "  </tbody>\n",
       "</table>\n",
       "</div>"
      ],
      "text/plain": [
       "          Primary Type  Crime_Count\n",
       "0                THEFT      1492340\n",
       "1              BATTERY      1298396\n",
       "2      CRIMINAL DAMAGE       811025\n",
       "3            NARCOTICS       667246\n",
       "4              ASSAULT       465144\n",
       "5        OTHER OFFENSE       435611\n",
       "6             BURGLARY       390494\n",
       "7  MOTOR VEHICLE THEFT       339144\n",
       "8   DECEPTIVE PRACTICE       307155\n",
       "9              ROBBERY       267971"
      ]
     },
     "execution_count": 3,
     "metadata": {},
     "output_type": "execute_result"
    }
   ],
   "source": [
    "# Top 10 major crime types (Primary Type).\n",
    "top10crime = df_cleaned[\"Primary Type\"].value_counts().head(10).reset_index()\n",
    "top10crime.columns=['Primary Type','Crime_Count']\n",
    "print(f\"\\nThe Top 10 Crimes are:\")\n",
    "top10crime"
   ]
  },
  {
   "cell_type": "markdown",
   "id": "11429576",
   "metadata": {},
   "source": [
    "##### Top 10 wards with highest crime rate."
   ]
  },
  {
   "cell_type": "code",
   "execution_count": 4,
   "id": "10ce1ffd",
   "metadata": {},
   "outputs": [
    {
     "name": "stdout",
     "output_type": "stream",
     "text": [
      "The Top 10 wards with highest crime rate are:\n"
     ]
    },
    {
     "data": {
      "text/html": [
       "<div>\n",
       "<style scoped>\n",
       "    .dataframe tbody tr th:only-of-type {\n",
       "        vertical-align: middle;\n",
       "    }\n",
       "\n",
       "    .dataframe tbody tr th {\n",
       "        vertical-align: top;\n",
       "    }\n",
       "\n",
       "    .dataframe thead th {\n",
       "        text-align: right;\n",
       "    }\n",
       "</style>\n",
       "<table border=\"1\" class=\"dataframe\">\n",
       "  <thead>\n",
       "    <tr style=\"text-align: right;\">\n",
       "      <th></th>\n",
       "      <th>Ward</th>\n",
       "      <th>Crime_Count</th>\n",
       "    </tr>\n",
       "  </thead>\n",
       "  <tbody>\n",
       "    <tr>\n",
       "      <th>0</th>\n",
       "      <td>28</td>\n",
       "      <td>325143</td>\n",
       "    </tr>\n",
       "    <tr>\n",
       "      <th>1</th>\n",
       "      <td>42</td>\n",
       "      <td>294718</td>\n",
       "    </tr>\n",
       "    <tr>\n",
       "      <th>2</th>\n",
       "      <td>24</td>\n",
       "      <td>277690</td>\n",
       "    </tr>\n",
       "    <tr>\n",
       "      <th>3</th>\n",
       "      <td>27</td>\n",
       "      <td>266680</td>\n",
       "    </tr>\n",
       "    <tr>\n",
       "      <th>4</th>\n",
       "      <td>2</td>\n",
       "      <td>252150</td>\n",
       "    </tr>\n",
       "    <tr>\n",
       "      <th>5</th>\n",
       "      <td>6</td>\n",
       "      <td>235069</td>\n",
       "    </tr>\n",
       "    <tr>\n",
       "      <th>6</th>\n",
       "      <td>17</td>\n",
       "      <td>235000</td>\n",
       "    </tr>\n",
       "    <tr>\n",
       "      <th>7</th>\n",
       "      <td>20</td>\n",
       "      <td>232951</td>\n",
       "    </tr>\n",
       "    <tr>\n",
       "      <th>8</th>\n",
       "      <td>3</td>\n",
       "      <td>216592</td>\n",
       "    </tr>\n",
       "    <tr>\n",
       "      <th>9</th>\n",
       "      <td>21</td>\n",
       "      <td>215223</td>\n",
       "    </tr>\n",
       "  </tbody>\n",
       "</table>\n",
       "</div>"
      ],
      "text/plain": [
       "   Ward  Crime_Count\n",
       "0    28       325143\n",
       "1    42       294718\n",
       "2    24       277690\n",
       "3    27       266680\n",
       "4     2       252150\n",
       "5     6       235069\n",
       "6    17       235000\n",
       "7    20       232951\n",
       "8     3       216592\n",
       "9    21       215223"
      ]
     },
     "execution_count": 4,
     "metadata": {},
     "output_type": "execute_result"
    }
   ],
   "source": [
    "# Top 10 wards with highest crime rate\n",
    "top10_wards_crime_rate = df_cleaned['Ward'].value_counts().head(10).reset_index()\n",
    "top10_wards_crime_rate.columns = ['Ward', 'Crime_Count']\n",
    "print(\"The Top 10 wards with highest crime rate are:\")\n",
    "top10_wards_crime_rate"
   ]
  },
  {
   "cell_type": "markdown",
   "id": "3f338844",
   "metadata": {},
   "source": [
    "##### Top 10 districts with the highest crime counts."
   ]
  },
  {
   "cell_type": "code",
   "execution_count": 5,
   "id": "07569d5e",
   "metadata": {},
   "outputs": [
    {
     "name": "stdout",
     "output_type": "stream",
     "text": [
      "The Top 10 districts with highest crime rate are:\n"
     ]
    },
    {
     "data": {
      "text/html": [
       "<div>\n",
       "<style scoped>\n",
       "    .dataframe tbody tr th:only-of-type {\n",
       "        vertical-align: middle;\n",
       "    }\n",
       "\n",
       "    .dataframe tbody tr th {\n",
       "        vertical-align: top;\n",
       "    }\n",
       "\n",
       "    .dataframe thead th {\n",
       "        text-align: right;\n",
       "    }\n",
       "</style>\n",
       "<table border=\"1\" class=\"dataframe\">\n",
       "  <thead>\n",
       "    <tr style=\"text-align: right;\">\n",
       "      <th></th>\n",
       "      <th>District</th>\n",
       "      <th>Crime_Count</th>\n",
       "    </tr>\n",
       "  </thead>\n",
       "  <tbody>\n",
       "    <tr>\n",
       "      <th>0</th>\n",
       "      <td>8</td>\n",
       "      <td>479306</td>\n",
       "    </tr>\n",
       "    <tr>\n",
       "      <th>1</th>\n",
       "      <td>11</td>\n",
       "      <td>457597</td>\n",
       "    </tr>\n",
       "    <tr>\n",
       "      <th>2</th>\n",
       "      <td>6</td>\n",
       "      <td>419384</td>\n",
       "    </tr>\n",
       "    <tr>\n",
       "      <th>3</th>\n",
       "      <td>7</td>\n",
       "      <td>412834</td>\n",
       "    </tr>\n",
       "    <tr>\n",
       "      <th>4</th>\n",
       "      <td>4</td>\n",
       "      <td>406672</td>\n",
       "    </tr>\n",
       "    <tr>\n",
       "      <th>5</th>\n",
       "      <td>25</td>\n",
       "      <td>403259</td>\n",
       "    </tr>\n",
       "    <tr>\n",
       "      <th>6</th>\n",
       "      <td>3</td>\n",
       "      <td>361056</td>\n",
       "    </tr>\n",
       "    <tr>\n",
       "      <th>7</th>\n",
       "      <td>12</td>\n",
       "      <td>349637</td>\n",
       "    </tr>\n",
       "    <tr>\n",
       "      <th>8</th>\n",
       "      <td>9</td>\n",
       "      <td>346081</td>\n",
       "    </tr>\n",
       "    <tr>\n",
       "      <th>9</th>\n",
       "      <td>2</td>\n",
       "      <td>321880</td>\n",
       "    </tr>\n",
       "  </tbody>\n",
       "</table>\n",
       "</div>"
      ],
      "text/plain": [
       "   District  Crime_Count\n",
       "0         8       479306\n",
       "1        11       457597\n",
       "2         6       419384\n",
       "3         7       412834\n",
       "4         4       406672\n",
       "5        25       403259\n",
       "6         3       361056\n",
       "7        12       349637\n",
       "8         9       346081\n",
       "9         2       321880"
      ]
     },
     "execution_count": 5,
     "metadata": {},
     "output_type": "execute_result"
    }
   ],
   "source": [
    "# Top 10 districts with highest crime rate\n",
    "top10_districts_crime_rate = df_cleaned['District'].value_counts().head(10).reset_index()\n",
    "top10_districts_crime_rate.columns = ['District', 'Crime_Count']\n",
    "print(\"The Top 10 districts with highest crime rate are:\")\n",
    "top10_districts_crime_rate"
   ]
  },
  {
   "cell_type": "markdown",
   "id": "39808f21",
   "metadata": {},
   "source": [
    "##### Top 10 blocks with the highest crime counts."
   ]
  },
  {
   "cell_type": "code",
   "execution_count": 6,
   "id": "4d58e9ec",
   "metadata": {},
   "outputs": [
    {
     "name": "stdout",
     "output_type": "stream",
     "text": [
      "The Top 10 blocks with highest crime rate are:\n"
     ]
    },
    {
     "data": {
      "text/html": [
       "<div>\n",
       "<style scoped>\n",
       "    .dataframe tbody tr th:only-of-type {\n",
       "        vertical-align: middle;\n",
       "    }\n",
       "\n",
       "    .dataframe tbody tr th {\n",
       "        vertical-align: top;\n",
       "    }\n",
       "\n",
       "    .dataframe thead th {\n",
       "        text-align: right;\n",
       "    }\n",
       "</style>\n",
       "<table border=\"1\" class=\"dataframe\">\n",
       "  <thead>\n",
       "    <tr style=\"text-align: right;\">\n",
       "      <th></th>\n",
       "      <th>Block</th>\n",
       "      <th>Crime_Count</th>\n",
       "    </tr>\n",
       "  </thead>\n",
       "  <tbody>\n",
       "    <tr>\n",
       "      <th>0</th>\n",
       "      <td>001XX N STATE ST</td>\n",
       "      <td>14122</td>\n",
       "    </tr>\n",
       "    <tr>\n",
       "      <th>1</th>\n",
       "      <td>076XX S CICERO AVE</td>\n",
       "      <td>10070</td>\n",
       "    </tr>\n",
       "    <tr>\n",
       "      <th>2</th>\n",
       "      <td>008XX N MICHIGAN AVE</td>\n",
       "      <td>9355</td>\n",
       "    </tr>\n",
       "    <tr>\n",
       "      <th>3</th>\n",
       "      <td>0000X N STATE ST</td>\n",
       "      <td>8422</td>\n",
       "    </tr>\n",
       "    <tr>\n",
       "      <th>4</th>\n",
       "      <td>064XX S DR MARTIN LUTHER KING JR DR</td>\n",
       "      <td>5931</td>\n",
       "    </tr>\n",
       "    <tr>\n",
       "      <th>5</th>\n",
       "      <td>063XX S DR MARTIN LUTHER KING JR DR</td>\n",
       "      <td>5556</td>\n",
       "    </tr>\n",
       "    <tr>\n",
       "      <th>6</th>\n",
       "      <td>023XX S STATE ST</td>\n",
       "      <td>4670</td>\n",
       "    </tr>\n",
       "    <tr>\n",
       "      <th>7</th>\n",
       "      <td>001XX W 87TH ST</td>\n",
       "      <td>4613</td>\n",
       "    </tr>\n",
       "    <tr>\n",
       "      <th>8</th>\n",
       "      <td>012XX S WABASH AVE</td>\n",
       "      <td>4376</td>\n",
       "    </tr>\n",
       "    <tr>\n",
       "      <th>9</th>\n",
       "      <td>006XX N MICHIGAN AVE</td>\n",
       "      <td>4334</td>\n",
       "    </tr>\n",
       "  </tbody>\n",
       "</table>\n",
       "</div>"
      ],
      "text/plain": [
       "                                 Block  Crime_Count\n",
       "0                     001XX N STATE ST        14122\n",
       "1                   076XX S CICERO AVE        10070\n",
       "2                 008XX N MICHIGAN AVE         9355\n",
       "3                     0000X N STATE ST         8422\n",
       "4  064XX S DR MARTIN LUTHER KING JR DR         5931\n",
       "5  063XX S DR MARTIN LUTHER KING JR DR         5556\n",
       "6                     023XX S STATE ST         4670\n",
       "7                      001XX W 87TH ST         4613\n",
       "8                   012XX S WABASH AVE         4376\n",
       "9                 006XX N MICHIGAN AVE         4334"
      ]
     },
     "execution_count": 6,
     "metadata": {},
     "output_type": "execute_result"
    }
   ],
   "source": [
    "# Top 10 blocks with highest crime rate\n",
    "top10_blocks_crime_rate = df_cleaned['Block'].value_counts().head(10).reset_index()\n",
    "top10_blocks_crime_rate.columns = ['Block', 'Crime_Count']\n",
    "print(\"The Top 10 blocks with highest crime rate are:\")\n",
    "top10_blocks_crime_rate"
   ]
  },
  {
   "cell_type": "markdown",
   "id": "2b6f34b1",
   "metadata": {},
   "source": [
    "##### Location-based crime analysis (e.g., Residence, Street, Public Place)."
   ]
  },
  {
   "cell_type": "code",
   "execution_count": 7,
   "id": "fbf98f0e",
   "metadata": {},
   "outputs": [
    {
     "name": "stdout",
     "output_type": "stream",
     "text": [
      "\n",
      " The Location Description with highest description\n"
     ]
    },
    {
     "data": {
      "text/html": [
       "<div>\n",
       "<style scoped>\n",
       "    .dataframe tbody tr th:only-of-type {\n",
       "        vertical-align: middle;\n",
       "    }\n",
       "\n",
       "    .dataframe tbody tr th {\n",
       "        vertical-align: top;\n",
       "    }\n",
       "\n",
       "    .dataframe thead th {\n",
       "        text-align: right;\n",
       "    }\n",
       "</style>\n",
       "<table border=\"1\" class=\"dataframe\">\n",
       "  <thead>\n",
       "    <tr style=\"text-align: right;\">\n",
       "      <th></th>\n",
       "      <th>Location Description</th>\n",
       "      <th>Crime_Count</th>\n",
       "    </tr>\n",
       "  </thead>\n",
       "  <tbody>\n",
       "    <tr>\n",
       "      <th>0</th>\n",
       "      <td>STREET</td>\n",
       "      <td>1825102</td>\n",
       "    </tr>\n",
       "    <tr>\n",
       "      <th>1</th>\n",
       "      <td>RESIDENCE</td>\n",
       "      <td>1165669</td>\n",
       "    </tr>\n",
       "    <tr>\n",
       "      <th>2</th>\n",
       "      <td>APARTMENT</td>\n",
       "      <td>831832</td>\n",
       "    </tr>\n",
       "    <tr>\n",
       "      <th>3</th>\n",
       "      <td>SIDEWALK</td>\n",
       "      <td>687104</td>\n",
       "    </tr>\n",
       "    <tr>\n",
       "      <th>4</th>\n",
       "      <td>OTHER</td>\n",
       "      <td>238985</td>\n",
       "    </tr>\n",
       "    <tr>\n",
       "      <th>5</th>\n",
       "      <td>PARKING LOT/GARAGE(NON.RESID.)</td>\n",
       "      <td>181370</td>\n",
       "    </tr>\n",
       "    <tr>\n",
       "      <th>6</th>\n",
       "      <td>ALLEY</td>\n",
       "      <td>158404</td>\n",
       "    </tr>\n",
       "    <tr>\n",
       "      <th>7</th>\n",
       "      <td>SMALL RETAIL STORE</td>\n",
       "      <td>136535</td>\n",
       "    </tr>\n",
       "    <tr>\n",
       "      <th>8</th>\n",
       "      <td>SCHOOL, PUBLIC, BUILDING</td>\n",
       "      <td>131550</td>\n",
       "    </tr>\n",
       "    <tr>\n",
       "      <th>9</th>\n",
       "      <td>RESIDENCE-GARAGE</td>\n",
       "      <td>122180</td>\n",
       "    </tr>\n",
       "  </tbody>\n",
       "</table>\n",
       "</div>"
      ],
      "text/plain": [
       "             Location Description  Crime_Count\n",
       "0                          STREET      1825102\n",
       "1                       RESIDENCE      1165669\n",
       "2                       APARTMENT       831832\n",
       "3                        SIDEWALK       687104\n",
       "4                           OTHER       238985\n",
       "5  PARKING LOT/GARAGE(NON.RESID.)       181370\n",
       "6                           ALLEY       158404\n",
       "7              SMALL RETAIL STORE       136535\n",
       "8        SCHOOL, PUBLIC, BUILDING       131550\n",
       "9                RESIDENCE-GARAGE       122180"
      ]
     },
     "execution_count": 7,
     "metadata": {},
     "output_type": "execute_result"
    }
   ],
   "source": [
    "crime_location=df_cleaned['Location Description'].value_counts().head(10).reset_index() #just ten highest \n",
    "crime_location.columns=['Location Description','Crime_Count']\n",
    "print(\"\\n The Location Description with highest description\")\n",
    "crime_location"
   ]
  },
  {
   "cell_type": "markdown",
   "id": "ac993d4f",
   "metadata": {},
   "source": [
    "#### 2. Temporal Insights (When crimes happen)"
   ]
  },
  {
   "cell_type": "markdown",
   "id": "0a93e70c",
   "metadata": {},
   "source": [
    "##### Crime frequency by day of the week."
   ]
  },
  {
   "cell_type": "code",
   "execution_count": 8,
   "id": "43bda2da",
   "metadata": {},
   "outputs": [
    {
     "data": {
      "text/plain": [
       "Index(['ID', 'Case Number', 'Date', 'Block', 'IUCR', 'Primary Type',\n",
       "       'Description', 'Location Description', 'Arrest', 'Domestic', 'Beat',\n",
       "       'District', 'Ward', 'Community Area', 'FBI Code', 'X Coordinate',\n",
       "       'Y Coordinate', 'Year', 'Updated On', 'Latitude', 'Longitude',\n",
       "       'Location', 'Month', 'Day', 'Hour', 'Day_of_Week', 'Day_Name',\n",
       "       'Month_Name', 'Quarter', 'Is_Weekend'],\n",
       "      dtype='object')"
      ]
     },
     "execution_count": 8,
     "metadata": {},
     "output_type": "execute_result"
    }
   ],
   "source": [
    "df_cleaned.columns"
   ]
  },
  {
   "cell_type": "code",
   "execution_count": 9,
   "id": "f63402f0",
   "metadata": {},
   "outputs": [
    {
     "data": {
      "text/html": [
       "<div>\n",
       "<style scoped>\n",
       "    .dataframe tbody tr th:only-of-type {\n",
       "        vertical-align: middle;\n",
       "    }\n",
       "\n",
       "    .dataframe tbody tr th {\n",
       "        vertical-align: top;\n",
       "    }\n",
       "\n",
       "    .dataframe thead th {\n",
       "        text-align: right;\n",
       "    }\n",
       "</style>\n",
       "<table border=\"1\" class=\"dataframe\">\n",
       "  <thead>\n",
       "    <tr style=\"text-align: right;\">\n",
       "      <th></th>\n",
       "      <th>Days of the week</th>\n",
       "      <th>Crime Count</th>\n",
       "    </tr>\n",
       "  </thead>\n",
       "  <tbody>\n",
       "    <tr>\n",
       "      <th>0</th>\n",
       "      <td>Friday</td>\n",
       "      <td>1062388</td>\n",
       "    </tr>\n",
       "    <tr>\n",
       "      <th>1</th>\n",
       "      <td>Wednesday</td>\n",
       "      <td>1015864</td>\n",
       "    </tr>\n",
       "    <tr>\n",
       "      <th>2</th>\n",
       "      <td>Saturday</td>\n",
       "      <td>1013784</td>\n",
       "    </tr>\n",
       "    <tr>\n",
       "      <th>3</th>\n",
       "      <td>Tuesday</td>\n",
       "      <td>1009004</td>\n",
       "    </tr>\n",
       "    <tr>\n",
       "      <th>4</th>\n",
       "      <td>Thursday</td>\n",
       "      <td>1004926</td>\n",
       "    </tr>\n",
       "    <tr>\n",
       "      <th>5</th>\n",
       "      <td>Monday</td>\n",
       "      <td>997688</td>\n",
       "    </tr>\n",
       "    <tr>\n",
       "      <th>6</th>\n",
       "      <td>Sunday</td>\n",
       "      <td>964771</td>\n",
       "    </tr>\n",
       "  </tbody>\n",
       "</table>\n",
       "</div>"
      ],
      "text/plain": [
       "  Days of the week  Crime Count\n",
       "0           Friday      1062388\n",
       "1        Wednesday      1015864\n",
       "2         Saturday      1013784\n",
       "3          Tuesday      1009004\n",
       "4         Thursday      1004926\n",
       "5           Monday       997688\n",
       "6           Sunday       964771"
      ]
     },
     "execution_count": 9,
     "metadata": {},
     "output_type": "execute_result"
    }
   ],
   "source": [
    "days_crime=df_cleaned['Day_Name'].value_counts().reset_index()\n",
    "days_crime.columns=[\"Days of the week\", \"Crime Count\"]\n",
    "days_crime"
   ]
  },
  {
   "cell_type": "markdown",
   "id": "5e2ac675",
   "metadata": {},
   "source": [
    "##### Crime trends by month of the year."
   ]
  },
  {
   "cell_type": "code",
   "execution_count": 10,
   "id": "95cbdfcd",
   "metadata": {},
   "outputs": [
    {
     "name": "stdout",
     "output_type": "stream",
     "text": [
      "\n",
      "Crime trends by months\n",
      "   Month Name  Crime Count\n",
      "0       April       568502\n",
      "1      August       657453\n",
      "2    December       531789\n",
      "3    February       474737\n",
      "4     January       537360\n",
      "5        July       664286\n",
      "6        June       631980\n",
      "7       March       566099\n",
      "8         May       634155\n",
      "9    November       559970\n",
      "10    October       623458\n",
      "11  September       618636\n"
     ]
    }
   ],
   "source": [
    "month_crime= df_cleaned[\"Month_Name\"].value_counts().sort_index().reset_index()\n",
    "month_crime.columns=['Month Name', 'Crime Count']\n",
    "print(\"\\nCrime trends by months\")\n",
    "print(month_crime)"
   ]
  },
  {
   "cell_type": "code",
   "execution_count": 11,
   "id": "89efdd48",
   "metadata": {},
   "outputs": [
    {
     "name": "stdout",
     "output_type": "stream",
     "text": [
      "\n",
      "Monthly Crime trends grouped by years\n"
     ]
    },
    {
     "data": {
      "text/plain": [
       "0          April\n",
       "1         August\n",
       "2       December\n",
       "3       February\n",
       "4        January\n",
       "         ...    \n",
       "263    September\n",
       "264        April\n",
       "265     February\n",
       "266      January\n",
       "267        March\n",
       "Name: Month, Length: 268, dtype: object"
      ]
     },
     "execution_count": 11,
     "metadata": {},
     "output_type": "execute_result"
    }
   ],
   "source": [
    "# Crime per month grouped by year\n",
    "month_by_year_crime= df_cleaned.groupby(\"Year\")['Month_Name'].value_counts().sort_index().reset_index()\n",
    "month_by_year_crime.columns=['Year', 'Month','Crime Count']\n",
    "print(\"\\nMonthly Crime trends grouped by years\")\n",
    "month_by_year_crime\n",
    "month_by_year_crime['Month']"
   ]
  },
  {
   "cell_type": "markdown",
   "id": "bf01e0f7",
   "metadata": {},
   "source": [
    "##### Year-over-year crime trend."
   ]
  },
  {
   "cell_type": "code",
   "execution_count": 12,
   "id": "dddc3853",
   "metadata": {},
   "outputs": [
    {
     "name": "stdout",
     "output_type": "stream",
     "text": [
      "Crime trends by month of the year\n"
     ]
    },
    {
     "data": {
      "text/html": [
       "<div>\n",
       "<style scoped>\n",
       "    .dataframe tbody tr th:only-of-type {\n",
       "        vertical-align: middle;\n",
       "    }\n",
       "\n",
       "    .dataframe tbody tr th {\n",
       "        vertical-align: top;\n",
       "    }\n",
       "\n",
       "    .dataframe thead th {\n",
       "        text-align: right;\n",
       "    }\n",
       "</style>\n",
       "<table border=\"1\" class=\"dataframe\">\n",
       "  <thead>\n",
       "    <tr style=\"text-align: right;\">\n",
       "      <th></th>\n",
       "      <th>Year</th>\n",
       "      <th>Crime Count</th>\n",
       "    </tr>\n",
       "  </thead>\n",
       "  <tbody>\n",
       "    <tr>\n",
       "      <th>0</th>\n",
       "      <td>2001</td>\n",
       "      <td>3885</td>\n",
       "    </tr>\n",
       "    <tr>\n",
       "      <th>1</th>\n",
       "      <td>2002</td>\n",
       "      <td>343949</td>\n",
       "    </tr>\n",
       "    <tr>\n",
       "      <th>2</th>\n",
       "      <td>2003</td>\n",
       "      <td>470679</td>\n",
       "    </tr>\n",
       "    <tr>\n",
       "      <th>3</th>\n",
       "      <td>2004</td>\n",
       "      <td>465912</td>\n",
       "    </tr>\n",
       "    <tr>\n",
       "      <th>4</th>\n",
       "      <td>2005</td>\n",
       "      <td>448697</td>\n",
       "    </tr>\n",
       "    <tr>\n",
       "      <th>5</th>\n",
       "      <td>2006</td>\n",
       "      <td>443717</td>\n",
       "    </tr>\n",
       "    <tr>\n",
       "      <th>6</th>\n",
       "      <td>2007</td>\n",
       "      <td>434014</td>\n",
       "    </tr>\n",
       "    <tr>\n",
       "      <th>7</th>\n",
       "      <td>2008</td>\n",
       "      <td>418429</td>\n",
       "    </tr>\n",
       "    <tr>\n",
       "      <th>8</th>\n",
       "      <td>2009</td>\n",
       "      <td>384681</td>\n",
       "    </tr>\n",
       "    <tr>\n",
       "      <th>9</th>\n",
       "      <td>2010</td>\n",
       "      <td>368987</td>\n",
       "    </tr>\n",
       "    <tr>\n",
       "      <th>10</th>\n",
       "      <td>2011</td>\n",
       "      <td>350175</td>\n",
       "    </tr>\n",
       "    <tr>\n",
       "      <th>11</th>\n",
       "      <td>2012</td>\n",
       "      <td>334437</td>\n",
       "    </tr>\n",
       "    <tr>\n",
       "      <th>12</th>\n",
       "      <td>2013</td>\n",
       "      <td>305146</td>\n",
       "    </tr>\n",
       "    <tr>\n",
       "      <th>13</th>\n",
       "      <td>2014</td>\n",
       "      <td>272562</td>\n",
       "    </tr>\n",
       "    <tr>\n",
       "      <th>14</th>\n",
       "      <td>2015</td>\n",
       "      <td>257047</td>\n",
       "    </tr>\n",
       "    <tr>\n",
       "      <th>15</th>\n",
       "      <td>2016</td>\n",
       "      <td>266344</td>\n",
       "    </tr>\n",
       "    <tr>\n",
       "      <th>16</th>\n",
       "      <td>2017</td>\n",
       "      <td>264091</td>\n",
       "    </tr>\n",
       "    <tr>\n",
       "      <th>17</th>\n",
       "      <td>2018</td>\n",
       "      <td>262602</td>\n",
       "    </tr>\n",
       "    <tr>\n",
       "      <th>18</th>\n",
       "      <td>2019</td>\n",
       "      <td>258254</td>\n",
       "    </tr>\n",
       "    <tr>\n",
       "      <th>19</th>\n",
       "      <td>2020</td>\n",
       "      <td>207937</td>\n",
       "    </tr>\n",
       "    <tr>\n",
       "      <th>20</th>\n",
       "      <td>2021</td>\n",
       "      <td>202157</td>\n",
       "    </tr>\n",
       "    <tr>\n",
       "      <th>21</th>\n",
       "      <td>2022</td>\n",
       "      <td>232253</td>\n",
       "    </tr>\n",
       "    <tr>\n",
       "      <th>22</th>\n",
       "      <td>2023</td>\n",
       "      <td>72470</td>\n",
       "    </tr>\n",
       "  </tbody>\n",
       "</table>\n",
       "</div>"
      ],
      "text/plain": [
       "    Year  Crime Count\n",
       "0   2001         3885\n",
       "1   2002       343949\n",
       "2   2003       470679\n",
       "3   2004       465912\n",
       "4   2005       448697\n",
       "5   2006       443717\n",
       "6   2007       434014\n",
       "7   2008       418429\n",
       "8   2009       384681\n",
       "9   2010       368987\n",
       "10  2011       350175\n",
       "11  2012       334437\n",
       "12  2013       305146\n",
       "13  2014       272562\n",
       "14  2015       257047\n",
       "15  2016       266344\n",
       "16  2017       264091\n",
       "17  2018       262602\n",
       "18  2019       258254\n",
       "19  2020       207937\n",
       "20  2021       202157\n",
       "21  2022       232253\n",
       "22  2023        72470"
      ]
     },
     "execution_count": 12,
     "metadata": {},
     "output_type": "execute_result"
    }
   ],
   "source": [
    "year_crime= df_cleaned[\"Year\"].value_counts().sort_index().reset_index()\n",
    "year_crime.columns=['Year', 'Crime Count']\n",
    "print(\"Crime trends by month of the year\")\n",
    "year_crime"
   ]
  },
  {
   "cell_type": "markdown",
   "id": "b947a109",
   "metadata": {},
   "source": [
    "##### Hourly distribution of crimes (crime patterns across the day)."
   ]
  },
  {
   "cell_type": "code",
   "execution_count": 25,
   "id": "bc0677cd",
   "metadata": {},
   "outputs": [
    {
     "name": "stdout",
     "output_type": "stream",
     "text": [
      "\n",
      " Hourly distribution of crimes\n",
      "\n"
     ]
    },
    {
     "data": {
      "text/html": [
       "<div>\n",
       "<style scoped>\n",
       "    .dataframe tbody tr th:only-of-type {\n",
       "        vertical-align: middle;\n",
       "    }\n",
       "\n",
       "    .dataframe tbody tr th {\n",
       "        vertical-align: top;\n",
       "    }\n",
       "\n",
       "    .dataframe thead th {\n",
       "        text-align: right;\n",
       "    }\n",
       "</style>\n",
       "<table border=\"1\" class=\"dataframe\">\n",
       "  <thead>\n",
       "    <tr style=\"text-align: right;\">\n",
       "      <th></th>\n",
       "      <th>Hour</th>\n",
       "      <th>Crime Count</th>\n",
       "    </tr>\n",
       "  </thead>\n",
       "  <tbody>\n",
       "    <tr>\n",
       "      <th>0</th>\n",
       "      <td>12</td>\n",
       "      <td>404201</td>\n",
       "    </tr>\n",
       "    <tr>\n",
       "      <th>1</th>\n",
       "      <td>19</td>\n",
       "      <td>399018</td>\n",
       "    </tr>\n",
       "    <tr>\n",
       "      <th>2</th>\n",
       "      <td>0</td>\n",
       "      <td>397814</td>\n",
       "    </tr>\n",
       "    <tr>\n",
       "      <th>3</th>\n",
       "      <td>20</td>\n",
       "      <td>396893</td>\n",
       "    </tr>\n",
       "    <tr>\n",
       "      <th>4</th>\n",
       "      <td>18</td>\n",
       "      <td>385901</td>\n",
       "    </tr>\n",
       "    <tr>\n",
       "      <th>5</th>\n",
       "      <td>21</td>\n",
       "      <td>385234</td>\n",
       "    </tr>\n",
       "    <tr>\n",
       "      <th>6</th>\n",
       "      <td>22</td>\n",
       "      <td>378980</td>\n",
       "    </tr>\n",
       "    <tr>\n",
       "      <th>7</th>\n",
       "      <td>15</td>\n",
       "      <td>377304</td>\n",
       "    </tr>\n",
       "    <tr>\n",
       "      <th>8</th>\n",
       "      <td>17</td>\n",
       "      <td>363303</td>\n",
       "    </tr>\n",
       "    <tr>\n",
       "      <th>9</th>\n",
       "      <td>16</td>\n",
       "      <td>357585</td>\n",
       "    </tr>\n",
       "    <tr>\n",
       "      <th>10</th>\n",
       "      <td>14</td>\n",
       "      <td>356375</td>\n",
       "    </tr>\n",
       "    <tr>\n",
       "      <th>11</th>\n",
       "      <td>13</td>\n",
       "      <td>335502</td>\n",
       "    </tr>\n",
       "    <tr>\n",
       "      <th>12</th>\n",
       "      <td>23</td>\n",
       "      <td>315412</td>\n",
       "    </tr>\n",
       "    <tr>\n",
       "      <th>13</th>\n",
       "      <td>11</td>\n",
       "      <td>313876</td>\n",
       "    </tr>\n",
       "    <tr>\n",
       "      <th>14</th>\n",
       "      <td>9</td>\n",
       "      <td>303878</td>\n",
       "    </tr>\n",
       "    <tr>\n",
       "      <th>15</th>\n",
       "      <td>10</td>\n",
       "      <td>298930</td>\n",
       "    </tr>\n",
       "    <tr>\n",
       "      <th>16</th>\n",
       "      <td>8</td>\n",
       "      <td>238501</td>\n",
       "    </tr>\n",
       "    <tr>\n",
       "      <th>17</th>\n",
       "      <td>1</td>\n",
       "      <td>225161</td>\n",
       "    </tr>\n",
       "    <tr>\n",
       "      <th>18</th>\n",
       "      <td>2</td>\n",
       "      <td>190399</td>\n",
       "    </tr>\n",
       "    <tr>\n",
       "      <th>19</th>\n",
       "      <td>7</td>\n",
       "      <td>162268</td>\n",
       "    </tr>\n",
       "    <tr>\n",
       "      <th>20</th>\n",
       "      <td>3</td>\n",
       "      <td>154206</td>\n",
       "    </tr>\n",
       "    <tr>\n",
       "      <th>21</th>\n",
       "      <td>4</td>\n",
       "      <td>117032</td>\n",
       "    </tr>\n",
       "    <tr>\n",
       "      <th>22</th>\n",
       "      <td>6</td>\n",
       "      <td>113200</td>\n",
       "    </tr>\n",
       "    <tr>\n",
       "      <th>23</th>\n",
       "      <td>5</td>\n",
       "      <td>97452</td>\n",
       "    </tr>\n",
       "  </tbody>\n",
       "</table>\n",
       "</div>"
      ],
      "text/plain": [
       "    Hour  Crime Count\n",
       "0     12       404201\n",
       "1     19       399018\n",
       "2      0       397814\n",
       "3     20       396893\n",
       "4     18       385901\n",
       "5     21       385234\n",
       "6     22       378980\n",
       "7     15       377304\n",
       "8     17       363303\n",
       "9     16       357585\n",
       "10    14       356375\n",
       "11    13       335502\n",
       "12    23       315412\n",
       "13    11       313876\n",
       "14     9       303878\n",
       "15    10       298930\n",
       "16     8       238501\n",
       "17     1       225161\n",
       "18     2       190399\n",
       "19     7       162268\n",
       "20     3       154206\n",
       "21     4       117032\n",
       "22     6       113200\n",
       "23     5        97452"
      ]
     },
     "execution_count": 25,
     "metadata": {},
     "output_type": "execute_result"
    }
   ],
   "source": [
    "hourly_crime= df_cleaned['Hour'].value_counts().reset_index()\n",
    "hourly_crime.columns=[\"Hour\", \"Crime Count\"]\n",
    "print(\"\\n Hourly distribution of crimes\\n\")\n",
    "hourly_crime\n",
    "\n"
   ]
  },
  {
   "cell_type": "markdown",
   "id": "2cf86dda",
   "metadata": {},
   "source": [
    "##### Weekday vs Weekend crime comparison."
   ]
  },
  {
   "cell_type": "code",
   "execution_count": 26,
   "id": "77e2395c",
   "metadata": {},
   "outputs": [
    {
     "data": {
      "text/html": [
       "<div>\n",
       "<style scoped>\n",
       "    .dataframe tbody tr th:only-of-type {\n",
       "        vertical-align: middle;\n",
       "    }\n",
       "\n",
       "    .dataframe tbody tr th {\n",
       "        vertical-align: top;\n",
       "    }\n",
       "\n",
       "    .dataframe thead th {\n",
       "        text-align: right;\n",
       "    }\n",
       "</style>\n",
       "<table border=\"1\" class=\"dataframe\">\n",
       "  <thead>\n",
       "    <tr style=\"text-align: right;\">\n",
       "      <th></th>\n",
       "      <th>Is_weekend</th>\n",
       "      <th>Crime count</th>\n",
       "    </tr>\n",
       "  </thead>\n",
       "  <tbody>\n",
       "    <tr>\n",
       "      <th>0</th>\n",
       "      <td>False</td>\n",
       "      <td>5089870</td>\n",
       "    </tr>\n",
       "    <tr>\n",
       "      <th>1</th>\n",
       "      <td>True</td>\n",
       "      <td>1978555</td>\n",
       "    </tr>\n",
       "  </tbody>\n",
       "</table>\n",
       "</div>"
      ],
      "text/plain": [
       "   Is_weekend  Crime count\n",
       "0       False      5089870\n",
       "1        True      1978555"
      ]
     },
     "execution_count": 26,
     "metadata": {},
     "output_type": "execute_result"
    }
   ],
   "source": [
    "weekend_crime= df_cleaned[\"Is_Weekend\"].value_counts().reset_index()\n",
    "weekend_crime.columns=[\"Is_weekend\", \"Crime count\"]\n",
    "weekend_crime"
   ]
  },
  {
   "cell_type": "markdown",
   "id": "28f06112",
   "metadata": {},
   "source": [
    "## Visualization"
   ]
  },
  {
   "cell_type": "markdown",
   "id": "f2af6024",
   "metadata": {},
   "source": [
    "#### Top 10 major crime types (Primary Type)"
   ]
  },
  {
   "cell_type": "code",
   "execution_count": 13,
   "id": "e70ad240",
   "metadata": {},
   "outputs": [
    {
     "data": {
      "image/png": "[encoded data removed]",
      "text/plain": [
       "<Figure size 800x600 with 1 Axes>"
      ]
     },
     "metadata": {},
     "output_type": "display_data"
    }
   ],
   "source": [
    "# Pie chart plot\n",
    "plt.figure(figsize=(8,6))\n",
    "plt.pie(top10crime[\"Crime_Count\"],labels=top10crime[\"Primary Type\"].astype(str),autopct=\"%1.1f%%\")\n",
    "plt.title(\"Top 10 Major crime types\")\n",
    "plt.show()"
   ]
  },
  {
   "cell_type": "markdown",
   "id": "fb218780",
   "metadata": {},
   "source": [
    "#### Top 10 Wards with Highest Reported Crimes"
   ]
  },
  {
   "cell_type": "code",
   "execution_count": 14,
   "id": "514d9a3c",
   "metadata": {},
   "outputs": [
    {
     "data": {
      "image/png": "[encoded data removed]",
      "text/plain": [
       "<Figure size 600x400 with 1 Axes>"
      ]
     },
     "metadata": {},
     "output_type": "display_data"
    }
   ],
   "source": [
    "# Plot\n",
    "plt.figure(figsize=(6,4))\n",
    "plt.bar(top10_wards_crime_rate['Ward'].astype(str), top10_wards_crime_rate['Crime_Count'], color='skyblue')\n",
    "plt.title('Top 10 Wards with Highest Reported Crimes')\n",
    "plt.xlabel('Ward')\n",
    "plt.ylabel('Number of Crimes')\n",
    "plt.show()"
   ]
  },
  {
   "cell_type": "markdown",
   "id": "6daf8511",
   "metadata": {},
   "source": [
    "#### Top 10 districts with Highest Reported Crimes"
   ]
  },
  {
   "cell_type": "code",
   "execution_count": 15,
   "id": "07970e01",
   "metadata": {},
   "outputs": [
    {
     "data": {
      "image/png": "[encoded data removed]",
      "text/plain": [
       "<Figure size 600x400 with 1 Axes>"
      ]
     },
     "metadata": {},
     "output_type": "display_data"
    }
   ],
   "source": [
    "# Plot\n",
    "plt.figure(figsize=(6,4))\n",
    "plt.bar(top10_districts_crime_rate['District'].astype(str), top10_districts_crime_rate['Crime_Count'], color='green')\n",
    "plt.title('Top 10 districts with Highest Reported Crimes')\n",
    "plt.xlabel('Ward')\n",
    "plt.ylabel('Number of Crimes')\n",
    "plt.show()"
   ]
  },
  {
   "cell_type": "markdown",
   "id": "50d251c6",
   "metadata": {},
   "source": [
    "#### Top 10 Blocks with Highest Reported Crimes"
   ]
  },
  {
   "cell_type": "code",
   "execution_count": 16,
   "id": "371134ec",
   "metadata": {},
   "outputs": [
    {
     "data": {
      "image/png": "[encoded data removed]",
      "text/plain": [
       "<Figure size 800x600 with 1 Axes>"
      ]
     },
     "metadata": {},
     "output_type": "display_data"
    }
   ],
   "source": [
    "# Pie chart plot\n",
    "plt.figure(figsize=(8,6))\n",
    "plt.pie(top10_blocks_crime_rate[\"Crime_Count\"],labels=top10_blocks_crime_rate[\"Block\"].astype(str),autopct=\"%1.1f%%\")\n",
    "plt.title(\"Top 10 Blocks with Highest Reported Crimes\")\n",
    "plt.show()"
   ]
  },
  {
   "cell_type": "markdown",
   "id": "e7a762db",
   "metadata": {},
   "source": [
    "#### Top 10 Location description with Highest Reported Crimes"
   ]
  },
  {
   "cell_type": "code",
   "execution_count": 17,
   "id": "55aae4f4",
   "metadata": {},
   "outputs": [
    {
     "data": {
      "image/png": "[encoded data removed]",
      "text/plain": [
       "<Figure size 800x600 with 1 Axes>"
      ]
     },
     "metadata": {},
     "output_type": "display_data"
    }
   ],
   "source": [
    "plt.figure(figsize=(8,6))\n",
    "plt.bar(crime_location['Location Description'], crime_location['Crime_Count'], color='orange')\n",
    "plt.title(\"Top 10 Location description with Highest Reported Crimes\")\n",
    "plt.xlabel(\"Location Description\")\n",
    "plt.ylabel(\"Crime Count\")\n",
    "plt.xticks(rotation=90)\n",
    "plt.show()"
   ]
  },
  {
   "cell_type": "markdown",
   "id": "0de3f67e",
   "metadata": {},
   "source": [
    "#### Crime frequency by day of the week."
   ]
  },
  {
   "cell_type": "code",
   "execution_count": 18,
   "id": "ace59f65",
   "metadata": {},
   "outputs": [
    {
     "data": {
      "image/png": "[encoded data removed]",
      "text/plain": [
       "<Figure size 800x600 with 1 Axes>"
      ]
     },
     "metadata": {},
     "output_type": "display_data"
    }
   ],
   "source": [
    "plt.figure(figsize=(8,6))\n",
    "plt.pie(days_crime[\"Crime Count\"], labels=days_crime[\"Days of the week\"], autopct=\"%1.1f%%\")\n",
    "plt.title(\"Crime frequency by day of the week.\")\n",
    "plt.show()"
   ]
  },
  {
   "cell_type": "markdown",
   "id": "04e8f3b0",
   "metadata": {},
   "source": [
    "#### Crime trends by month of the year."
   ]
  },
  {
   "cell_type": "code",
   "execution_count": 19,
   "id": "e9ef1c4b",
   "metadata": {},
   "outputs": [
    {
     "data": {
      "text/plain": [
       "<matplotlib.legend.Legend at 0x27ca3f99eb0>"
      ]
     },
     "execution_count": 19,
     "metadata": {},
     "output_type": "execute_result"
    },
    {
     "data": {
      "image/png": "[encoded data removed]",
      "text/plain": [
       "<Figure size 1000x600 with 1 Axes>"
      ]
     },
     "metadata": {},
     "output_type": "display_data"
    }
   ],
   "source": [
    "# To for clearity of our chat let select recent year\n",
    "# Only keep recent years to avoid clutter\n",
    "month_by_year_crime = month_by_year_crime[month_by_year_crime['Year']>=2019]\n",
    "# creating pivot data to plot years as series and month as x-axis\n",
    "pivot_data= month_by_year_crime.pivot(index='Month', columns='Year', values='Crime Count')\n",
    "# plot\n",
    "pivot_data.plot(kind='bar',figsize=(10,6))\n",
    "plt.title(\"Monthly Crimes over the years\")\n",
    "plt.xlabel(\"Months\")\n",
    "plt.ylabel(\"Number of Crime\")\n",
    "plt.xticks(rotation=55)\n",
    "plt.grid()\n",
    "plt.legend(title=\"Month\")"
   ]
  },
  {
   "cell_type": "markdown",
   "id": "3d85f19f",
   "metadata": {},
   "source": []
  }
 ],
 "metadata": {
  "kernelspec": {
   "display_name": "base",
   "language": "python",
   "name": "python3"
  },
  "language_info": {
   "codemirror_mode": {
    "name": "ipython",
    "version": 3
   },
   "file_extension": ".py",
   "mimetype": "text/x-python",
   "name": "python",
   "nbconvert_exporter": "python",
   "pygments_lexer": "ipython3",
   "version": "3.12.7"
  }
 },
 "nbformat": 4,
 "nbformat_minor": 5
}

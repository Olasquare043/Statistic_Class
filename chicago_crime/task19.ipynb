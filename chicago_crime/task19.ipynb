{
 "cells": [
  {
   "cell_type": "markdown",
   "id": "3239d361",
   "metadata": {},
   "source": [
    "# Chicago Crime Data Analysis"
   ]
  },
  {
   "cell_type": "markdown",
   "id": "06f2aab8",
   "metadata": {},
   "source": [
    "## Data ingestion: Dataset Setup and Loading"
   ]
  },
  {
   "cell_type": "code",
   "execution_count": 1,
   "id": "5ad2ada8",
   "metadata": {},
   "outputs": [],
   "source": [
    "import pandas as pd\n",
    "import matplotlib.pyplot as plt\n",
    "\n",
    "# loading the data\n",
    "path=\"../data/archive_3.zip\"\n",
    "df= pd.read_csv(path,low_memory=True, compression='zip')"
   ]
  },
  {
   "cell_type": "markdown",
   "id": "b3a6bacf",
   "metadata": {},
   "source": [
    "## Preliminary Data Analysis"
   ]
  },
  {
   "cell_type": "code",
   "execution_count": 2,
   "id": "f633dd59",
   "metadata": {},
   "outputs": [
    {
     "name": "stdout",
     "output_type": "stream",
     "text": [
      "============ OVERVIEW OF THE DATA =========\n",
      "\n",
      "<class 'pandas.core.frame.DataFrame'>\n",
      "RangeIndex: 7784664 entries, 0 to 7784663\n",
      "Data columns (total 22 columns):\n",
      " #   Column                Dtype  \n",
      "---  ------                -----  \n",
      " 0   ID                    int64  \n",
      " 1   Case Number           object \n",
      " 2   Date                  object \n",
      " 3   Block                 object \n",
      " 4   IUCR                  object \n",
      " 5   Primary Type          object \n",
      " 6   Description           object \n",
      " 7   Location Description  object \n",
      " 8   Arrest                bool   \n",
      " 9   Domestic              bool   \n",
      " 10  Beat                  int64  \n",
      " 11  District              float64\n",
      " 12  Ward                  float64\n",
      " 13  Community Area        float64\n",
      " 14  FBI Code              object \n",
      " 15  X Coordinate          float64\n",
      " 16  Y Coordinate          float64\n",
      " 17  Year                  int64  \n",
      " 18  Updated On            object \n",
      " 19  Latitude              float64\n",
      " 20  Longitude             float64\n",
      " 21  Location              object \n",
      "dtypes: bool(2), float64(7), int64(3), object(10)\n",
      "memory usage: 1.2+ GB\n",
      "Data info: None\n",
      "\n",
      "Column list: Index(['ID', 'Case Number', 'Date', 'Block', 'IUCR', 'Primary Type',\n",
      "       'Description', 'Location Description', 'Arrest', 'Domestic', 'Beat',\n",
      "       'District', 'Ward', 'Community Area', 'FBI Code', 'X Coordinate',\n",
      "       'Y Coordinate', 'Year', 'Updated On', 'Latitude', 'Longitude',\n",
      "       'Location'],\n",
      "      dtype='object')\n",
      "\n",
      "\n",
      "============ Description of the data =========\n",
      "\n",
      "                  ID Case Number                    Date             Block  \\\n",
      "count   7.784664e+06     7784660                 7784664           7784664   \n",
      "unique           NaN     7784121                 3207478             62845   \n",
      "top              NaN    HJ590004  01/01/2008 12:01:00 AM  100XX W OHARE ST   \n",
      "freq             NaN           6                     304             16486   \n",
      "mean    7.026439e+06         NaN                     NaN               NaN   \n",
      "std     3.502657e+06         NaN                     NaN               NaN   \n",
      "min     6.340000e+02         NaN                     NaN               NaN   \n",
      "25%     3.792574e+06         NaN                     NaN               NaN   \n",
      "50%     7.029327e+06         NaN                     NaN               NaN   \n",
      "75%     1.013113e+07         NaN                     NaN               NaN   \n",
      "max     1.305643e+07         NaN                     NaN               NaN   \n",
      "\n",
      "           IUCR Primary Type Description Location Description   Arrest  \\\n",
      "count   7784664      7784664     7784664              7774283  7784664   \n",
      "unique      404           36         544                  215        2   \n",
      "top        0820        THEFT      SIMPLE               STREET    False   \n",
      "freq     631091      1642148      913484              2026828  5749900   \n",
      "mean        NaN          NaN         NaN                  NaN      NaN   \n",
      "std         NaN          NaN         NaN                  NaN      NaN   \n",
      "min         NaN          NaN         NaN                  NaN      NaN   \n",
      "25%         NaN          NaN         NaN                  NaN      NaN   \n",
      "50%         NaN          NaN         NaN                  NaN      NaN   \n",
      "75%         NaN          NaN         NaN                  NaN      NaN   \n",
      "max         NaN          NaN         NaN                  NaN      NaN   \n",
      "\n",
      "       Domestic  ...          Ward  Community Area  FBI Code  X Coordinate  \\\n",
      "count   7784664  ...  7.169816e+06    7.171188e+06   7784664  7.697816e+06   \n",
      "unique        2  ...           NaN             NaN        26           NaN   \n",
      "top       False  ...           NaN             NaN        06           NaN   \n",
      "freq    6708370  ...           NaN             NaN   1642148           NaN   \n",
      "mean        NaN  ...  2.275420e+01    3.748472e+01       NaN  1.164601e+06   \n",
      "std         NaN  ...  1.385106e+01    2.154115e+01       NaN  1.684658e+04   \n",
      "min         NaN  ...  1.000000e+00    0.000000e+00       NaN  0.000000e+00   \n",
      "25%         NaN  ...  1.000000e+01    2.300000e+01       NaN  1.152976e+06   \n",
      "50%         NaN  ...  2.300000e+01    3.200000e+01       NaN  1.166110e+06   \n",
      "75%         NaN  ...  3.400000e+01    5.700000e+01       NaN  1.176372e+06   \n",
      "max         NaN  ...  5.000000e+01    7.700000e+01       NaN  1.205119e+06   \n",
      "\n",
      "        Y Coordinate          Year              Updated On      Latitude  \\\n",
      "count   7.697816e+06  7.784664e+06                 7784664  7.697816e+06   \n",
      "unique           NaN           NaN                    5561           NaN   \n",
      "top              NaN           NaN  02/10/2018 03:50:01 PM           NaN   \n",
      "freq             NaN           NaN                 2787942           NaN   \n",
      "mean    1.885783e+06  2.009944e+03                     NaN  4.184218e+01   \n",
      "std     3.227531e+04  6.260628e+00                     NaN  8.879598e-02   \n",
      "min     0.000000e+00  2.001000e+03                     NaN  3.661945e+01   \n",
      "25%     1.859073e+06  2.005000e+03                     NaN  4.176871e+01   \n",
      "50%     1.890730e+06  2.009000e+03                     NaN  4.185591e+01   \n",
      "75%     1.909273e+06  2.015000e+03                     NaN  4.190677e+01   \n",
      "max     1.951622e+06  2.023000e+03                     NaN  4.202291e+01   \n",
      "\n",
      "           Longitude                       Location  \n",
      "count   7.697816e+06                        7697816  \n",
      "unique           NaN                         890516  \n",
      "top              NaN  (41.976290414, -87.905227221)  \n",
      "freq             NaN                          14272  \n",
      "mean   -8.767149e+01                            NaN  \n",
      "std     6.108257e-02                            NaN  \n",
      "min    -9.168657e+01                            NaN  \n",
      "25%    -8.771367e+01                            NaN  \n",
      "50%    -8.766584e+01                            NaN  \n",
      "75%    -8.762819e+01                            NaN  \n",
      "max    -8.752453e+01                            NaN  \n",
      "\n",
      "[11 rows x 22 columns]\n"
     ]
    }
   ],
   "source": [
    "# let take a snap shot view on our data\n",
    "print(\"============ OVERVIEW OF THE DATA =========\\n\")\n",
    "print(f\"Data info: {df.info()}\\n\")\n",
    "\n",
    "print(f\"Column list: {df.columns}\\n\")\n",
    "\n",
    "print(\"\\n============ Description of the data =========\\n\")\n",
    "print(f\"{df.describe(include='all')}\")\n",
    "\n"
   ]
  },
  {
   "cell_type": "code",
   "execution_count": 3,
   "id": "ac89c30d",
   "metadata": {},
   "outputs": [
    {
     "name": "stdout",
     "output_type": "stream",
     "text": [
      "\n",
      "The last five rows\n",
      "         ID Case Number                    Date                  Block  IUCR  \\\n",
      "0  10224738    HY411648  09/05/2015 01:30:00 PM        043XX S WOOD ST  0486   \n",
      "1  10224739    HY411615  09/04/2015 11:30:00 AM    008XX N CENTRAL AVE  0870   \n",
      "2  11646166    JC213529  09/01/2018 12:01:00 AM  082XX S INGLESIDE AVE  0810   \n",
      "3  10224740    HY411595  09/05/2015 12:45:00 PM      035XX W BARRY AVE  2023   \n",
      "4  10224741    HY411610  09/05/2015 01:00:00 PM    0000X N LARAMIE AVE  0560   \n",
      "\n",
      "  Primary Type              Description Location Description  Arrest  \\\n",
      "0      BATTERY  DOMESTIC BATTERY SIMPLE            RESIDENCE   False   \n",
      "1        THEFT           POCKET-PICKING              CTA BUS   False   \n",
      "2        THEFT                OVER $500            RESIDENCE   False   \n",
      "3    NARCOTICS    POSS: HEROIN(BRN/TAN)             SIDEWALK    True   \n",
      "4      ASSAULT                   SIMPLE            APARTMENT   False   \n",
      "\n",
      "   Domestic  ...  Ward  Community Area  FBI Code  X Coordinate Y Coordinate  \\\n",
      "0      True  ...  12.0            61.0       08B     1165074.0    1875917.0   \n",
      "1     False  ...  29.0            25.0        06     1138875.0    1904869.0   \n",
      "2      True  ...   8.0            44.0        06           NaN          NaN   \n",
      "3     False  ...  35.0            21.0        18     1152037.0    1920384.0   \n",
      "4      True  ...  28.0            25.0       08A     1141706.0    1900086.0   \n",
      "\n",
      "   Year              Updated On   Latitude  Longitude  \\\n",
      "0  2015  02/10/2018 03:50:01 PM  41.815117 -87.670000   \n",
      "1  2015  02/10/2018 03:50:01 PM  41.895080 -87.765400   \n",
      "2  2018  04/06/2019 04:04:43 PM        NaN        NaN   \n",
      "3  2015  02/10/2018 03:50:01 PM  41.937406 -87.716650   \n",
      "4  2015  02/10/2018 03:50:01 PM  41.881903 -87.755121   \n",
      "\n",
      "                        Location  \n",
      "0  (41.815117282, -87.669999562)  \n",
      "1  (41.895080471, -87.765400451)  \n",
      "2                            NaN  \n",
      "3  (41.937405765, -87.716649687)  \n",
      "4  (41.881903443, -87.755121152)  \n",
      "\n",
      "[5 rows x 22 columns]\n"
     ]
    }
   ],
   "source": [
    "# checking first five rows\n",
    "print (\"\\nThe last five rows\")\n",
    "print(df.head())\n"
   ]
  },
  {
   "cell_type": "code",
   "execution_count": 4,
   "id": "d652104a",
   "metadata": {},
   "outputs": [
    {
     "name": "stdout",
     "output_type": "stream",
     "text": [
      "\n",
      "The last five rows\n",
      "               ID Case Number                    Date                Block  \\\n",
      "7784659  12847575    JF420478  09/01/2022 05:00:00 AM      005XX W SURF ST   \n",
      "7784660  12847801    JF420319  07/08/2022 12:00:00 AM  114XX S PRAIRIE AVE   \n",
      "7784661  12847324    JF420102  09/27/2022 11:00:00 AM      023XX E 70TH ST   \n",
      "7784662  12847570    JF420427  09/03/2022 10:25:00 AM   052XX W CARMEN AVE   \n",
      "7784663  12840464    JF411839  09/26/2022 07:20:00 PM    0000X N MASON AVE   \n",
      "\n",
      "         IUCR        Primary Type                    Description  \\\n",
      "7784659  2825       OTHER OFFENSE        HARASSMENT BY TELEPHONE   \n",
      "7784660  1130  DECEPTIVE PRACTICE       FRAUD OR CONFIDENCE GAME   \n",
      "7784661  0810               THEFT                      OVER $500   \n",
      "7784662  2021           NARCOTICS         POSSESS - BARBITURATES   \n",
      "7784663  143A   WEAPONS VIOLATION  UNLAWFUL POSSESSION - HANDGUN   \n",
      "\n",
      "                    Location Description  Arrest  Domestic  ...  Ward  \\\n",
      "7784659                        RESIDENCE   False      True  ...  44.0   \n",
      "7784660                           STREET   False     False  ...   9.0   \n",
      "7784661                        RESIDENCE   False     False  ...   5.0   \n",
      "7784662  RESIDENCE - YARD (FRONT / BACK)    True     False  ...  45.0   \n",
      "7784663                         SIDEWALK    True     False  ...  29.0   \n",
      "\n",
      "         Community Area  FBI Code  X Coordinate Y Coordinate  Year  \\\n",
      "7784659             6.0        26     1172497.0    1919410.0  2022   \n",
      "7784660            49.0        11     1179966.0    1828818.0  2022   \n",
      "7784661            43.0        06     1193181.0    1859005.0  2022   \n",
      "7784662            11.0        18     1140553.0    1933418.0  2022   \n",
      "7784663            25.0        15     1136773.0    1899652.0  2022   \n",
      "\n",
      "                     Updated On   Latitude  Longitude  \\\n",
      "7784659  01/03/2023 03:46:28 PM  41.934305 -87.641485   \n",
      "7784660  01/03/2023 03:46:28 PM  41.685544 -87.616813   \n",
      "7784661  01/03/2023 03:46:28 PM  41.768068 -87.567453   \n",
      "7784662  01/03/2023 03:46:28 PM  41.973391 -87.758535   \n",
      "7784663  01/03/2023 03:46:28 PM  41.880802 -87.773246   \n",
      "\n",
      "                              Location  \n",
      "7784659  (41.934304581, -87.641484982)  \n",
      "7784660  (41.685543881, -87.616812541)  \n",
      "7784661  (41.768068052, -87.567452932)  \n",
      "7784662  (41.973391184, -87.758534512)  \n",
      "7784663  (41.880802263, -87.773245737)  \n",
      "\n",
      "[5 rows x 22 columns]\n"
     ]
    }
   ],
   "source": [
    "# checking last five rows\n",
    "print (\"\\nThe last five rows\")\n",
    "print(df.tail())"
   ]
  },
  {
   "cell_type": "code",
   "execution_count": 5,
   "id": "dee81519",
   "metadata": {},
   "outputs": [
    {
     "data": {
      "text/plain": [
       "ID                           0\n",
       "Case Number                  4\n",
       "Date                         0\n",
       "Block                        0\n",
       "IUCR                         0\n",
       "Primary Type                 0\n",
       "Description                  0\n",
       "Location Description     10381\n",
       "Arrest                       0\n",
       "Domestic                     0\n",
       "Beat                         0\n",
       "District                    47\n",
       "Ward                    614848\n",
       "Community Area          613476\n",
       "FBI Code                     0\n",
       "X Coordinate             86848\n",
       "Y Coordinate             86848\n",
       "Year                         0\n",
       "Updated On                   0\n",
       "Latitude                 86848\n",
       "Longitude                86848\n",
       "Location                 86848\n",
       "dtype: int64"
      ]
     },
     "execution_count": 5,
     "metadata": {},
     "output_type": "execute_result"
    }
   ],
   "source": [
    "# checking the missing data\n",
    "df.isna().sum()"
   ]
  },
  {
   "cell_type": "markdown",
   "id": "5a1f79a7",
   "metadata": {},
   "source": [
    "## Data Cleaning and Preprocessing"
   ]
  },
  {
   "cell_type": "markdown",
   "id": "76a32a28",
   "metadata": {},
   "source": [
    "### let change some data type first"
   ]
  },
  {
   "cell_type": "code",
   "execution_count": 6,
   "id": "f6c6906e",
   "metadata": {},
   "outputs": [],
   "source": [
    "# make a copy of dataset\n",
    "new_df=df.copy()"
   ]
  },
  {
   "cell_type": "markdown",
   "id": "81f37bbb",
   "metadata": {},
   "source": [
    "## Descriptive Data Analysis(DDA)"
   ]
  },
  {
   "cell_type": "markdown",
   "id": "28f06112",
   "metadata": {},
   "source": [
    "## Visualization"
   ]
  }
 ],
 "metadata": {
  "kernelspec": {
   "display_name": "base",
   "language": "python",
   "name": "python3"
  },
  "language_info": {
   "codemirror_mode": {
    "name": "ipython",
    "version": 3
   },
   "file_extension": ".py",
   "mimetype": "text/x-python",
   "name": "python",
   "nbconvert_exporter": "python",
   "pygments_lexer": "ipython3",
   "version": "3.12.7"
  }
 },
 "nbformat": 4,
 "nbformat_minor": 5
}

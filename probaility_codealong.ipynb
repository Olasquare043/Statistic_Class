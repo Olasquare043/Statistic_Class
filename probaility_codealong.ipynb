{
 "cells": [
  {
   "cell_type": "markdown",
   "id": "aa7d4951",
   "metadata": {},
   "source": [
    "# Code along for Probability "
   ]
  },
  {
   "cell_type": "markdown",
   "id": "d3ed5fda",
   "metadata": {},
   "source": [
    "## import libries"
   ]
  },
  {
   "cell_type": "markdown",
   "id": "9f5f2c4a",
   "metadata": {},
   "source": [
    "## Load files\n",
    "\n",
    "- extract the zip\n",
    "- load to dataframe\n",
    "- load each data set into variable"
   ]
  },
  {
   "cell_type": "markdown",
   "id": "aae9bc00",
   "metadata": {},
   "source": [
    "## Check for column interset for all the datas"
   ]
  },
  {
   "cell_type": "markdown",
   "id": "ac0a9c73",
   "metadata": {},
   "source": [
    "## Merge the data set applicable"
   ]
  },
  {
   "cell_type": "markdown",
   "id": "9ed8debd",
   "metadata": {},
   "source": []
  }
 ],
 "metadata": {
  "language_info": {
   "name": "python"
  }
 },
 "nbformat": 4,
 "nbformat_minor": 5
}

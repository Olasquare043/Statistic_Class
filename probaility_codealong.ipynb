{
 "cells": [
  {
   "cell_type": "markdown",
   "id": "aa7d4951",
   "metadata": {},
   "source": [
    "# Code along for Probability "
   ]
  },
  {
   "cell_type": "markdown",
   "id": "d3ed5fda",
   "metadata": {},
   "source": [
    "## Import libries"
   ]
  },
  {
   "cell_type": "markdown",
   "id": "9f5f2c4a",
   "metadata": {},
   "source": [
    "## Load files\n",
    "\n",
    "- extract the zip\n",
    "- load to dataframe\n",
    "- load each data set into variable"
   ]
  },
  {
   "cell_type": "markdown",
   "id": "aae9bc00",
   "metadata": {},
   "source": [
    "## Check for column interset for all the datas"
   ]
  },
  {
   "cell_type": "markdown",
   "id": "ac0a9c73",
   "metadata": {},
   "source": [
    "## Merge the data set "
   ]
  },
  {
   "cell_type": "markdown",
   "id": "9ed8debd",
   "metadata": {},
   "source": []
  },
  {
   "cell_type": "markdown",
   "id": "2518fd0f",
   "metadata": {},
   "source": [
    "## Probability"
   ]
  },
  {
   "cell_type": "markdown",
   "id": "c772c604",
   "metadata": {},
   "source": [
    "#### 1. Probability of an Event\n",
    "Question: What is the probability that a randomly chosen order received a 5-star review?"
   ]
  },
  {
   "cell_type": "markdown",
   "id": "4010a4f5",
   "metadata": {},
   "source": [
    "#### 2. Complementary Probability\n",
    "\n",
    "Concept: \n",
    "𝑃(A complement) = 1−P(A)\n",
    "\n",
    "Question: What is the probability that a review is not 5 stars?"
   ]
  },
  {
   "cell_type": "markdown",
   "id": "56b6c0cb",
   "metadata": {},
   "source": [
    "**Interpretation**"
   ]
  },
  {
   "cell_type": "markdown",
   "id": "eed188db",
   "metadata": {},
   "source": [
    "#### 3. Joint Probability\n",
    "\n",
    "Concept: P(A∩B)\n",
    "\n",
    "Question: What is the probability that an order was paid by credit card and received a 5-star review?"
   ]
  },
  {
   "cell_type": "markdown",
   "id": "d0753c0f",
   "metadata": {},
   "source": [
    "**Interpretation**"
   ]
  },
  {
   "cell_type": "markdown",
   "id": "498abb74",
   "metadata": {},
   "source": [
    "#### 4. Conditional Probability\n",
    "\n",
    "Concept:\n",
    "\n",
    "`𝑃(𝐴∣𝐵)=𝑃(𝐴∩𝐵)/𝑃(𝐵)` \n",
    "                \n",
    "`𝑃(𝐴∣𝐵)= Favourable_outcomes / Total_credit_card_outcomes`\n",
    "\n",
    "\n",
    "Question: What is the probability that a review is 5 stars given that the payment was made by credit card?\n",
    "Do it for all:\n",
    "𝑃(5∣credit_card)\n",
    "\n",
    "P(5∣voucher)\n",
    "\n",
    "P(5∣boleto)"
   ]
  },
  {
   "cell_type": "markdown",
   "id": "c52357d7",
   "metadata": {},
   "source": [
    "**Interpretation**"
   ]
  },
  {
   "cell_type": "markdown",
   "id": "a2d8948f",
   "metadata": {},
   "source": [
    "#### 5. Bayes’ Rule \n",
    "\n",
    "Concept:\n",
    "\n",
    "`P(A∣B )= P(B∣A)⋅P(A) / P(B)`\n",
    "\n",
    "A = payment\n",
    "\n",
    "B = review =5\n",
    "\n",
    "`P(payment | review=5) = P(review=5 | payment).p(payment) / p(review =5)`\n",
    "\n",
    "\n",
    "Question: Given that an order received a 5-star review, what is the probability that it was paid with each payment method (credit_card, boleto, voucher)?\n",
    "\n",
    "\n",
    "Among only the 5-star reviews, how are payment methods distributed?"
   ]
  },
  {
   "cell_type": "markdown",
   "id": "07d0f364",
   "metadata": {},
   "source": [
    "**Interpretation**"
   ]
  },
  {
   "cell_type": "markdown",
   "id": "b02e6f9c",
   "metadata": {},
   "source": [
    "## **Expectation and Variance**"
   ]
  },
  {
   "cell_type": "markdown",
   "id": "ba14b26f",
   "metadata": {},
   "source": [
    "**Question1**\n",
    "\n",
    "What is the average delivery time (expectation) and variance (spread/consistency) of deliveries?"
   ]
  },
  {
   "cell_type": "markdown",
   "id": "96d0a9dd",
   "metadata": {},
   "source": [
    "**Interpretation**"
   ]
  },
  {
   "cell_type": "markdown",
   "id": "5cd40021",
   "metadata": {},
   "source": [
    "**Question2**\n",
    "\n",
    "What is the expected customer review score and how much do reviews vary?"
   ]
  },
  {
   "cell_type": "markdown",
   "id": "80c6c389",
   "metadata": {},
   "source": [
    "**Interpretation**"
   ]
  },
  {
   "cell_type": "markdown",
   "id": "6df7deee",
   "metadata": {},
   "source": [
    "## **Sampling & Estimation**"
   ]
  },
  {
   "cell_type": "markdown",
   "id": "6bc10c7f",
   "metadata": {},
   "source": [
    "**Question 1:**\n",
    "\n",
    " Take a random sample of 50 orders"
   ]
  },
  {
   "cell_type": "markdown",
   "id": "f24d70f1",
   "metadata": {},
   "source": [
    "**Question 2:**\n",
    "\n",
    " Take a random sample of 200 orders"
   ]
  },
  {
   "cell_type": "markdown",
   "id": "725f8a5a",
   "metadata": {},
   "source": [
    "**Interpretation**"
   ]
  },
  {
   "cell_type": "markdown",
   "id": "5a8589f2",
   "metadata": {},
   "source": [
    "## **Law of Large Numbers (LLN)**"
   ]
  },
  {
   "cell_type": "markdown",
   "id": "d2d2dc79",
   "metadata": {},
   "source": [
    "- The Law of Large Numbers says,\n",
    "\n",
    "\"As the sample size increases, the sample mean → converges to the true population mean\"\n",
    "\n",
    "- Let us experiment a bit..."
   ]
  },
  {
   "cell_type": "markdown",
   "id": "b1c36a4c",
   "metadata": {},
   "source": [
    "## **Central Limit Theorem (CLT)**"
   ]
  },
  {
   "cell_type": "markdown",
   "id": "c1b79fc7",
   "metadata": {},
   "source": [
    "**Question:**\n",
    "\n",
    "Collect 100 samples of review_scores, take the mean. Repeat the same process a thousand times.\n",
    "Then take all the 1000 means use it to plot a histogram and lets see what the shape or distribution would look like.\n"
   ]
  },
  {
   "cell_type": "markdown",
   "id": "bd12cafd",
   "metadata": {},
   "source": [
    "## **One-Sample Test**"
   ]
  }
 ],
 "metadata": {
  "language_info": {
   "name": "python"
  }
 },
 "nbformat": 4,
 "nbformat_minor": 5
}
